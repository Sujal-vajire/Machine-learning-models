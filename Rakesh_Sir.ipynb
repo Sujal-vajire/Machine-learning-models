{
  "nbformat": 4,
  "nbformat_minor": 0,
  "metadata": {
    "colab": {
      "name": "Untitled0.ipynb",
      "provenance": [],
      "collapsed_sections": [],
      "include_colab_link": true
    },
    "kernelspec": {
      "name": "python3",
      "display_name": "Python 3"
    },
    "language_info": {
      "name": "python"
    }
  },
  "cells": [
    {
      "cell_type": "markdown",
      "metadata": {
        "id": "view-in-github",
        "colab_type": "text"
      },
      "source": [
        "<a href=\"https://colab.research.google.com/github/Sujal-vajire/Machine-learning-models/blob/main/Rakesh_Sir.ipynb\" target=\"_parent\"><img src=\"https://colab.research.google.com/assets/colab-badge.svg\" alt=\"Open In Colab\"/></a>"
      ]
    },
    {
      "cell_type": "code",
      "execution_count": 1,
      "metadata": {
        "id": "XhAUWzFK6v5m"
      },
      "outputs": [],
      "source": [
        "import pandas as pd\n",
        "import numpy as np\n",
        "import matplotlib.pyplot as plt\n",
        "from sklearn.svm import SVC\n",
        "from sklearn.ensemble import RandomForestClassifier\n",
        "from sklearn.metrics import roc_curve,auc\n",
        "from sklearn.model_selection import train_test_split \n",
        "from xgboost import XGBRegressor\n",
        "import tensorflow as tf\n",
        "import xgboost as xgb\n",
        "import seaborn as sns\n"
      ]
    },
    {
      "cell_type": "code",
      "source": [
        "df = pd.read_csv(\"new.csv\")"
      ],
      "metadata": {
        "id": "XqdTcB6B8h4n"
      },
      "execution_count": 75,
      "outputs": []
    },
    {
      "cell_type": "code",
      "source": [
        "df.shape"
      ],
      "metadata": {
        "id": "HiwhHspd8qYf",
        "colab": {
          "base_uri": "https://localhost:8080/"
        },
        "outputId": "3c460f2e-bbae-46dc-dc2f-0594f08329b5"
      },
      "execution_count": 3,
      "outputs": [
        {
          "output_type": "execute_result",
          "data": {
            "text/plain": [
              "(111, 4)"
            ]
          },
          "metadata": {},
          "execution_count": 3
        }
      ]
    },
    {
      "cell_type": "code",
      "source": [
        "df.columns"
      ],
      "metadata": {
        "id": "1ZZw3v848zHN",
        "colab": {
          "base_uri": "https://localhost:8080/"
        },
        "outputId": "39fb64bc-9bc0-4cb6-fb40-ad0859b932f6"
      },
      "execution_count": 4,
      "outputs": [
        {
          "output_type": "execute_result",
          "data": {
            "text/plain": [
              "Index(['Strain', 'f', 'N', 'MAR'], dtype='object')"
            ]
          },
          "metadata": {},
          "execution_count": 4
        }
      ]
    },
    {
      "cell_type": "code",
      "source": [
        "df.head"
      ],
      "metadata": {
        "id": "rHmY3a-3897M",
        "colab": {
          "base_uri": "https://localhost:8080/"
        },
        "outputId": "f619ba6f-1db4-4a91-e08b-6750e0d619d5"
      },
      "execution_count": 5,
      "outputs": [
        {
          "output_type": "execute_result",
          "data": {
            "text/plain": [
              "<bound method NDFrame.head of      Strain  f     N   MAR\n",
              "0       850  1   500  0.00\n",
              "1       650  1   500  0.00\n",
              "2       650  1   500  0.25\n",
              "3      1330  1   500  1.10\n",
              "4      1330  1   500  1.25\n",
              "..      ... ..   ...   ...\n",
              "106    2320  1   300  1.29\n",
              "107    3090  1   300  3.44\n",
              "108    3090  1   300  1.52\n",
              "109    3500  2  9600  6.38\n",
              "110    3500  2  9600  5.34\n",
              "\n",
              "[111 rows x 4 columns]>"
            ]
          },
          "metadata": {},
          "execution_count": 5
        }
      ]
    },
    {
      "cell_type": "code",
      "source": [
        "df['MAR'].unique()"
      ],
      "metadata": {
        "id": "SttP7IBMmJOd",
        "colab": {
          "base_uri": "https://localhost:8080/"
        },
        "outputId": "bc38c5be-230e-428b-8455-e1a201b78918"
      },
      "execution_count": 6,
      "outputs": [
        {
          "output_type": "execute_result",
          "data": {
            "text/plain": [
              "array([0.   , 0.25 , 1.1  , 1.25 , 0.8  , 0.7  , 1.5  , 0.5  , 2.2  ,\n",
              "       1.   , 0.75 , 0.6  , 0.3  , 0.4  , 1.4  , 0.55 , 0.35 , 0.9  ,\n",
              "       0.89 , 0.81 , 0.15 , 0.892, 0.573, 0.749, 0.429, 2.29 , 1.37 ,\n",
              "       2.31 , 1.33 , 1.94 , 1.3  , 1.2  , 1.9  , 1.75 , 1.54 , 0.94 ,\n",
              "       1.08 , 0.91 , 0.65 , 0.74 , 0.62 , 0.84 , 0.78 , 0.88 , 1.12 ,\n",
              "       0.92 , 0.77 , 0.61 , 1.22 , 1.02 , 0.72 , 0.87 , 0.54 , 0.99 ,\n",
              "       2.16 , 1.18 , 2.9  , 4.2  , 1.29 , 0.27 , 1.99 , 0.59 , 3.27 ,\n",
              "       1.15 , 0.57 , 1.73 , 1.19 , 2.19 , 3.44 , 1.52 , 6.38 , 5.34 ])"
            ]
          },
          "metadata": {},
          "execution_count": 6
        }
      ]
    },
    {
      "cell_type": "code",
      "source": [
        "collist= df.columns"
      ],
      "metadata": {
        "id": "JPyZ_XCPmPE1"
      },
      "execution_count": 7,
      "outputs": []
    },
    {
      "cell_type": "code",
      "source": [
        "collist"
      ],
      "metadata": {
        "id": "wwSinuGpmQp7",
        "colab": {
          "base_uri": "https://localhost:8080/"
        },
        "outputId": "a973600d-eca5-4835-f893-e3a753322da0"
      },
      "execution_count": 8,
      "outputs": [
        {
          "output_type": "execute_result",
          "data": {
            "text/plain": [
              "Index(['Strain', 'f', 'N', 'MAR'], dtype='object')"
            ]
          },
          "metadata": {},
          "execution_count": 8
        }
      ]
    },
    {
      "cell_type": "code",
      "source": [
        "for a in collist:\n",
        "  print(a)"
      ],
      "metadata": {
        "id": "xfzqC5XpmVXs",
        "colab": {
          "base_uri": "https://localhost:8080/"
        },
        "outputId": "8413a277-af73-465c-d914-787b70d04900"
      },
      "execution_count": 9,
      "outputs": [
        {
          "output_type": "stream",
          "name": "stdout",
          "text": [
            "Strain\n",
            "f\n",
            "N\n",
            "MAR\n"
          ]
        }
      ]
    },
    {
      "cell_type": "code",
      "source": [
        "from sklearn.preprocessing import StandardScaler"
      ],
      "metadata": {
        "id": "QDEbSCXNmjAz"
      },
      "execution_count": 10,
      "outputs": []
    },
    {
      "cell_type": "code",
      "source": [
        "scaler = StandardScaler()"
      ],
      "metadata": {
        "id": "964KbHximZRM"
      },
      "execution_count": 11,
      "outputs": []
    },
    {
      "cell_type": "code",
      "source": [
        "df_scaled=df.copy()"
      ],
      "metadata": {
        "id": "pCm_uMagmpMq"
      },
      "execution_count": 12,
      "outputs": []
    },
    {
      "cell_type": "code",
      "source": [
        "df_scaled[['Strain','f','N','MAR']] = scaler.fit_transform(df[['Strain','f','N','MAR']])"
      ],
      "metadata": {
        "id": "VEtfdvANmsvK"
      },
      "execution_count": 13,
      "outputs": []
    },
    {
      "cell_type": "code",
      "source": [
        "df_scaled.corr() "
      ],
      "metadata": {
        "id": "y5ZXp2CWnFOv",
        "colab": {
          "base_uri": "https://localhost:8080/",
          "height": 173
        },
        "outputId": "44184cf2-7527-4c39-b1ed-f7094b870c4d"
      },
      "execution_count": 14,
      "outputs": [
        {
          "output_type": "execute_result",
          "data": {
            "text/plain": [
              "          Strain         f         N       MAR\n",
              "Strain  1.000000 -0.053894 -0.054175  0.499551\n",
              "f      -0.053894  1.000000  0.406839 -0.037074\n",
              "N      -0.054175  0.406839  1.000000  0.219783\n",
              "MAR     0.499551 -0.037074  0.219783  1.000000"
            ],
            "text/html": [
              "\n",
              "  <div id=\"df-1538d116-554d-400a-8dd5-3b76048dab11\">\n",
              "    <div class=\"colab-df-container\">\n",
              "      <div>\n",
              "<style scoped>\n",
              "    .dataframe tbody tr th:only-of-type {\n",
              "        vertical-align: middle;\n",
              "    }\n",
              "\n",
              "    .dataframe tbody tr th {\n",
              "        vertical-align: top;\n",
              "    }\n",
              "\n",
              "    .dataframe thead th {\n",
              "        text-align: right;\n",
              "    }\n",
              "</style>\n",
              "<table border=\"1\" class=\"dataframe\">\n",
              "  <thead>\n",
              "    <tr style=\"text-align: right;\">\n",
              "      <th></th>\n",
              "      <th>Strain</th>\n",
              "      <th>f</th>\n",
              "      <th>N</th>\n",
              "      <th>MAR</th>\n",
              "    </tr>\n",
              "  </thead>\n",
              "  <tbody>\n",
              "    <tr>\n",
              "      <th>Strain</th>\n",
              "      <td>1.000000</td>\n",
              "      <td>-0.053894</td>\n",
              "      <td>-0.054175</td>\n",
              "      <td>0.499551</td>\n",
              "    </tr>\n",
              "    <tr>\n",
              "      <th>f</th>\n",
              "      <td>-0.053894</td>\n",
              "      <td>1.000000</td>\n",
              "      <td>0.406839</td>\n",
              "      <td>-0.037074</td>\n",
              "    </tr>\n",
              "    <tr>\n",
              "      <th>N</th>\n",
              "      <td>-0.054175</td>\n",
              "      <td>0.406839</td>\n",
              "      <td>1.000000</td>\n",
              "      <td>0.219783</td>\n",
              "    </tr>\n",
              "    <tr>\n",
              "      <th>MAR</th>\n",
              "      <td>0.499551</td>\n",
              "      <td>-0.037074</td>\n",
              "      <td>0.219783</td>\n",
              "      <td>1.000000</td>\n",
              "    </tr>\n",
              "  </tbody>\n",
              "</table>\n",
              "</div>\n",
              "      <button class=\"colab-df-convert\" onclick=\"convertToInteractive('df-1538d116-554d-400a-8dd5-3b76048dab11')\"\n",
              "              title=\"Convert this dataframe to an interactive table.\"\n",
              "              style=\"display:none;\">\n",
              "        \n",
              "  <svg xmlns=\"http://www.w3.org/2000/svg\" height=\"24px\"viewBox=\"0 0 24 24\"\n",
              "       width=\"24px\">\n",
              "    <path d=\"M0 0h24v24H0V0z\" fill=\"none\"/>\n",
              "    <path d=\"M18.56 5.44l.94 2.06.94-2.06 2.06-.94-2.06-.94-.94-2.06-.94 2.06-2.06.94zm-11 1L8.5 8.5l.94-2.06 2.06-.94-2.06-.94L8.5 2.5l-.94 2.06-2.06.94zm10 10l.94 2.06.94-2.06 2.06-.94-2.06-.94-.94-2.06-.94 2.06-2.06.94z\"/><path d=\"M17.41 7.96l-1.37-1.37c-.4-.4-.92-.59-1.43-.59-.52 0-1.04.2-1.43.59L10.3 9.45l-7.72 7.72c-.78.78-.78 2.05 0 2.83L4 21.41c.39.39.9.59 1.41.59.51 0 1.02-.2 1.41-.59l7.78-7.78 2.81-2.81c.8-.78.8-2.07 0-2.86zM5.41 20L4 18.59l7.72-7.72 1.47 1.35L5.41 20z\"/>\n",
              "  </svg>\n",
              "      </button>\n",
              "      \n",
              "  <style>\n",
              "    .colab-df-container {\n",
              "      display:flex;\n",
              "      flex-wrap:wrap;\n",
              "      gap: 12px;\n",
              "    }\n",
              "\n",
              "    .colab-df-convert {\n",
              "      background-color: #E8F0FE;\n",
              "      border: none;\n",
              "      border-radius: 50%;\n",
              "      cursor: pointer;\n",
              "      display: none;\n",
              "      fill: #1967D2;\n",
              "      height: 32px;\n",
              "      padding: 0 0 0 0;\n",
              "      width: 32px;\n",
              "    }\n",
              "\n",
              "    .colab-df-convert:hover {\n",
              "      background-color: #E2EBFA;\n",
              "      box-shadow: 0px 1px 2px rgba(60, 64, 67, 0.3), 0px 1px 3px 1px rgba(60, 64, 67, 0.15);\n",
              "      fill: #174EA6;\n",
              "    }\n",
              "\n",
              "    [theme=dark] .colab-df-convert {\n",
              "      background-color: #3B4455;\n",
              "      fill: #D2E3FC;\n",
              "    }\n",
              "\n",
              "    [theme=dark] .colab-df-convert:hover {\n",
              "      background-color: #434B5C;\n",
              "      box-shadow: 0px 1px 3px 1px rgba(0, 0, 0, 0.15);\n",
              "      filter: drop-shadow(0px 1px 2px rgba(0, 0, 0, 0.3));\n",
              "      fill: #FFFFFF;\n",
              "    }\n",
              "  </style>\n",
              "\n",
              "      <script>\n",
              "        const buttonEl =\n",
              "          document.querySelector('#df-1538d116-554d-400a-8dd5-3b76048dab11 button.colab-df-convert');\n",
              "        buttonEl.style.display =\n",
              "          google.colab.kernel.accessAllowed ? 'block' : 'none';\n",
              "\n",
              "        async function convertToInteractive(key) {\n",
              "          const element = document.querySelector('#df-1538d116-554d-400a-8dd5-3b76048dab11');\n",
              "          const dataTable =\n",
              "            await google.colab.kernel.invokeFunction('convertToInteractive',\n",
              "                                                     [key], {});\n",
              "          if (!dataTable) return;\n",
              "\n",
              "          const docLinkHtml = 'Like what you see? Visit the ' +\n",
              "            '<a target=\"_blank\" href=https://colab.research.google.com/notebooks/data_table.ipynb>data table notebook</a>'\n",
              "            + ' to learn more about interactive tables.';\n",
              "          element.innerHTML = '';\n",
              "          dataTable['output_type'] = 'display_data';\n",
              "          await google.colab.output.renderOutput(dataTable, element);\n",
              "          const docLink = document.createElement('div');\n",
              "          docLink.innerHTML = docLinkHtml;\n",
              "          element.appendChild(docLink);\n",
              "        }\n",
              "      </script>\n",
              "    </div>\n",
              "  </div>\n",
              "  "
            ]
          },
          "metadata": {},
          "execution_count": 14
        }
      ]
    },
    {
      "cell_type": "code",
      "source": [
        "#sns.heatmap(df_scaled.corr(), cmap=\"RdBu\", annot=True, linewidth=0.5)"
      ],
      "metadata": {
        "id": "0Fqm0stvnIPe"
      },
      "execution_count": 15,
      "outputs": []
    },
    {
      "cell_type": "code",
      "source": [
        "#sns.set_style('darkgrid')"
      ],
      "metadata": {
        "id": "KHVVub4uadec"
      },
      "execution_count": 16,
      "outputs": []
    },
    {
      "cell_type": "code",
      "source": [
        "#sns.pairplot(df);"
      ],
      "metadata": {
        "id": "DNfiWhszsqKa"
      },
      "execution_count": 17,
      "outputs": []
    },
    {
      "cell_type": "code",
      "source": [
        "#sns.pairplot(df, diag_kind = 'kde');"
      ],
      "metadata": {
        "id": "4wDG25_Ia9FZ"
      },
      "execution_count": 18,
      "outputs": []
    },
    {
      "cell_type": "code",
      "source": [
        "#sns.pairplot(df, kind = 'reg');"
      ],
      "metadata": {
        "id": "-JMbnk9dc6uj"
      },
      "execution_count": 19,
      "outputs": []
    },
    {
      "cell_type": "code",
      "source": [
        "#g=sns.pairplot(df)\n",
        "#g.map_upper(sns.kdeplot, n_leve=4, color='xkcd:wine red');"
      ],
      "metadata": {
        "id": "x_QB8KeEdXh2"
      },
      "execution_count": 20,
      "outputs": []
    },
    {
      "cell_type": "code",
      "source": [
        "df.isnull().sum()"
      ],
      "metadata": {
        "id": "FNK5SToy9LZM",
        "colab": {
          "base_uri": "https://localhost:8080/"
        },
        "outputId": "1d31b77c-1a5f-4aea-a3d5-ee5f32424c47"
      },
      "execution_count": 21,
      "outputs": [
        {
          "output_type": "execute_result",
          "data": {
            "text/plain": [
              "Strain    0\n",
              "f         0\n",
              "N         0\n",
              "MAR       0\n",
              "dtype: int64"
            ]
          },
          "metadata": {},
          "execution_count": 21
        }
      ]
    },
    {
      "cell_type": "code",
      "source": [
        "classes=df['MAR'].unique()\n",
        "classes"
      ],
      "metadata": {
        "id": "pGAMc1rn9ZAZ",
        "colab": {
          "base_uri": "https://localhost:8080/"
        },
        "outputId": "7b089fb4-693d-4df4-98a1-4bf6d3cae01f"
      },
      "execution_count": 22,
      "outputs": [
        {
          "output_type": "execute_result",
          "data": {
            "text/plain": [
              "array([0.   , 0.25 , 1.1  , 1.25 , 0.8  , 0.7  , 1.5  , 0.5  , 2.2  ,\n",
              "       1.   , 0.75 , 0.6  , 0.3  , 0.4  , 1.4  , 0.55 , 0.35 , 0.9  ,\n",
              "       0.89 , 0.81 , 0.15 , 0.892, 0.573, 0.749, 0.429, 2.29 , 1.37 ,\n",
              "       2.31 , 1.33 , 1.94 , 1.3  , 1.2  , 1.9  , 1.75 , 1.54 , 0.94 ,\n",
              "       1.08 , 0.91 , 0.65 , 0.74 , 0.62 , 0.84 , 0.78 , 0.88 , 1.12 ,\n",
              "       0.92 , 0.77 , 0.61 , 1.22 , 1.02 , 0.72 , 0.87 , 0.54 , 0.99 ,\n",
              "       2.16 , 1.18 , 2.9  , 4.2  , 1.29 , 0.27 , 1.99 , 0.59 , 3.27 ,\n",
              "       1.15 , 0.57 , 1.73 , 1.19 , 2.19 , 3.44 , 1.52 , 6.38 , 5.34 ])"
            ]
          },
          "metadata": {},
          "execution_count": 22
        }
      ]
    },
    {
      "cell_type": "code",
      "source": [
        "df['MAR'].value_counts()"
      ],
      "metadata": {
        "id": "YDoWiLoU9g3R",
        "colab": {
          "base_uri": "https://localhost:8080/"
        },
        "outputId": "e0e75a5c-c7d3-4a74-e394-69d20ef1d8b2"
      },
      "execution_count": 23,
      "outputs": [
        {
          "output_type": "execute_result",
          "data": {
            "text/plain": [
              "0.80    7\n",
              "0.60    7\n",
              "1.00    6\n",
              "1.40    5\n",
              "0.40    4\n",
              "       ..\n",
              "0.94    1\n",
              "0.91    1\n",
              "0.65    1\n",
              "0.84    1\n",
              "5.34    1\n",
              "Name: MAR, Length: 72, dtype: int64"
            ]
          },
          "metadata": {},
          "execution_count": 23
        }
      ]
    },
    {
      "cell_type": "code",
      "source": [
        "#df['MAR'].value_counts().plot.bar()"
      ],
      "metadata": {
        "id": "LGWHoDYD99q3"
      },
      "execution_count": 24,
      "outputs": []
    },
    {
      "cell_type": "code",
      "source": [
        "X = df.iloc[:, :-1].values"
      ],
      "metadata": {
        "id": "lNAs70StBQtb"
      },
      "execution_count": 25,
      "outputs": []
    },
    {
      "cell_type": "code",
      "source": [
        "y=df.iloc[:, -1].values \n",
        "y=y.astype('int')"
      ],
      "metadata": {
        "id": "yzC1eB5tCHM0"
      },
      "execution_count": 26,
      "outputs": []
    },
    {
      "cell_type": "code",
      "source": [
        "from sklearn.model_selection import train_test_split "
      ],
      "metadata": {
        "id": "KuL2BTvHCRUq"
      },
      "execution_count": 27,
      "outputs": []
    },
    {
      "cell_type": "code",
      "source": [
        "X_train, X_test, y_train, y_test = train_test_split(X, y, test_size=0.30)"
      ],
      "metadata": {
        "id": "ICXKHRzwCSQC"
      },
      "execution_count": 28,
      "outputs": []
    },
    {
      "cell_type": "code",
      "source": [
        "X_train.shape, X_test.shape"
      ],
      "metadata": {
        "id": "J0F3sq7_Cd2a",
        "colab": {
          "base_uri": "https://localhost:8080/"
        },
        "outputId": "0fb52a50-6866-4848-b2bf-44f15d4e5330"
      },
      "execution_count": 29,
      "outputs": [
        {
          "output_type": "execute_result",
          "data": {
            "text/plain": [
              "((77, 3), (34, 3))"
            ]
          },
          "metadata": {},
          "execution_count": 29
        }
      ]
    },
    {
      "cell_type": "markdown",
      "source": [
        "# **SUJAL WORK AHEAD**\n",
        "\n",
        "####Accuracy by Cross_val_score \n",
        "####Random Forest: 70%\n",
        "####KNN: 64% \n",
        "####XGBoost: 61%"
      ],
      "metadata": {
        "id": "T7deLkLDOuoq"
      }
    },
    {
      "cell_type": "code",
      "source": [
        "#Using K nearest neighbours Random Forest\n",
        "from sklearn.ensemble import RandomForestClassifier \n",
        "rfc = RandomForestClassifier(criterion='entropy',n_estimators=95)\n",
        "rfc.fit(X_train,y_train)"
      ],
      "metadata": {
        "colab": {
          "base_uri": "https://localhost:8080/"
        },
        "id": "FlkOWx14NnfT",
        "outputId": "fd7e6fd3-c09e-4700-be1a-da65a7606629"
      },
      "execution_count": 30,
      "outputs": [
        {
          "output_type": "execute_result",
          "data": {
            "text/plain": [
              "RandomForestClassifier(criterion='entropy', n_estimators=95)"
            ]
          },
          "metadata": {},
          "execution_count": 30
        }
      ]
    },
    {
      "cell_type": "code",
      "source": [
        "rfc.score(X_test,y_test)"
      ],
      "metadata": {
        "id": "WAeA_Q08ccZn",
        "outputId": "3aa22d48-57ff-4a00-91ea-568f83b0ab79",
        "colab": {
          "base_uri": "https://localhost:8080/"
        }
      },
      "execution_count": 57,
      "outputs": [
        {
          "output_type": "execute_result",
          "data": {
            "text/plain": [
              "0.7058823529411765"
            ]
          },
          "metadata": {},
          "execution_count": 57
        }
      ]
    },
    {
      "cell_type": "code",
      "source": [
        "Yrfc_pred = rfc.predict(X_test)"
      ],
      "metadata": {
        "id": "kQr2Cap5Nx1A"
      },
      "execution_count": 31,
      "outputs": []
    },
    {
      "cell_type": "code",
      "source": [
        "from sklearn.metrics import confusion_matrix\n",
        "confusion_matrix(y_test,Yrfc_pred)"
      ],
      "metadata": {
        "colab": {
          "base_uri": "https://localhost:8080/"
        },
        "id": "UWhXBo9qN3QK",
        "outputId": "82fc875a-58c0-4799-a727-1a46ba13d68c"
      },
      "execution_count": 32,
      "outputs": [
        {
          "output_type": "execute_result",
          "data": {
            "text/plain": [
              "array([[18,  3,  0,  0,  0],\n",
              "       [ 3,  6,  2,  0,  0],\n",
              "       [ 0,  1,  0,  0,  0],\n",
              "       [ 0,  0,  0,  0,  1],\n",
              "       [ 0,  0,  0,  0,  0]])"
            ]
          },
          "metadata": {},
          "execution_count": 32
        }
      ]
    },
    {
      "cell_type": "code",
      "source": [
        "from sklearn.model_selection import GridSearchCV\n",
        "parameters = [{'criterion':['gini','entropy'],'n_estimators':np.arange(1,100)}]\n",
        "grid_search = GridSearchCV(estimator = rfc,\n",
        "                           param_grid = parameters,\n",
        "                           scoring = 'accuracy',\n",
        "                           cv=10)"
      ],
      "metadata": {
        "id": "F-WX1txfN_h9"
      },
      "execution_count": 33,
      "outputs": []
    },
    {
      "cell_type": "code",
      "source": [
        "from sklearn.model_selection import cross_val_score\n",
        "accuracies = cross_val_score(estimator = rfc,X = X_train, y = y_train, cv = 10, n_jobs=-1)\n",
        "mean_data = accuracies.mean()\n",
        "mean_data"
      ],
      "metadata": {
        "colab": {
          "base_uri": "https://localhost:8080/"
        },
        "id": "Zb3DSVjQN_kK",
        "outputId": "9a8dfd29-680b-48cf-96fb-835cc91215ac"
      },
      "execution_count": 34,
      "outputs": [
        {
          "output_type": "stream",
          "name": "stderr",
          "text": [
            "/usr/local/lib/python3.7/dist-packages/sklearn/model_selection/_split.py:680: UserWarning: The least populated class in y has only 1 members, which is less than n_splits=10.\n",
            "  UserWarning,\n"
          ]
        },
        {
          "output_type": "execute_result",
          "data": {
            "text/plain": [
              "0.5392857142857143"
            ]
          },
          "metadata": {},
          "execution_count": 34
        }
      ]
    },
    {
      "cell_type": "code",
      "source": [
        "#Using cross validation to find the percentage accuracy in Random Forest\n",
        "from sklearn.metrics import accuracy_score\n",
        "random_forest_accuracy_score = accuracy_score(y_test,Yrfc_pred)\n",
        "random_forest_accuracy_score"
      ],
      "metadata": {
        "colab": {
          "base_uri": "https://localhost:8080/"
        },
        "id": "2Lxq9j4wN_pd",
        "outputId": "a982bac4-f817-41a7-c22c-472af2ef1b24"
      },
      "execution_count": 35,
      "outputs": [
        {
          "output_type": "execute_result",
          "data": {
            "text/plain": [
              "0.7058823529411765"
            ]
          },
          "metadata": {},
          "execution_count": 35
        }
      ]
    },
    {
      "cell_type": "code",
      "source": [
        "#Using K nearest neighbours KNN \n",
        "from sklearn.neighbors import KNeighborsClassifier\n",
        "knnc = KNeighborsClassifier()\n",
        "knnc.fit(X_train, y_train)\n",
        "param_grid = {'n_neighbors': [5,10,15,25,30,50]}\n",
        "grid_knn = GridSearchCV(knnc,param_grid,scoring='accuracy',cv=10,refit=True)"
      ],
      "metadata": {
        "id": "mLJrAjfZOVoI"
      },
      "execution_count": 36,
      "outputs": []
    },
    {
      "cell_type": "code",
      "source": [
        "#Using cross validation to find the percentage accuracy in KNN \n",
        "from sklearn.model_selection import cross_val_score\n",
        "accuracies = cross_val_score(estimator = knnc,X = X_train, y = y_train, cv = 10, n_jobs=-1)\n",
        "mean_accuracy_knnc = accuracies.mean()\n",
        "mean_accuracy_knnc"
      ],
      "metadata": {
        "colab": {
          "base_uri": "https://localhost:8080/"
        },
        "id": "iH0HR3Opccji",
        "outputId": "14ebc596-1dc1-4812-b859-37c66d7da874"
      },
      "execution_count": 37,
      "outputs": [
        {
          "output_type": "stream",
          "name": "stderr",
          "text": [
            "/usr/local/lib/python3.7/dist-packages/sklearn/model_selection/_split.py:680: UserWarning: The least populated class in y has only 1 members, which is less than n_splits=10.\n",
            "  UserWarning,\n"
          ]
        },
        {
          "output_type": "execute_result",
          "data": {
            "text/plain": [
              "0.6428571428571429"
            ]
          },
          "metadata": {},
          "execution_count": 37
        }
      ]
    },
    {
      "cell_type": "code",
      "source": [
        "Yknn_pred=knnc.predict(X_test)\n",
        "from sklearn.metrics import accuracy_score\n",
        "KNN_accuracy_score = accuracy_score(y_test,Yknn_pred)\n",
        "KNN_accuracy_score"
      ],
      "metadata": {
        "colab": {
          "base_uri": "https://localhost:8080/"
        },
        "id": "VwXC8jgyd6Cm",
        "outputId": "2a81c381-940b-484d-aba7-aafae34e1479"
      },
      "execution_count": 38,
      "outputs": [
        {
          "output_type": "execute_result",
          "data": {
            "text/plain": [
              "0.6470588235294118"
            ]
          },
          "metadata": {},
          "execution_count": 38
        }
      ]
    },
    {
      "cell_type": "code",
      "source": [
        "#Stopping the randomness\n",
        "tf.random.set_seed(0)"
      ],
      "metadata": {
        "id": "bWig_IGPOVtP"
      },
      "execution_count": 39,
      "outputs": []
    },
    {
      "cell_type": "code",
      "source": [
        "#Using XGB boost  XGB boost \n",
        "import xgboost as xgb\n",
        "xgbc = xgb.XGBClassifier(random_state=1,learning_rate=0.01)\n",
        "xgbc.fit(X_train,y_train)"
      ],
      "metadata": {
        "colab": {
          "base_uri": "https://localhost:8080/"
        },
        "id": "26Jzhf_DRecI",
        "outputId": "a489f670-133c-460a-fe90-66ea6180f163"
      },
      "execution_count": 40,
      "outputs": [
        {
          "output_type": "execute_result",
          "data": {
            "text/plain": [
              "XGBClassifier(learning_rate=0.01, objective='multi:softprob', random_state=1)"
            ]
          },
          "metadata": {},
          "execution_count": 40
        }
      ]
    },
    {
      "cell_type": "code",
      "source": [
        "xgbc_predictions = xgbc.predict(X_test)"
      ],
      "metadata": {
        "id": "unHf9_UkQHVH"
      },
      "execution_count": 41,
      "outputs": []
    },
    {
      "cell_type": "code",
      "source": [
        "#Using confusion matrix\n",
        "confusion_matrix_accuracy = confusion_matrix(y_test,xgbc_predictions)\n",
        "confusion_matrix_accuracy"
      ],
      "metadata": {
        "colab": {
          "base_uri": "https://localhost:8080/"
        },
        "id": "ibtocLwHRomM",
        "outputId": "17b6cda8-44a6-4424-fa52-3b474ed9bc87"
      },
      "execution_count": 42,
      "outputs": [
        {
          "output_type": "execute_result",
          "data": {
            "text/plain": [
              "array([[18,  3,  0,  0,  0],\n",
              "       [ 6,  3,  2,  0,  0],\n",
              "       [ 0,  1,  0,  0,  0],\n",
              "       [ 0,  0,  0,  0,  1],\n",
              "       [ 0,  0,  0,  0,  0]])"
            ]
          },
          "metadata": {},
          "execution_count": 42
        }
      ]
    },
    {
      "cell_type": "code",
      "source": [
        "#Using cross validation to find the percentage accuracy in XGB boost \n",
        "from sklearn.model_selection import cross_val_score\n",
        "accuracies = cross_val_score(estimator = xgbc,X = X_train, y = y_train, cv = 10, n_jobs=-1)\n",
        "mean_accuracy_xgb = accuracies.mean()\n",
        "mean_accuracy_xgb"
      ],
      "metadata": {
        "colab": {
          "base_uri": "https://localhost:8080/"
        },
        "id": "jhQc5hCoRoqh",
        "outputId": "5880b9c9-a57f-4280-f60b-e17868dbf6d7"
      },
      "execution_count": 43,
      "outputs": [
        {
          "output_type": "stream",
          "name": "stderr",
          "text": [
            "/usr/local/lib/python3.7/dist-packages/sklearn/model_selection/_split.py:680: UserWarning: The least populated class in y has only 1 members, which is less than n_splits=10.\n",
            "  UserWarning,\n"
          ]
        },
        {
          "output_type": "execute_result",
          "data": {
            "text/plain": [
              "0.6178571428571429"
            ]
          },
          "metadata": {},
          "execution_count": 43
        }
      ]
    },
    {
      "cell_type": "code",
      "source": [
        "#Accuracy score of the XGB \n",
        "XGB_accuracy_score = accuracy_score(y_test,xgbc_predictions)\n",
        "XGB_accuracy_score"
      ],
      "metadata": {
        "colab": {
          "base_uri": "https://localhost:8080/"
        },
        "id": "fQ2VPyLCRotu",
        "outputId": "606bdd57-74a9-4fcf-cc4a-adb798c39065"
      },
      "execution_count": 52,
      "outputs": [
        {
          "output_type": "execute_result",
          "data": {
            "text/plain": [
              "0.6176470588235294"
            ]
          },
          "metadata": {},
          "execution_count": 52
        }
      ]
    },
    {
      "cell_type": "markdown",
      "source": [
        "### **ROC Curve of KNN, XGBoost and Random Forest**"
      ],
      "metadata": {
        "id": "kpaFPMjBbzl4"
      }
    },
    {
      "cell_type": "code",
      "source": [
        "predictionsknnc=knnc.predict(X_test)\n",
        "\n",
        "from sklearn.metrics import roc_curve,auc\n",
        "\n",
        "fpr,tpr,_=roc_curve(y_test,predictionsknnc, pos_label=2)\n",
        "\n",
        "roc_auc=auc(fpr,tpr)\n",
        "\n",
        "# Plot of a ROC curve for a specific class\n",
        "plt.figure()\n",
        "plt.plot(fpr, tpr, label='ROC curve (area = %0.2f)' % roc_auc)\n",
        "plt.plot([0, 1], [0, 1], 'k--')\n",
        "plt.xlim([0.0, 1.0])\n",
        "plt.ylim([0.0, 1.05])\n",
        "plt.xlabel('False Positive Rate')\n",
        "plt.ylabel('True Positive Rate')\n",
        "plt.title('KNN ROC Curve')\n",
        "plt.legend(loc=\"lower right\")\n",
        "plt.show()\n",
        "resolution_value = 600\n",
        "plt.savefig(\"KNN ROC Curve.png\", format=\"png\", dpi=resolution_value)"
      ],
      "metadata": {
        "colab": {
          "base_uri": "https://localhost:8080/",
          "height": 312
        },
        "id": "gBf6LRMmXMD_",
        "outputId": "fea320fe-b4df-4d50-b239-aaef81a034ad"
      },
      "execution_count": 148,
      "outputs": [
        {
          "output_type": "display_data",
          "data": {
            "text/plain": [
              "<Figure size 432x288 with 1 Axes>"
            ],
            "image/png": "[encoded data removed]"
          },
          "metadata": {
            "needs_background": "light"
          }
        },
        {
          "output_type": "display_data",
          "data": {
            "text/plain": [
              "<Figure size 432x288 with 0 Axes>"
            ]
          },
          "metadata": {}
        }
      ]
    },
    {
      "cell_type": "code",
      "source": [
        "predictionsxgbc=xgbc.predict(X_test)\n",
        "\n",
        "from sklearn.metrics import roc_curve,auc\n",
        "\n",
        "fpr,tpr,_=roc_curve(y_test,predictionsxgbc, pos_label=2)\n",
        "\n",
        "roc_auc=auc(fpr,tpr)\n",
        "\n",
        "# Plot of a ROC curve for a specific class\n",
        "plt.figure()\n",
        "plt.plot(fpr, tpr, label='ROC curve (area = %0.2f)' % roc_auc)\n",
        "plt.plot([0, 1], [0, 1], 'k--')\n",
        "plt.xlim([0.0, 1.0])\n",
        "plt.ylim([0.0, 1.05])\n",
        "plt.xlabel('False Positive Rate')\n",
        "plt.ylabel('True Positive Rate')\n",
        "plt.title('XGBoost ROC Curve')\n",
        "plt.legend(loc=\"lower right\")\n",
        "plt.show()\n",
        "resolution_value = 600\n",
        "plt.savefig(\"XGBoost ROC Curve.png\", format=\"png\", dpi=resolution_value)"
      ],
      "metadata": {
        "colab": {
          "base_uri": "https://localhost:8080/",
          "height": 312
        },
        "id": "iwobnobWX447",
        "outputId": "d29b70aa-2a2d-4d23-f069-3320c4886363"
      },
      "execution_count": 145,
      "outputs": [
        {
          "output_type": "display_data",
          "data": {
            "text/plain": [
              "<Figure size 432x288 with 1 Axes>"
            ],
            "image/png": "[encoded data removed]"
          },
          "metadata": {
            "needs_background": "light"
          }
        },
        {
          "output_type": "display_data",
          "data": {
            "text/plain": [
              "<Figure size 432x288 with 0 Axes>"
            ]
          },
          "metadata": {}
        }
      ]
    },
    {
      "cell_type": "code",
      "source": [
        "pred_rf=rfc.predict(X_test)\n",
        "\n",
        "from sklearn.metrics import roc_curve,auc\n",
        "\n",
        "fpr,tpr,_=roc_curve(y_test,pred_rf, pos_label=2)\n",
        "\n",
        "roc_auc=auc(fpr,tpr)\n",
        "\n",
        "# Plot of a ROC curve for a specific class\n",
        "plt.figure()\n",
        "plt.plot(fpr, tpr, label='ROC curve (area = %0.2f)' % roc_auc)\n",
        "plt.plot([0, 1], [0, 1], 'k--')\n",
        "plt.xlim([0.0, 1.0])\n",
        "plt.ylim([0.0, 1.05])\n",
        "plt.xlabel('False Positive Rate')\n",
        "plt.ylabel('True Positive Rate')\n",
        "plt.title('Random Forest Feature ROC Curve')\n",
        "plt.legend(loc=\"lower right\")\n",
        "plt.show()\n",
        "resolution_value = 600\n",
        "plt.savefig(\"Random Forest Feature ROC Curve.png\", format=\"png\", dpi=resolution_value)\n"
      ],
      "metadata": {
        "colab": {
          "base_uri": "https://localhost:8080/",
          "height": 312
        },
        "id": "6puDAKtlYR_R",
        "outputId": "7e52ef9c-d995-4689-e696-7a6b3f9bee69"
      },
      "execution_count": 144,
      "outputs": [
        {
          "output_type": "display_data",
          "data": {
            "text/plain": [
              "<Figure size 432x288 with 1 Axes>"
            ],
            "image/png": "[encoded data removed]"
          },
          "metadata": {
            "needs_background": "light"
          }
        },
        {
          "output_type": "display_data",
          "data": {
            "text/plain": [
              "<Figure size 432x288 with 0 Axes>"
            ]
          },
          "metadata": {}
        }
      ]
    },
    {
      "cell_type": "code",
      "source": [
        "from sklearn.inspection import permutation_importance\n",
        "perm_importance = permutation_importance(rfc, X_test, y_test)\n",
        "sorted_idx = perm_importance.importances_mean.argsort()\n",
        "plt.barh(df.columns[sorted_idx], rfc.feature_importances_[sorted_idx])\n",
        "plt.xlabel(\"Random Forest Feature Importance\")\n",
        "resolution_value = 600\n",
        "plt.savefig(\"Random Forest Feature Importance.png\", format=\"png\", dpi=resolution_value)"
      ],
      "metadata": {
        "id": "qtGQ91dxgHFk",
        "outputId": "1d07f195-e932-4be4-a20a-49007522e743",
        "colab": {
          "base_uri": "https://localhost:8080/",
          "height": 279
        }
      },
      "execution_count": 143,
      "outputs": [
        {
          "output_type": "display_data",
          "data": {
            "text/plain": [
              "<Figure size 432x288 with 1 Axes>"
            ],
            "image/png": "[encoded data removed]"
          },
          "metadata": {
            "needs_background": "light"
          }
        }
      ]
    },
    {
      "cell_type": "code",
      "source": [
        "from sklearn.inspection import permutation_importance\n",
        "perm_importance2 = permutation_importance(xgbc, X_test, y_test)\n",
        "sorted_idx = perm_importance2.importances_mean.argsort()\n",
        "plt.barh(df.columns[sorted_idx], xgbc.feature_importances_[sorted_idx])\n",
        "plt.xlabel(\"XGBoost Feature Importance\")\n",
        "resolution_value = 600\n",
        "plt.savefig(\"XGBoost Feature Importance.png\", format=\"png\", dpi=resolution_value)"
      ],
      "metadata": {
        "id": "yhC5dFtrmhcx",
        "outputId": "e654cc85-9560-4351-f1e1-e2334e74fac6",
        "colab": {
          "base_uri": "https://localhost:8080/",
          "height": 279
        }
      },
      "execution_count": 140,
      "outputs": [
        {
          "output_type": "display_data",
          "data": {
            "text/plain": [
              "<Figure size 432x288 with 1 Axes>"
            ],
            "image/png": "[encoded data removed]"
          },
          "metadata": {
            "needs_background": "light"
          }
        }
      ]
    },
    {
      "cell_type": "code",
      "source": [],
      "metadata": {
        "id": "FjrofvlQoK6t"
      },
      "execution_count": 112,
      "outputs": []
    },
    {
      "cell_type": "code",
      "source": [],
      "metadata": {
        "id": "cN_rptK1hTZ1"
      },
      "execution_count": 105,
      "outputs": []
    }
  ]
}