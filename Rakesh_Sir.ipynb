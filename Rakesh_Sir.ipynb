{
  "nbformat": 4,
  "nbformat_minor": 0,
  "metadata": {
    "colab": {
      "name": "Untitled0.ipynb",
      "provenance": [],
      "collapsed_sections": [],
      "include_colab_link": true
    },
    "kernelspec": {
      "name": "python3",
      "display_name": "Python 3"
    },
    "language_info": {
      "name": "python"
    }
  },
  "cells": [
    {
      "cell_type": "markdown",
      "metadata": {
        "id": "view-in-github",
        "colab_type": "text"
      },
      "source": [
        "<a href=\"https://colab.research.google.com/github/Sujal-vajire/Machine-learning-models/blob/main/Rakesh_Sir.ipynb\" target=\"_parent\"><img src=\"https://colab.research.google.com/assets/colab-badge.svg\" alt=\"Open In Colab\"/></a>"
      ]
    },
    {
      "cell_type": "code",
      "execution_count": 1,
      "metadata": {
        "id": "XhAUWzFK6v5m"
      },
      "outputs": [],
      "source": [
        "import pandas as pd\n",
        "import numpy as np\n",
        "import matplotlib.pyplot as plt\n",
        "from sklearn.svm import SVC\n",
        "from sklearn.ensemble import RandomForestClassifier\n",
        "from sklearn.metrics import roc_curve,auc\n",
        "from sklearn.model_selection import train_test_split \n",
        "from xgboost import XGBRegressor\n",
        "import tensorflow as tf\n",
        "import xgboost as xgb\n",
        "import seaborn as sns\n"
      ]
    },
    {
      "cell_type": "code",
      "source": [
        "df = pd.read_csv(\"Data_Sujal_New_Newtonian.csv\")"
      ],
      "metadata": {
        "id": "XqdTcB6B8h4n"
      },
      "execution_count": 2,
      "outputs": []
    },
    {
      "cell_type": "code",
      "source": [
        "df.shape"
      ],
      "metadata": {
        "id": "HiwhHspd8qYf",
        "colab": {
          "base_uri": "https://localhost:8080/"
        },
        "outputId": "b5a7a3f3-9531-4657-fa99-3e32afc0b093"
      },
      "execution_count": 3,
      "outputs": [
        {
          "output_type": "execute_result",
          "data": {
            "text/plain": [
              "(72, 5)"
            ]
          },
          "metadata": {},
          "execution_count": 3
        }
      ]
    },
    {
      "cell_type": "code",
      "source": [
        "df.columns"
      ],
      "metadata": {
        "id": "1ZZw3v848zHN",
        "colab": {
          "base_uri": "https://localhost:8080/"
        },
        "outputId": "f474516a-5516-4ca4-dfab-a8943c85150c"
      },
      "execution_count": 4,
      "outputs": [
        {
          "output_type": "execute_result",
          "data": {
            "text/plain": [
              "Index(['Freq', 'H_a', 'Lamda', 'K', 'Uf'], dtype='object')"
            ]
          },
          "metadata": {},
          "execution_count": 4
        }
      ]
    },
    {
      "cell_type": "code",
      "source": [
        "df.head"
      ],
      "metadata": {
        "id": "rHmY3a-3897M",
        "colab": {
          "base_uri": "https://localhost:8080/"
        },
        "outputId": "fd510a2e-e5be-4206-a326-85dd0bbebfa8"
      },
      "execution_count": 5,
      "outputs": [
        {
          "output_type": "execute_result",
          "data": {
            "text/plain": [
              "<bound method NDFrame.head of     Freq  H_a  Lamda     K      Uf\n",
              "0      1    1    0.0  10.0  0.0670\n",
              "1      1    1    0.1  10.0  0.0720\n",
              "2      1    1    0.3  10.0  0.0804\n",
              "3      1    1    0.5  10.0  0.0870\n",
              "4      1    2    0.0  10.0  0.0350\n",
              "..   ...  ...    ...   ...     ...\n",
              "67    10    2    0.5   0.1  0.1900\n",
              "68    10    3    0.0   0.1  0.0923\n",
              "69    10    3    0.1   0.1  0.0936\n",
              "70    10    3    0.3   0.1  0.0956\n",
              "71    10    3    0.5   0.1  0.0970\n",
              "\n",
              "[72 rows x 5 columns]>"
            ]
          },
          "metadata": {},
          "execution_count": 5
        }
      ]
    },
    {
      "cell_type": "code",
      "source": [
        "df['Uf'].unique()"
      ],
      "metadata": {
        "id": "SttP7IBMmJOd",
        "colab": {
          "base_uri": "https://localhost:8080/"
        },
        "outputId": "311720a0-94ae-4e43-ff02-8bf552ba91e5"
      },
      "execution_count": 6,
      "outputs": [
        {
          "output_type": "execute_result",
          "data": {
            "text/plain": [
              "array([0.067 , 0.072 , 0.0804, 0.087 , 0.035 , 0.0358, 0.0376, 0.039 ,\n",
              "       0.0188, 0.019 , 0.0194, 0.0197, 0.27  , 0.289 , 0.322 , 0.352 ,\n",
              "       0.139 , 0.143 , 0.15  , 0.156 , 0.075 , 0.0764, 0.078 , 0.0792,\n",
              "       0.334 , 0.357 , 0.398 , 0.434 , 0.171 , 0.177 , 0.1863, 0.193 ,\n",
              "       0.093 , 0.0943, 0.0964, 0.0978, 0.065 , 0.0702, 0.0849, 0.0342,\n",
              "       0.0353, 0.037 , 0.0384, 0.0186, 0.0189, 0.0193, 0.0196, 0.2643,\n",
              "       0.2815, 0.312 , 0.34  , 0.137 , 0.141 , 0.148 , 0.154 , 0.0748,\n",
              "       0.0758, 0.0774, 0.0785, 0.326 , 0.347 , 0.386 , 0.42  , 0.169 ,\n",
              "       0.174 , 0.183 , 0.19  , 0.0923, 0.0936, 0.0956, 0.097 ])"
            ]
          },
          "metadata": {},
          "execution_count": 6
        }
      ]
    },
    {
      "cell_type": "code",
      "source": [
        "collist= df.columns"
      ],
      "metadata": {
        "id": "JPyZ_XCPmPE1"
      },
      "execution_count": 7,
      "outputs": []
    },
    {
      "cell_type": "code",
      "source": [
        "collist"
      ],
      "metadata": {
        "id": "wwSinuGpmQp7",
        "colab": {
          "base_uri": "https://localhost:8080/"
        },
        "outputId": "6409689d-7c9a-4505-ccc0-fd50880bc90b"
      },
      "execution_count": 8,
      "outputs": [
        {
          "output_type": "execute_result",
          "data": {
            "text/plain": [
              "Index(['Freq', 'H_a', 'Lamda', 'K', 'Uf'], dtype='object')"
            ]
          },
          "metadata": {},
          "execution_count": 8
        }
      ]
    },
    {
      "cell_type": "code",
      "source": [
        "for a in collist:\n",
        "  print(a)"
      ],
      "metadata": {
        "id": "xfzqC5XpmVXs",
        "colab": {
          "base_uri": "https://localhost:8080/"
        },
        "outputId": "206d2a74-6bf5-49cc-bba3-1c30e28feaf8"
      },
      "execution_count": 9,
      "outputs": [
        {
          "output_type": "stream",
          "name": "stdout",
          "text": [
            "Freq\n",
            "H_a\n",
            "Lamda\n",
            "K\n",
            "Uf\n"
          ]
        }
      ]
    },
    {
      "cell_type": "code",
      "source": [
        "from sklearn.preprocessing import StandardScaler"
      ],
      "metadata": {
        "id": "QDEbSCXNmjAz"
      },
      "execution_count": 10,
      "outputs": []
    },
    {
      "cell_type": "code",
      "source": [
        "scaler = StandardScaler()"
      ],
      "metadata": {
        "id": "964KbHximZRM"
      },
      "execution_count": 11,
      "outputs": []
    },
    {
      "cell_type": "code",
      "source": [
        "df_scaled=df.copy()"
      ],
      "metadata": {
        "id": "pCm_uMagmpMq"
      },
      "execution_count": 12,
      "outputs": []
    },
    {
      "cell_type": "code",
      "source": [
        "df_scaled[['Freq', 'H_a', 'Lamda', 'K', 'Uf']] = scaler.fit_transform(df[['Freq', 'H_a', 'Lamda', 'K', 'Uf']])"
      ],
      "metadata": {
        "id": "VEtfdvANmsvK"
      },
      "execution_count": 13,
      "outputs": []
    },
    {
      "cell_type": "code",
      "source": [
        "df = df_scaled "
      ],
      "metadata": {
        "id": "BB0P8xjY_MNC"
      },
      "execution_count": 14,
      "outputs": []
    },
    {
      "cell_type": "code",
      "source": [
        "df_scaled.corr() "
      ],
      "metadata": {
        "id": "y5ZXp2CWnFOv",
        "colab": {
          "base_uri": "https://localhost:8080/",
          "height": 204
        },
        "outputId": "fafa806c-c0b5-44b7-b773-469ebb110815"
      },
      "execution_count": 15,
      "outputs": [
        {
          "output_type": "execute_result",
          "data": {
            "text/plain": [
              "               Freq           H_a         Lamda             K        Uf\n",
              "Freq   1.000000e+00 -1.541976e-17  9.251859e-18 -3.700743e-17  0.595097\n",
              "H_a   -1.541976e-17  1.000000e+00  1.233581e-17  3.083953e-17 -0.659858\n",
              "Lamda  9.251859e-18  1.233581e-17  1.000000e+00 -6.167906e-18  0.090760\n",
              "K     -3.700743e-17  3.083953e-17 -6.167906e-18  1.000000e+00  0.013729\n",
              "Uf     5.950970e-01 -6.598575e-01  9.076046e-02  1.372948e-02  1.000000"
            ],
            "text/html": [
              "\n",
              "  <div id=\"df-7094375d-3b8d-42dd-aa4c-405da066b1a6\">\n",
              "    <div class=\"colab-df-container\">\n",
              "      <div>\n",
              "<style scoped>\n",
              "    .dataframe tbody tr th:only-of-type {\n",
              "        vertical-align: middle;\n",
              "    }\n",
              "\n",
              "    .dataframe tbody tr th {\n",
              "        vertical-align: top;\n",
              "    }\n",
              "\n",
              "    .dataframe thead th {\n",
              "        text-align: right;\n",
              "    }\n",
              "</style>\n",
              "<table border=\"1\" class=\"dataframe\">\n",
              "  <thead>\n",
              "    <tr style=\"text-align: right;\">\n",
              "      <th></th>\n",
              "      <th>Freq</th>\n",
              "      <th>H_a</th>\n",
              "      <th>Lamda</th>\n",
              "      <th>K</th>\n",
              "      <th>Uf</th>\n",
              "    </tr>\n",
              "  </thead>\n",
              "  <tbody>\n",
              "    <tr>\n",
              "      <th>Freq</th>\n",
              "      <td>1.000000e+00</td>\n",
              "      <td>-1.541976e-17</td>\n",
              "      <td>9.251859e-18</td>\n",
              "      <td>-3.700743e-17</td>\n",
              "      <td>0.595097</td>\n",
              "    </tr>\n",
              "    <tr>\n",
              "      <th>H_a</th>\n",
              "      <td>-1.541976e-17</td>\n",
              "      <td>1.000000e+00</td>\n",
              "      <td>1.233581e-17</td>\n",
              "      <td>3.083953e-17</td>\n",
              "      <td>-0.659858</td>\n",
              "    </tr>\n",
              "    <tr>\n",
              "      <th>Lamda</th>\n",
              "      <td>9.251859e-18</td>\n",
              "      <td>1.233581e-17</td>\n",
              "      <td>1.000000e+00</td>\n",
              "      <td>-6.167906e-18</td>\n",
              "      <td>0.090760</td>\n",
              "    </tr>\n",
              "    <tr>\n",
              "      <th>K</th>\n",
              "      <td>-3.700743e-17</td>\n",
              "      <td>3.083953e-17</td>\n",
              "      <td>-6.167906e-18</td>\n",
              "      <td>1.000000e+00</td>\n",
              "      <td>0.013729</td>\n",
              "    </tr>\n",
              "    <tr>\n",
              "      <th>Uf</th>\n",
              "      <td>5.950970e-01</td>\n",
              "      <td>-6.598575e-01</td>\n",
              "      <td>9.076046e-02</td>\n",
              "      <td>1.372948e-02</td>\n",
              "      <td>1.000000</td>\n",
              "    </tr>\n",
              "  </tbody>\n",
              "</table>\n",
              "</div>\n",
              "      <button class=\"colab-df-convert\" onclick=\"convertToInteractive('df-7094375d-3b8d-42dd-aa4c-405da066b1a6')\"\n",
              "              title=\"Convert this dataframe to an interactive table.\"\n",
              "              style=\"display:none;\">\n",
              "        \n",
              "  <svg xmlns=\"http://www.w3.org/2000/svg\" height=\"24px\"viewBox=\"0 0 24 24\"\n",
              "       width=\"24px\">\n",
              "    <path d=\"M0 0h24v24H0V0z\" fill=\"none\"/>\n",
              "    <path d=\"M18.56 5.44l.94 2.06.94-2.06 2.06-.94-2.06-.94-.94-2.06-.94 2.06-2.06.94zm-11 1L8.5 8.5l.94-2.06 2.06-.94-2.06-.94L8.5 2.5l-.94 2.06-2.06.94zm10 10l.94 2.06.94-2.06 2.06-.94-2.06-.94-.94-2.06-.94 2.06-2.06.94z\"/><path d=\"M17.41 7.96l-1.37-1.37c-.4-.4-.92-.59-1.43-.59-.52 0-1.04.2-1.43.59L10.3 9.45l-7.72 7.72c-.78.78-.78 2.05 0 2.83L4 21.41c.39.39.9.59 1.41.59.51 0 1.02-.2 1.41-.59l7.78-7.78 2.81-2.81c.8-.78.8-2.07 0-2.86zM5.41 20L4 18.59l7.72-7.72 1.47 1.35L5.41 20z\"/>\n",
              "  </svg>\n",
              "      </button>\n",
              "      \n",
              "  <style>\n",
              "    .colab-df-container {\n",
              "      display:flex;\n",
              "      flex-wrap:wrap;\n",
              "      gap: 12px;\n",
              "    }\n",
              "\n",
              "    .colab-df-convert {\n",
              "      background-color: #E8F0FE;\n",
              "      border: none;\n",
              "      border-radius: 50%;\n",
              "      cursor: pointer;\n",
              "      display: none;\n",
              "      fill: #1967D2;\n",
              "      height: 32px;\n",
              "      padding: 0 0 0 0;\n",
              "      width: 32px;\n",
              "    }\n",
              "\n",
              "    .colab-df-convert:hover {\n",
              "      background-color: #E2EBFA;\n",
              "      box-shadow: 0px 1px 2px rgba(60, 64, 67, 0.3), 0px 1px 3px 1px rgba(60, 64, 67, 0.15);\n",
              "      fill: #174EA6;\n",
              "    }\n",
              "\n",
              "    [theme=dark] .colab-df-convert {\n",
              "      background-color: #3B4455;\n",
              "      fill: #D2E3FC;\n",
              "    }\n",
              "\n",
              "    [theme=dark] .colab-df-convert:hover {\n",
              "      background-color: #434B5C;\n",
              "      box-shadow: 0px 1px 3px 1px rgba(0, 0, 0, 0.15);\n",
              "      filter: drop-shadow(0px 1px 2px rgba(0, 0, 0, 0.3));\n",
              "      fill: #FFFFFF;\n",
              "    }\n",
              "  </style>\n",
              "\n",
              "      <script>\n",
              "        const buttonEl =\n",
              "          document.querySelector('#df-7094375d-3b8d-42dd-aa4c-405da066b1a6 button.colab-df-convert');\n",
              "        buttonEl.style.display =\n",
              "          google.colab.kernel.accessAllowed ? 'block' : 'none';\n",
              "\n",
              "        async function convertToInteractive(key) {\n",
              "          const element = document.querySelector('#df-7094375d-3b8d-42dd-aa4c-405da066b1a6');\n",
              "          const dataTable =\n",
              "            await google.colab.kernel.invokeFunction('convertToInteractive',\n",
              "                                                     [key], {});\n",
              "          if (!dataTable) return;\n",
              "\n",
              "          const docLinkHtml = 'Like what you see? Visit the ' +\n",
              "            '<a target=\"_blank\" href=https://colab.research.google.com/notebooks/data_table.ipynb>data table notebook</a>'\n",
              "            + ' to learn more about interactive tables.';\n",
              "          element.innerHTML = '';\n",
              "          dataTable['output_type'] = 'display_data';\n",
              "          await google.colab.output.renderOutput(dataTable, element);\n",
              "          const docLink = document.createElement('div');\n",
              "          docLink.innerHTML = docLinkHtml;\n",
              "          element.appendChild(docLink);\n",
              "        }\n",
              "      </script>\n",
              "    </div>\n",
              "  </div>\n",
              "  "
            ]
          },
          "metadata": {},
          "execution_count": 15
        }
      ]
    },
    {
      "cell_type": "code",
      "source": [
        "#sns.heatmap(df_scaled.corr(), cmap=\"RdBu\", annot=True, linewidth=0.5)"
      ],
      "metadata": {
        "id": "0Fqm0stvnIPe"
      },
      "execution_count": 16,
      "outputs": []
    },
    {
      "cell_type": "code",
      "source": [
        "#sns.set_style('darkgrid')"
      ],
      "metadata": {
        "id": "KHVVub4uadec"
      },
      "execution_count": 17,
      "outputs": []
    },
    {
      "cell_type": "code",
      "source": [
        "#sns.pairplot(df);"
      ],
      "metadata": {
        "id": "DNfiWhszsqKa"
      },
      "execution_count": 18,
      "outputs": []
    },
    {
      "cell_type": "code",
      "source": [
        "#sns.pairplot(df, diag_kind = 'kde');"
      ],
      "metadata": {
        "id": "4wDG25_Ia9FZ"
      },
      "execution_count": 19,
      "outputs": []
    },
    {
      "cell_type": "code",
      "source": [
        "#sns.pairplot(df, kind = 'reg');"
      ],
      "metadata": {
        "id": "-JMbnk9dc6uj"
      },
      "execution_count": 20,
      "outputs": []
    },
    {
      "cell_type": "code",
      "source": [
        "#g=sns.pairplot(df)\n",
        "#g.map_upper(sns.kdeplot, n_leve=4, color='xkcd:wine red');"
      ],
      "metadata": {
        "id": "x_QB8KeEdXh2"
      },
      "execution_count": 21,
      "outputs": []
    },
    {
      "cell_type": "code",
      "source": [
        "df.isnull().sum()"
      ],
      "metadata": {
        "id": "FNK5SToy9LZM",
        "colab": {
          "base_uri": "https://localhost:8080/"
        },
        "outputId": "42089d67-1387-4af2-e255-a59393b73c79"
      },
      "execution_count": 22,
      "outputs": [
        {
          "output_type": "execute_result",
          "data": {
            "text/plain": [
              "Freq     0\n",
              "H_a      0\n",
              "Lamda    0\n",
              "K        0\n",
              "Uf       0\n",
              "dtype: int64"
            ]
          },
          "metadata": {},
          "execution_count": 22
        }
      ]
    },
    {
      "cell_type": "code",
      "source": [
        "classes=df['Uf'].unique()\n",
        "classes"
      ],
      "metadata": {
        "id": "pGAMc1rn9ZAZ",
        "colab": {
          "base_uri": "https://localhost:8080/"
        },
        "outputId": "4933e3d9-e9a0-41f2-87dd-38327415e5f9"
      },
      "execution_count": 23,
      "outputs": [
        {
          "output_type": "execute_result",
          "data": {
            "text/plain": [
              "array([-0.67456062, -0.63154398, -0.55927603, -0.50249407, -0.9498671 ,\n",
              "       -0.94298443, -0.92749844, -0.91545379, -1.089241  , -1.08752034,\n",
              "       -1.084079  , -1.08149801,  1.07191486,  1.23537808,  1.51928788,\n",
              "        1.77738771, -0.05512104, -0.02070773,  0.03951556,  0.09113553,\n",
              "       -0.605734  , -0.59368934, -0.57992402, -0.56960002,  1.62252781,\n",
              "        1.82040434,  2.17314077,  2.48286056,  0.22018544,  0.2718054 ,\n",
              "        0.35181635,  0.40945864, -0.4508741 , -0.43968978, -0.42162279,\n",
              "       -0.40957813, -0.69176727, -0.64702997, -0.52056106, -0.95674976,\n",
              "       -0.9472861 , -0.93266044, -0.92061578, -1.09096167, -1.08838067,\n",
              "       -1.08493934, -1.08235834,  1.02287589,  1.17085312,  1.43325461,\n",
              "        1.67414778, -0.0723277 , -0.03791439,  0.02230891,  0.07392887,\n",
              "       -0.60745466, -0.59885134, -0.58508601, -0.57562235,  1.55370119,\n",
              "        1.73437107,  2.06990084,  2.36241397,  0.20297878,  0.24599542,\n",
              "        0.32342537,  0.38364866, -0.45689643, -0.44571211, -0.42850545,\n",
              "       -0.41646079])"
            ]
          },
          "metadata": {},
          "execution_count": 23
        }
      ]
    },
    {
      "cell_type": "code",
      "source": [
        "df['Uf'].value_counts()"
      ],
      "metadata": {
        "id": "YDoWiLoU9g3R",
        "colab": {
          "base_uri": "https://localhost:8080/"
        },
        "outputId": "888505a8-c588-4081-e723-e622a39bd75d"
      },
      "execution_count": 24,
      "outputs": [
        {
          "output_type": "execute_result",
          "data": {
            "text/plain": [
              "-0.579924    2\n",
              "-0.674561    1\n",
              "-0.691767    1\n",
              "-0.072328    1\n",
              " 1.674148    1\n",
              "            ..\n",
              " 0.351816    1\n",
              " 0.409459    1\n",
              "-0.450874    1\n",
              "-0.439690    1\n",
              "-0.416461    1\n",
              "Name: Uf, Length: 71, dtype: int64"
            ]
          },
          "metadata": {},
          "execution_count": 24
        }
      ]
    },
    {
      "cell_type": "code",
      "source": [
        "#df['MAR'].value_counts().plot.bar()"
      ],
      "metadata": {
        "id": "LGWHoDYD99q3"
      },
      "execution_count": 25,
      "outputs": []
    },
    {
      "cell_type": "code",
      "source": [
        "X = df.iloc[:, :-1].values"
      ],
      "metadata": {
        "id": "lNAs70StBQtb"
      },
      "execution_count": 26,
      "outputs": []
    },
    {
      "cell_type": "code",
      "source": [
        "y=df.iloc[:, -1].values \n",
        "y=y.astype('int')"
      ],
      "metadata": {
        "id": "yzC1eB5tCHM0"
      },
      "execution_count": 27,
      "outputs": []
    },
    {
      "cell_type": "code",
      "source": [
        "from sklearn.model_selection import train_test_split "
      ],
      "metadata": {
        "id": "KuL2BTvHCRUq"
      },
      "execution_count": 28,
      "outputs": []
    },
    {
      "cell_type": "code",
      "source": [
        "X_train, X_test, y_train, y_test = train_test_split(X, y, test_size=0.30)"
      ],
      "metadata": {
        "id": "ICXKHRzwCSQC"
      },
      "execution_count": 29,
      "outputs": []
    },
    {
      "cell_type": "code",
      "source": [
        "X_train.shape, X_test.shape"
      ],
      "metadata": {
        "id": "J0F3sq7_Cd2a",
        "colab": {
          "base_uri": "https://localhost:8080/"
        },
        "outputId": "f7bac298-3ea7-450f-9743-6b3879496593"
      },
      "execution_count": 30,
      "outputs": [
        {
          "output_type": "execute_result",
          "data": {
            "text/plain": [
              "((50, 4), (22, 4))"
            ]
          },
          "metadata": {},
          "execution_count": 30
        }
      ]
    },
    {
      "cell_type": "markdown",
      "source": [
        "# **SUJAL WORK AHEAD**\n",
        "\n",
        "####Accuracy by Cross_val_score \n",
        "####Random Forest: 70%\n",
        "####KNN: 64% \n",
        "####XGBoost: 61%"
      ],
      "metadata": {
        "id": "T7deLkLDOuoq"
      }
    },
    {
      "cell_type": "code",
      "source": [
        "#Using K nearest neighbours Random Forest\n",
        "from sklearn.ensemble import RandomForestClassifier \n",
        "rfc = RandomForestClassifier(criterion='entropy',n_estimators=95)\n",
        "rfc.fit(X_train,y_train)"
      ],
      "metadata": {
        "colab": {
          "base_uri": "https://localhost:8080/"
        },
        "id": "FlkOWx14NnfT",
        "outputId": "560b0dba-88b0-4b31-9595-ac0148faacaa"
      },
      "execution_count": 31,
      "outputs": [
        {
          "output_type": "execute_result",
          "data": {
            "text/plain": [
              "RandomForestClassifier(criterion='entropy', n_estimators=95)"
            ]
          },
          "metadata": {},
          "execution_count": 31
        }
      ]
    },
    {
      "cell_type": "code",
      "source": [
        "rfc.score(X_test,y_test)"
      ],
      "metadata": {
        "id": "WAeA_Q08ccZn",
        "outputId": "33f148c4-618e-4184-beac-35c9b2a72409",
        "colab": {
          "base_uri": "https://localhost:8080/"
        }
      },
      "execution_count": 32,
      "outputs": [
        {
          "output_type": "execute_result",
          "data": {
            "text/plain": [
              "0.8181818181818182"
            ]
          },
          "metadata": {},
          "execution_count": 32
        }
      ]
    },
    {
      "cell_type": "code",
      "source": [
        "Yrfc_pred = rfc.predict(X_test)"
      ],
      "metadata": {
        "id": "kQr2Cap5Nx1A"
      },
      "execution_count": 33,
      "outputs": []
    },
    {
      "cell_type": "code",
      "source": [
        "from sklearn.metrics import confusion_matrix\n",
        "confusion_matrix(y_test,Yrfc_pred)"
      ],
      "metadata": {
        "colab": {
          "base_uri": "https://localhost:8080/"
        },
        "id": "UWhXBo9qN3QK",
        "outputId": "31b2a0e1-1e23-4842-e3fc-06797437b5b6"
      },
      "execution_count": 34,
      "outputs": [
        {
          "output_type": "execute_result",
          "data": {
            "text/plain": [
              "array([[ 3,  2,  0,  0],\n",
              "       [ 0, 12,  0,  0],\n",
              "       [ 0,  0,  3,  0],\n",
              "       [ 0,  0,  2,  0]])"
            ]
          },
          "metadata": {},
          "execution_count": 34
        }
      ]
    },
    {
      "cell_type": "code",
      "source": [
        "from sklearn.model_selection import GridSearchCV\n",
        "parameters = [{'criterion':['gini','entropy'],'n_estimators':np.arange(1,100)}]\n",
        "grid_search = GridSearchCV(estimator = rfc,\n",
        "                           param_grid = parameters,\n",
        "                           scoring = 'accuracy',\n",
        "                           cv=10)"
      ],
      "metadata": {
        "id": "F-WX1txfN_h9"
      },
      "execution_count": 35,
      "outputs": []
    },
    {
      "cell_type": "code",
      "source": [
        "from sklearn.model_selection import cross_val_score\n",
        "accuracies = cross_val_score(estimator = rfc,X = X_train, y = y_train, cv = 10, n_jobs=-1)\n",
        "mean_data = accuracies.mean()\n",
        "mean_data"
      ],
      "metadata": {
        "colab": {
          "base_uri": "https://localhost:8080/"
        },
        "id": "Zb3DSVjQN_kK",
        "outputId": "aaae5c3c-2d34-4fe8-dabd-ad7732481d1a"
      },
      "execution_count": 36,
      "outputs": [
        {
          "output_type": "stream",
          "name": "stderr",
          "text": [
            "/usr/local/lib/python3.7/dist-packages/sklearn/model_selection/_split.py:680: UserWarning: The least populated class in y has only 2 members, which is less than n_splits=10.\n",
            "  UserWarning,\n"
          ]
        },
        {
          "output_type": "execute_result",
          "data": {
            "text/plain": [
              "0.9200000000000002"
            ]
          },
          "metadata": {},
          "execution_count": 36
        }
      ]
    },
    {
      "cell_type": "code",
      "source": [
        "#Using cross validation to find the percentage accuracy in Random Forest\n",
        "from sklearn.metrics import accuracy_score\n",
        "random_forest_accuracy_score = accuracy_score(y_test,Yrfc_pred)\n",
        "random_forest_accuracy_score"
      ],
      "metadata": {
        "colab": {
          "base_uri": "https://localhost:8080/"
        },
        "id": "2Lxq9j4wN_pd",
        "outputId": "c2fea80e-3a65-45c7-d7c6-a86bcc48514f"
      },
      "execution_count": 37,
      "outputs": [
        {
          "output_type": "execute_result",
          "data": {
            "text/plain": [
              "0.8181818181818182"
            ]
          },
          "metadata": {},
          "execution_count": 37
        }
      ]
    },
    {
      "cell_type": "code",
      "source": [
        "#Using K nearest neighbours KNN \n",
        "from sklearn.neighbors import KNeighborsClassifier\n",
        "knnc = KNeighborsClassifier()\n",
        "knnc.fit(X_train, y_train)\n",
        "param_grid = {'n_neighbors': [5,10,15,25,30,50]}\n",
        "grid_knn = GridSearchCV(knnc,param_grid,scoring='accuracy',cv=10,refit=True)"
      ],
      "metadata": {
        "id": "mLJrAjfZOVoI"
      },
      "execution_count": 38,
      "outputs": []
    },
    {
      "cell_type": "code",
      "source": [
        "#Using cross validation to find the percentage accuracy in KNN \n",
        "from sklearn.model_selection import cross_val_score\n",
        "accuracies = cross_val_score(estimator = knnc,X = X_train, y = y_train, cv = 10, n_jobs=-1)\n",
        "mean_accuracy_knnc = accuracies.mean()\n",
        "mean_accuracy_knnc"
      ],
      "metadata": {
        "colab": {
          "base_uri": "https://localhost:8080/"
        },
        "id": "iH0HR3Opccji",
        "outputId": "3d5c0f88-c995-4034-f76a-ee4a4e402056"
      },
      "execution_count": 39,
      "outputs": [
        {
          "output_type": "stream",
          "name": "stderr",
          "text": [
            "/usr/local/lib/python3.7/dist-packages/sklearn/model_selection/_split.py:680: UserWarning: The least populated class in y has only 2 members, which is less than n_splits=10.\n",
            "  UserWarning,\n"
          ]
        },
        {
          "output_type": "execute_result",
          "data": {
            "text/plain": [
              "0.76"
            ]
          },
          "metadata": {},
          "execution_count": 39
        }
      ]
    },
    {
      "cell_type": "code",
      "source": [
        "Yknn_pred=knnc.predict(X_test)\n",
        "from sklearn.metrics import accuracy_score\n",
        "KNN_accuracy_score = accuracy_score(y_test,Yknn_pred)\n",
        "KNN_accuracy_score"
      ],
      "metadata": {
        "colab": {
          "base_uri": "https://localhost:8080/"
        },
        "id": "VwXC8jgyd6Cm",
        "outputId": "d40c6efb-85f5-488b-a66e-b72e14681067"
      },
      "execution_count": 40,
      "outputs": [
        {
          "output_type": "execute_result",
          "data": {
            "text/plain": [
              "0.6818181818181818"
            ]
          },
          "metadata": {},
          "execution_count": 40
        }
      ]
    },
    {
      "cell_type": "code",
      "source": [
        "#Stopping the randomness\n",
        "tf.random.set_seed(0)"
      ],
      "metadata": {
        "id": "bWig_IGPOVtP"
      },
      "execution_count": 41,
      "outputs": []
    },
    {
      "cell_type": "code",
      "source": [
        "#Using XGB boost  XGB boost \n",
        "import xgboost as xgb\n",
        "xgbc = xgb.XGBClassifier(random_state=1,learning_rate=0.01)\n",
        "xgbc.fit(X_train,y_train)"
      ],
      "metadata": {
        "colab": {
          "base_uri": "https://localhost:8080/"
        },
        "id": "26Jzhf_DRecI",
        "outputId": "bb530167-078f-48ad-efc5-3a6e8a312ca6"
      },
      "execution_count": 42,
      "outputs": [
        {
          "output_type": "execute_result",
          "data": {
            "text/plain": [
              "XGBClassifier(learning_rate=0.01, objective='multi:softprob', random_state=1)"
            ]
          },
          "metadata": {},
          "execution_count": 42
        }
      ]
    },
    {
      "cell_type": "code",
      "source": [
        "xgbc_predictions = xgbc.predict(X_test)"
      ],
      "metadata": {
        "id": "unHf9_UkQHVH"
      },
      "execution_count": 43,
      "outputs": []
    },
    {
      "cell_type": "code",
      "source": [
        "#Using confusion matrix\n",
        "confusion_matrix_accuracy = confusion_matrix(y_test,xgbc_predictions)\n",
        "confusion_matrix_accuracy"
      ],
      "metadata": {
        "colab": {
          "base_uri": "https://localhost:8080/"
        },
        "id": "ibtocLwHRomM",
        "outputId": "d46e257c-de72-42ac-918c-75f382c25c2b"
      },
      "execution_count": 44,
      "outputs": [
        {
          "output_type": "execute_result",
          "data": {
            "text/plain": [
              "array([[ 5,  0,  0,  0],\n",
              "       [ 0, 12,  0,  0],\n",
              "       [ 0,  0,  3,  0],\n",
              "       [ 0,  0,  2,  0]])"
            ]
          },
          "metadata": {},
          "execution_count": 44
        }
      ]
    },
    {
      "cell_type": "code",
      "source": [
        "#Using cross validation to find the percentage accuracy in XGB boost \n",
        "from sklearn.model_selection import cross_val_score\n",
        "accuracies = cross_val_score(estimator = xgbc,X = X_train, y = y_train, cv = 10, n_jobs=-1)\n",
        "mean_accuracy_xgb = accuracies.mean()\n",
        "mean_accuracy_xgb"
      ],
      "metadata": {
        "colab": {
          "base_uri": "https://localhost:8080/"
        },
        "id": "jhQc5hCoRoqh",
        "outputId": "69fd57d1-e0ea-4ef2-e2d9-4065bd7b3f58"
      },
      "execution_count": 45,
      "outputs": [
        {
          "output_type": "stream",
          "name": "stderr",
          "text": [
            "/usr/local/lib/python3.7/dist-packages/sklearn/model_selection/_split.py:680: UserWarning: The least populated class in y has only 2 members, which is less than n_splits=10.\n",
            "  UserWarning,\n"
          ]
        },
        {
          "output_type": "execute_result",
          "data": {
            "text/plain": [
              "0.86"
            ]
          },
          "metadata": {},
          "execution_count": 45
        }
      ]
    },
    {
      "cell_type": "code",
      "source": [
        "#Accuracy score of the XGB \n",
        "XGB_accuracy_score = accuracy_score(y_test,xgbc_predictions)\n",
        "XGB_accuracy_score"
      ],
      "metadata": {
        "colab": {
          "base_uri": "https://localhost:8080/"
        },
        "id": "fQ2VPyLCRotu",
        "outputId": "5b88548a-061f-4d51-d139-785be27485b3"
      },
      "execution_count": 46,
      "outputs": [
        {
          "output_type": "execute_result",
          "data": {
            "text/plain": [
              "0.9090909090909091"
            ]
          },
          "metadata": {},
          "execution_count": 46
        }
      ]
    },
    {
      "cell_type": "markdown",
      "source": [
        "### **ROC Curve of KNN, XGBoost and Random Forest**"
      ],
      "metadata": {
        "id": "kpaFPMjBbzl4"
      }
    },
    {
      "cell_type": "code",
      "source": [
        "predictionsknnc=knnc.predict(X_test)\n",
        "\n",
        "from sklearn.metrics import roc_curve,auc\n",
        "\n",
        "fpr,tpr,_=roc_curve(y_test,predictionsknnc, pos_label=2)\n",
        "\n",
        "roc_auc=auc(fpr,tpr)\n",
        "\n",
        "# Plot of a ROC curve for a specific class\n",
        "plt.figure()\n",
        "plt.plot(fpr, tpr, label='ROC curve (area = %0.2f)' % roc_auc)\n",
        "plt.plot([0, 1], [0, 1], 'k--')\n",
        "plt.xlim([0.0, 1.0])\n",
        "plt.ylim([0.0, 1.05])\n",
        "plt.xlabel('False Positive Rate')\n",
        "plt.ylabel('True Positive Rate')\n",
        "plt.title('KNN ROC Curve')\n",
        "plt.legend(loc=\"lower right\")\n",
        "plt.show()\n",
        "resolution_value = 600\n",
        "plt.savefig(\"KNN ROC Curve.png\", format=\"png\", dpi=resolution_value)"
      ],
      "metadata": {
        "colab": {
          "base_uri": "https://localhost:8080/",
          "height": 312
        },
        "id": "gBf6LRMmXMD_",
        "outputId": "9e1f3dc9-0c78-473c-dd65-2e7a86d19d41"
      },
      "execution_count": 47,
      "outputs": [
        {
          "output_type": "display_data",
          "data": {
            "text/plain": [
              "<Figure size 432x288 with 1 Axes>"
            ],
            "image/png": "[encoded data removed]"
          },
          "metadata": {
            "needs_background": "light"
          }
        },
        {
          "output_type": "display_data",
          "data": {
            "text/plain": [
              "<Figure size 432x288 with 0 Axes>"
            ]
          },
          "metadata": {}
        }
      ]
    },
    {
      "cell_type": "code",
      "source": [
        "predictionsxgbc=xgbc.predict(X_test)\n",
        "\n",
        "from sklearn.metrics import roc_curve,auc\n",
        "\n",
        "fpr,tpr,_=roc_curve(y_test,predictionsxgbc, pos_label=2)\n",
        "\n",
        "roc_auc=auc(fpr,tpr)\n",
        "\n",
        "# Plot of a ROC curve for a specific class\n",
        "plt.figure()\n",
        "plt.plot(fpr, tpr, label='ROC curve (area = %0.2f)' % roc_auc)\n",
        "plt.plot([0, 1], [0, 1], 'k--')\n",
        "plt.xlim([0.0, 1.0])\n",
        "plt.ylim([0.0, 1.05])\n",
        "plt.xlabel('False Positive Rate')\n",
        "plt.ylabel('True Positive Rate')\n",
        "plt.title('XGBoost ROC Curve')\n",
        "plt.legend(loc=\"lower right\")\n",
        "plt.show()\n",
        "resolution_value = 600\n",
        "plt.savefig(\"XGBoost ROC Curve.png\", format=\"png\", dpi=resolution_value)"
      ],
      "metadata": {
        "colab": {
          "base_uri": "https://localhost:8080/",
          "height": 312
        },
        "id": "iwobnobWX447",
        "outputId": "8cae21c9-0955-4b40-ba42-7b71f7d510df"
      },
      "execution_count": 48,
      "outputs": [
        {
          "output_type": "display_data",
          "data": {
            "text/plain": [
              "<Figure size 432x288 with 1 Axes>"
            ],
            "image/png": "[encoded data removed]"
          },
          "metadata": {
            "needs_background": "light"
          }
        },
        {
          "output_type": "display_data",
          "data": {
            "text/plain": [
              "<Figure size 432x288 with 0 Axes>"
            ]
          },
          "metadata": {}
        }
      ]
    },
    {
      "cell_type": "code",
      "source": [
        "pred_rf=rfc.predict(X_test)\n",
        "\n",
        "from sklearn.metrics import roc_curve,auc\n",
        "\n",
        "fpr,tpr,_=roc_curve(y_test,pred_rf, pos_label=2)\n",
        "\n",
        "roc_auc=auc(fpr,tpr)\n",
        "\n",
        "# Plot of a ROC curve for a specific class\n",
        "plt.figure()\n",
        "plt.plot(fpr, tpr, label='ROC curve (area = %0.2f)' % roc_auc)\n",
        "plt.plot([0, 1], [0, 1], 'k--')\n",
        "plt.xlim([0.0, 1.0])\n",
        "plt.ylim([0.0, 1.05])\n",
        "plt.xlabel('False Positive Rate')\n",
        "plt.ylabel('True Positive Rate')\n",
        "plt.title('Random Forest Feature ROC Curve')\n",
        "plt.legend(loc=\"lower right\")\n",
        "plt.show()\n",
        "resolution_value = 600\n",
        "plt.savefig(\"Random Forest Feature ROC Curve.png\", format=\"png\", dpi=resolution_value)\n"
      ],
      "metadata": {
        "colab": {
          "base_uri": "https://localhost:8080/",
          "height": 312
        },
        "id": "6puDAKtlYR_R",
        "outputId": "a8bcc12b-6947-4817-dbb0-3d2dec1002b2"
      },
      "execution_count": 49,
      "outputs": [
        {
          "output_type": "display_data",
          "data": {
            "text/plain": [
              "<Figure size 432x288 with 1 Axes>"
            ],
            "image/png": "[encoded data removed]"
          },
          "metadata": {
            "needs_background": "light"
          }
        },
        {
          "output_type": "display_data",
          "data": {
            "text/plain": [
              "<Figure size 432x288 with 0 Axes>"
            ]
          },
          "metadata": {}
        }
      ]
    },
    {
      "cell_type": "code",
      "source": [
        "from sklearn.inspection import permutation_importance\n",
        "perm_importance = permutation_importance(rfc, X_test, y_test)\n",
        "sorted_idx = perm_importance.importances_mean.argsort()\n",
        "plt.barh(df.columns[sorted_idx], rfc.feature_importances_[sorted_idx])\n",
        "plt.xlabel(\"Random Forest Feature Importance\")\n",
        "resolution_value = 600\n",
        "plt.savefig(\"Random Forest Feature Importance.png\", format=\"png\", dpi=resolution_value)"
      ],
      "metadata": {
        "id": "qtGQ91dxgHFk",
        "outputId": "9afdf8b4-3796-4319-fd43-4b686859f012",
        "colab": {
          "base_uri": "https://localhost:8080/",
          "height": 279
        }
      },
      "execution_count": 50,
      "outputs": [
        {
          "output_type": "display_data",
          "data": {
            "text/plain": [
              "<Figure size 432x288 with 1 Axes>"
            ],
            "image/png": "[encoded data removed]"
          },
          "metadata": {
            "needs_background": "light"
          }
        }
      ]
    },
    {
      "cell_type": "code",
      "source": [
        "from sklearn.inspection import permutation_importance\n",
        "perm_importance2 = permutation_importance(xgbc, X_test, y_test)\n",
        "sorted_idx = perm_importance2.importances_mean.argsort()\n",
        "plt.barh(df.columns[sorted_idx], xgbc.feature_importances_[sorted_idx])\n",
        "plt.xlabel(\"XGBoost Feature Importance\")\n",
        "resolution_value = 600\n",
        "plt.savefig(\"XGBoost Feature Importance.png\", format=\"png\", dpi=resolution_value)"
      ],
      "metadata": {
        "id": "yhC5dFtrmhcx",
        "outputId": "b5116094-a5d6-4f97-c202-0f7343b3336e",
        "colab": {
          "base_uri": "https://localhost:8080/",
          "height": 279
        }
      },
      "execution_count": 51,
      "outputs": [
        {
          "output_type": "display_data",
          "data": {
            "text/plain": [
              "<Figure size 432x288 with 1 Axes>"
            ],
            "image/png": "[encoded data removed]"
          },
          "metadata": {
            "needs_background": "light"
          }
        }
      ]
    },
    {
      "cell_type": "code",
      "source": [],
      "metadata": {
        "id": "FjrofvlQoK6t"
      },
      "execution_count": 51,
      "outputs": []
    },
    {
      "cell_type": "code",
      "source": [],
      "metadata": {
        "id": "cN_rptK1hTZ1"
      },
      "execution_count": 51,
      "outputs": []
    }
  ]
}