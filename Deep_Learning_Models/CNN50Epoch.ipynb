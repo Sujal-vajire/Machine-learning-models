{
  "cells": [
    {
      "cell_type": "markdown",
      "metadata": {
        "id": "view-in-github",
        "colab_type": "text"
      },
      "source": [
        "<a href=\"https://colab.research.google.com/github/Sujal-vajire/Machine-learning-models/blob/main/CNN50Epoch.ipynb\" target=\"_parent\"><img src=\"https://colab.research.google.com/assets/colab-badge.svg\" alt=\"Open In Colab\"/></a>"
      ]
    },
    {
      "cell_type": "code",
      "execution_count": 1,
      "metadata": {
        "id": "0d0rh_eUe4Ae"
      },
      "outputs": [],
      "source": [
        "from keras.models import Sequential\n",
        "from keras.layers import Dense, Dropout, LSTM, Bidirectional\n",
        "from sklearn.preprocessing import MinMaxScaler\n",
        "import pandas as pd\n",
        "import numpy as np\n",
        "import matplotlib.pyplot as plt"
      ]
    },
    {
      "cell_type": "code",
      "execution_count": 2,
      "metadata": {
        "id": "0Bq3vlxCfVvj"
      },
      "outputs": [],
      "source": [
        "data = pd.read_csv('dataset1.csv',)"
      ]
    },
    {
      "cell_type": "code",
      "execution_count": 3,
      "metadata": {
        "colab": {
          "base_uri": "https://localhost:8080/",
          "height": 523
        },
        "id": "rDtsv_QlgiLt",
        "outputId": "4f2392df-43e7-4358-8e22-49c55c754847"
      },
      "outputs": [
        {
          "output_type": "execute_result",
          "data": {
            "text/plain": [
              "         UNIXTime              Data      Time  Radiation  Temperature  \\\n",
              "32681  1480587604  12-01-2016 00:00  00:20:04       1.22           44   \n",
              "32682  1480587301  12-01-2016 00:00  00:15:01       1.17           44   \n",
              "32683  1480587001  12-01-2016 00:00  00:10:01       1.20           44   \n",
              "32684  1480586702  12-01-2016 00:00  00:05:02       1.23           44   \n",
              "32685  1480586402  12-01-2016 00:00  00:00:02       1.20           44   \n",
              "\n",
              "       Pressure  Humidity  WindDirection(Degrees)  Speed TimeSunRise  \\\n",
              "32681     30.43       102                  145.42   6.75    06:41:00   \n",
              "32682     30.42       102                  117.78   6.75    06:41:00   \n",
              "32683     30.42       102                  145.19   9.00    06:41:00   \n",
              "32684     30.42       101                  164.19   7.87    06:41:00   \n",
              "32685     30.43       101                   83.59   3.37    06:41:00   \n",
              "\n",
              "      TimeSunSet  \n",
              "32681   17:42:00  \n",
              "32682   17:42:00  \n",
              "32683   17:42:00  \n",
              "32684   17:42:00  \n",
              "32685   17:42:00  "
            ],
            "text/html": [
              "\n",
              "  <div id=\"df-f47e9e84-b612-47ca-acb1-a193406a7136\">\n",
              "    <div class=\"colab-df-container\">\n",
              "      <div>\n",
              "<style scoped>\n",
              "    .dataframe tbody tr th:only-of-type {\n",
              "        vertical-align: middle;\n",
              "    }\n",
              "\n",
              "    .dataframe tbody tr th {\n",
              "        vertical-align: top;\n",
              "    }\n",
              "\n",
              "    .dataframe thead th {\n",
              "        text-align: right;\n",
              "    }\n",
              "</style>\n",
              "<table border=\"1\" class=\"dataframe\">\n",
              "  <thead>\n",
              "    <tr style=\"text-align: right;\">\n",
              "      <th></th>\n",
              "      <th>UNIXTime</th>\n",
              "      <th>Data</th>\n",
              "      <th>Time</th>\n",
              "      <th>Radiation</th>\n",
              "      <th>Temperature</th>\n",
              "      <th>Pressure</th>\n",
              "      <th>Humidity</th>\n",
              "      <th>WindDirection(Degrees)</th>\n",
              "      <th>Speed</th>\n",
              "      <th>TimeSunRise</th>\n",
              "      <th>TimeSunSet</th>\n",
              "    </tr>\n",
              "  </thead>\n",
              "  <tbody>\n",
              "    <tr>\n",
              "      <th>32681</th>\n",
              "      <td>1480587604</td>\n",
              "      <td>12-01-2016 00:00</td>\n",
              "      <td>00:20:04</td>\n",
              "      <td>1.22</td>\n",
              "      <td>44</td>\n",
              "      <td>30.43</td>\n",
              "      <td>102</td>\n",
              "      <td>145.42</td>\n",
              "      <td>6.75</td>\n",
              "      <td>06:41:00</td>\n",
              "      <td>17:42:00</td>\n",
              "    </tr>\n",
              "    <tr>\n",
              "      <th>32682</th>\n",
              "      <td>1480587301</td>\n",
              "      <td>12-01-2016 00:00</td>\n",
              "      <td>00:15:01</td>\n",
              "      <td>1.17</td>\n",
              "      <td>44</td>\n",
              "      <td>30.42</td>\n",
              "      <td>102</td>\n",
              "      <td>117.78</td>\n",
              "      <td>6.75</td>\n",
              "      <td>06:41:00</td>\n",
              "      <td>17:42:00</td>\n",
              "    </tr>\n",
              "    <tr>\n",
              "      <th>32683</th>\n",
              "      <td>1480587001</td>\n",
              "      <td>12-01-2016 00:00</td>\n",
              "      <td>00:10:01</td>\n",
              "      <td>1.20</td>\n",
              "      <td>44</td>\n",
              "      <td>30.42</td>\n",
              "      <td>102</td>\n",
              "      <td>145.19</td>\n",
              "      <td>9.00</td>\n",
              "      <td>06:41:00</td>\n",
              "      <td>17:42:00</td>\n",
              "    </tr>\n",
              "    <tr>\n",
              "      <th>32684</th>\n",
              "      <td>1480586702</td>\n",
              "      <td>12-01-2016 00:00</td>\n",
              "      <td>00:05:02</td>\n",
              "      <td>1.23</td>\n",
              "      <td>44</td>\n",
              "      <td>30.42</td>\n",
              "      <td>101</td>\n",
              "      <td>164.19</td>\n",
              "      <td>7.87</td>\n",
              "      <td>06:41:00</td>\n",
              "      <td>17:42:00</td>\n",
              "    </tr>\n",
              "    <tr>\n",
              "      <th>32685</th>\n",
              "      <td>1480586402</td>\n",
              "      <td>12-01-2016 00:00</td>\n",
              "      <td>00:00:02</td>\n",
              "      <td>1.20</td>\n",
              "      <td>44</td>\n",
              "      <td>30.43</td>\n",
              "      <td>101</td>\n",
              "      <td>83.59</td>\n",
              "      <td>3.37</td>\n",
              "      <td>06:41:00</td>\n",
              "      <td>17:42:00</td>\n",
              "    </tr>\n",
              "  </tbody>\n",
              "</table>\n",
              "</div>\n",
              "      <button class=\"colab-df-convert\" onclick=\"convertToInteractive('df-f47e9e84-b612-47ca-acb1-a193406a7136')\"\n",
              "              title=\"Convert this dataframe to an interactive table.\"\n",
              "              style=\"display:none;\">\n",
              "        \n",
              "  <svg xmlns=\"http://www.w3.org/2000/svg\" height=\"24px\"viewBox=\"0 0 24 24\"\n",
              "       width=\"24px\">\n",
              "    <path d=\"M0 0h24v24H0V0z\" fill=\"none\"/>\n",
              "    <path d=\"M18.56 5.44l.94 2.06.94-2.06 2.06-.94-2.06-.94-.94-2.06-.94 2.06-2.06.94zm-11 1L8.5 8.5l.94-2.06 2.06-.94-2.06-.94L8.5 2.5l-.94 2.06-2.06.94zm10 10l.94 2.06.94-2.06 2.06-.94-2.06-.94-.94-2.06-.94 2.06-2.06.94z\"/><path d=\"M17.41 7.96l-1.37-1.37c-.4-.4-.92-.59-1.43-.59-.52 0-1.04.2-1.43.59L10.3 9.45l-7.72 7.72c-.78.78-.78 2.05 0 2.83L4 21.41c.39.39.9.59 1.41.59.51 0 1.02-.2 1.41-.59l7.78-7.78 2.81-2.81c.8-.78.8-2.07 0-2.86zM5.41 20L4 18.59l7.72-7.72 1.47 1.35L5.41 20z\"/>\n",
              "  </svg>\n",
              "      </button>\n",
              "      \n",
              "  <style>\n",
              "    .colab-df-container {\n",
              "      display:flex;\n",
              "      flex-wrap:wrap;\n",
              "      gap: 12px;\n",
              "    }\n",
              "\n",
              "    .colab-df-convert {\n",
              "      background-color: #E8F0FE;\n",
              "      border: none;\n",
              "      border-radius: 50%;\n",
              "      cursor: pointer;\n",
              "      display: none;\n",
              "      fill: #1967D2;\n",
              "      height: 32px;\n",
              "      padding: 0 0 0 0;\n",
              "      width: 32px;\n",
              "    }\n",
              "\n",
              "    .colab-df-convert:hover {\n",
              "      background-color: #E2EBFA;\n",
              "      box-shadow: 0px 1px 2px rgba(60, 64, 67, 0.3), 0px 1px 3px 1px rgba(60, 64, 67, 0.15);\n",
              "      fill: #174EA6;\n",
              "    }\n",
              "\n",
              "    [theme=dark] .colab-df-convert {\n",
              "      background-color: #3B4455;\n",
              "      fill: #D2E3FC;\n",
              "    }\n",
              "\n",
              "    [theme=dark] .colab-df-convert:hover {\n",
              "      background-color: #434B5C;\n",
              "      box-shadow: 0px 1px 3px 1px rgba(0, 0, 0, 0.15);\n",
              "      filter: drop-shadow(0px 1px 2px rgba(0, 0, 0, 0.3));\n",
              "      fill: #FFFFFF;\n",
              "    }\n",
              "  </style>\n",
              "\n",
              "      <script>\n",
              "        const buttonEl =\n",
              "          document.querySelector('#df-f47e9e84-b612-47ca-acb1-a193406a7136 button.colab-df-convert');\n",
              "        buttonEl.style.display =\n",
              "          google.colab.kernel.accessAllowed ? 'block' : 'none';\n",
              "\n",
              "        async function convertToInteractive(key) {\n",
              "          const element = document.querySelector('#df-f47e9e84-b612-47ca-acb1-a193406a7136');\n",
              "          const dataTable =\n",
              "            await google.colab.kernel.invokeFunction('convertToInteractive',\n",
              "                                                     [key], {});\n",
              "          if (!dataTable) return;\n",
              "\n",
              "          const docLinkHtml = 'Like what you see? Visit the ' +\n",
              "            '<a target=\"_blank\" href=https://colab.research.google.com/notebooks/data_table.ipynb>data table notebook</a>'\n",
              "            + ' to learn more about interactive tables.';\n",
              "          element.innerHTML = '';\n",
              "          dataTable['output_type'] = 'display_data';\n",
              "          await google.colab.output.renderOutput(dataTable, element);\n",
              "          const docLink = document.createElement('div');\n",
              "          docLink.innerHTML = docLinkHtml;\n",
              "          element.appendChild(docLink);\n",
              "        }\n",
              "      </script>\n",
              "    </div>\n",
              "  </div>\n",
              "  "
            ]
          },
          "metadata": {},
          "execution_count": 3
        }
      ],
      "source": [
        "data.tail()"
      ]
    },
    {
      "cell_type": "code",
      "execution_count": 4,
      "metadata": {
        "colab": {
          "base_uri": "https://localhost:8080/",
          "height": 235
        },
        "id": "iR4YB_6jHGcp",
        "outputId": "3dc2b0d7-fd80-4e5c-c869-971b6b2b76b5"
      },
      "outputs": [
        {
          "output_type": "execute_result",
          "data": {
            "text/plain": [
              "            Radiation\n",
              "UNIXTime             \n",
              "1481318139     120.52\n",
              "1481317850     107.32\n",
              "1481317540     144.85\n",
              "1481317251     179.73\n",
              "1481316953     193.00"
            ],
            "text/html": [
              "\n",
              "  <div id=\"df-e5c9d8d6-bf0a-415a-bf1d-c1934b36c3a5\">\n",
              "    <div class=\"colab-df-container\">\n",
              "      <div>\n",
              "<style scoped>\n",
              "    .dataframe tbody tr th:only-of-type {\n",
              "        vertical-align: middle;\n",
              "    }\n",
              "\n",
              "    .dataframe tbody tr th {\n",
              "        vertical-align: top;\n",
              "    }\n",
              "\n",
              "    .dataframe thead th {\n",
              "        text-align: right;\n",
              "    }\n",
              "</style>\n",
              "<table border=\"1\" class=\"dataframe\">\n",
              "  <thead>\n",
              "    <tr style=\"text-align: right;\">\n",
              "      <th></th>\n",
              "      <th>Radiation</th>\n",
              "    </tr>\n",
              "    <tr>\n",
              "      <th>UNIXTime</th>\n",
              "      <th></th>\n",
              "    </tr>\n",
              "  </thead>\n",
              "  <tbody>\n",
              "    <tr>\n",
              "      <th>1481318139</th>\n",
              "      <td>120.52</td>\n",
              "    </tr>\n",
              "    <tr>\n",
              "      <th>1481317850</th>\n",
              "      <td>107.32</td>\n",
              "    </tr>\n",
              "    <tr>\n",
              "      <th>1481317540</th>\n",
              "      <td>144.85</td>\n",
              "    </tr>\n",
              "    <tr>\n",
              "      <th>1481317251</th>\n",
              "      <td>179.73</td>\n",
              "    </tr>\n",
              "    <tr>\n",
              "      <th>1481316953</th>\n",
              "      <td>193.00</td>\n",
              "    </tr>\n",
              "  </tbody>\n",
              "</table>\n",
              "</div>\n",
              "      <button class=\"colab-df-convert\" onclick=\"convertToInteractive('df-e5c9d8d6-bf0a-415a-bf1d-c1934b36c3a5')\"\n",
              "              title=\"Convert this dataframe to an interactive table.\"\n",
              "              style=\"display:none;\">\n",
              "        \n",
              "  <svg xmlns=\"http://www.w3.org/2000/svg\" height=\"24px\"viewBox=\"0 0 24 24\"\n",
              "       width=\"24px\">\n",
              "    <path d=\"M0 0h24v24H0V0z\" fill=\"none\"/>\n",
              "    <path d=\"M18.56 5.44l.94 2.06.94-2.06 2.06-.94-2.06-.94-.94-2.06-.94 2.06-2.06.94zm-11 1L8.5 8.5l.94-2.06 2.06-.94-2.06-.94L8.5 2.5l-.94 2.06-2.06.94zm10 10l.94 2.06.94-2.06 2.06-.94-2.06-.94-.94-2.06-.94 2.06-2.06.94z\"/><path d=\"M17.41 7.96l-1.37-1.37c-.4-.4-.92-.59-1.43-.59-.52 0-1.04.2-1.43.59L10.3 9.45l-7.72 7.72c-.78.78-.78 2.05 0 2.83L4 21.41c.39.39.9.59 1.41.59.51 0 1.02-.2 1.41-.59l7.78-7.78 2.81-2.81c.8-.78.8-2.07 0-2.86zM5.41 20L4 18.59l7.72-7.72 1.47 1.35L5.41 20z\"/>\n",
              "  </svg>\n",
              "      </button>\n",
              "      \n",
              "  <style>\n",
              "    .colab-df-container {\n",
              "      display:flex;\n",
              "      flex-wrap:wrap;\n",
              "      gap: 12px;\n",
              "    }\n",
              "\n",
              "    .colab-df-convert {\n",
              "      background-color: #E8F0FE;\n",
              "      border: none;\n",
              "      border-radius: 50%;\n",
              "      cursor: pointer;\n",
              "      display: none;\n",
              "      fill: #1967D2;\n",
              "      height: 32px;\n",
              "      padding: 0 0 0 0;\n",
              "      width: 32px;\n",
              "    }\n",
              "\n",
              "    .colab-df-convert:hover {\n",
              "      background-color: #E2EBFA;\n",
              "      box-shadow: 0px 1px 2px rgba(60, 64, 67, 0.3), 0px 1px 3px 1px rgba(60, 64, 67, 0.15);\n",
              "      fill: #174EA6;\n",
              "    }\n",
              "\n",
              "    [theme=dark] .colab-df-convert {\n",
              "      background-color: #3B4455;\n",
              "      fill: #D2E3FC;\n",
              "    }\n",
              "\n",
              "    [theme=dark] .colab-df-convert:hover {\n",
              "      background-color: #434B5C;\n",
              "      box-shadow: 0px 1px 3px 1px rgba(0, 0, 0, 0.15);\n",
              "      filter: drop-shadow(0px 1px 2px rgba(0, 0, 0, 0.3));\n",
              "      fill: #FFFFFF;\n",
              "    }\n",
              "  </style>\n",
              "\n",
              "      <script>\n",
              "        const buttonEl =\n",
              "          document.querySelector('#df-e5c9d8d6-bf0a-415a-bf1d-c1934b36c3a5 button.colab-df-convert');\n",
              "        buttonEl.style.display =\n",
              "          google.colab.kernel.accessAllowed ? 'block' : 'none';\n",
              "\n",
              "        async function convertToInteractive(key) {\n",
              "          const element = document.querySelector('#df-e5c9d8d6-bf0a-415a-bf1d-c1934b36c3a5');\n",
              "          const dataTable =\n",
              "            await google.colab.kernel.invokeFunction('convertToInteractive',\n",
              "                                                     [key], {});\n",
              "          if (!dataTable) return;\n",
              "\n",
              "          const docLinkHtml = 'Like what you see? Visit the ' +\n",
              "            '<a target=\"_blank\" href=https://colab.research.google.com/notebooks/data_table.ipynb>data table notebook</a>'\n",
              "            + ' to learn more about interactive tables.';\n",
              "          element.innerHTML = '';\n",
              "          dataTable['output_type'] = 'display_data';\n",
              "          await google.colab.output.renderOutput(dataTable, element);\n",
              "          const docLink = document.createElement('div');\n",
              "          docLink.innerHTML = docLinkHtml;\n",
              "          element.appendChild(docLink);\n",
              "        }\n",
              "      </script>\n",
              "    </div>\n",
              "  </div>\n",
              "  "
            ]
          },
          "metadata": {},
          "execution_count": 4
        }
      ],
      "source": [
        "scaled_data = data[['UNIXTime','Radiation']].iloc[:31000,:]\n",
        "scaled_data.set_index('UNIXTime',drop=True,inplace=True)\n",
        "scaled_data.tail()"
      ]
    },
    {
      "cell_type": "code",
      "execution_count": 5,
      "metadata": {
        "colab": {
          "base_uri": "https://localhost:8080/",
          "height": 235
        },
        "id": "FUj1Fj6Ut8A4",
        "outputId": "e21d07d1-74a4-406e-9f2e-e8a060d2c2d0"
      },
      "outputs": [
        {
          "output_type": "execute_result",
          "data": {
            "text/plain": [
              "            Radiation\n",
              "UNIXTime             \n",
              "1475229326   0.000062\n",
              "1475229023   0.000062\n",
              "1475228726   0.000075\n",
              "1475228421   0.000062\n",
              "1475228124   0.000037"
            ],
            "text/html": [
              "\n",
              "  <div id=\"df-c04437d4-fe90-48a5-ba7f-4cc19abccf2d\">\n",
              "    <div class=\"colab-df-container\">\n",
              "      <div>\n",
              "<style scoped>\n",
              "    .dataframe tbody tr th:only-of-type {\n",
              "        vertical-align: middle;\n",
              "    }\n",
              "\n",
              "    .dataframe tbody tr th {\n",
              "        vertical-align: top;\n",
              "    }\n",
              "\n",
              "    .dataframe thead th {\n",
              "        text-align: right;\n",
              "    }\n",
              "</style>\n",
              "<table border=\"1\" class=\"dataframe\">\n",
              "  <thead>\n",
              "    <tr style=\"text-align: right;\">\n",
              "      <th></th>\n",
              "      <th>Radiation</th>\n",
              "    </tr>\n",
              "    <tr>\n",
              "      <th>UNIXTime</th>\n",
              "      <th></th>\n",
              "    </tr>\n",
              "  </thead>\n",
              "  <tbody>\n",
              "    <tr>\n",
              "      <th>1475229326</th>\n",
              "      <td>0.000062</td>\n",
              "    </tr>\n",
              "    <tr>\n",
              "      <th>1475229023</th>\n",
              "      <td>0.000062</td>\n",
              "    </tr>\n",
              "    <tr>\n",
              "      <th>1475228726</th>\n",
              "      <td>0.000075</td>\n",
              "    </tr>\n",
              "    <tr>\n",
              "      <th>1475228421</th>\n",
              "      <td>0.000062</td>\n",
              "    </tr>\n",
              "    <tr>\n",
              "      <th>1475228124</th>\n",
              "      <td>0.000037</td>\n",
              "    </tr>\n",
              "  </tbody>\n",
              "</table>\n",
              "</div>\n",
              "      <button class=\"colab-df-convert\" onclick=\"convertToInteractive('df-c04437d4-fe90-48a5-ba7f-4cc19abccf2d')\"\n",
              "              title=\"Convert this dataframe to an interactive table.\"\n",
              "              style=\"display:none;\">\n",
              "        \n",
              "  <svg xmlns=\"http://www.w3.org/2000/svg\" height=\"24px\"viewBox=\"0 0 24 24\"\n",
              "       width=\"24px\">\n",
              "    <path d=\"M0 0h24v24H0V0z\" fill=\"none\"/>\n",
              "    <path d=\"M18.56 5.44l.94 2.06.94-2.06 2.06-.94-2.06-.94-.94-2.06-.94 2.06-2.06.94zm-11 1L8.5 8.5l.94-2.06 2.06-.94-2.06-.94L8.5 2.5l-.94 2.06-2.06.94zm10 10l.94 2.06.94-2.06 2.06-.94-2.06-.94-.94-2.06-.94 2.06-2.06.94z\"/><path d=\"M17.41 7.96l-1.37-1.37c-.4-.4-.92-.59-1.43-.59-.52 0-1.04.2-1.43.59L10.3 9.45l-7.72 7.72c-.78.78-.78 2.05 0 2.83L4 21.41c.39.39.9.59 1.41.59.51 0 1.02-.2 1.41-.59l7.78-7.78 2.81-2.81c.8-.78.8-2.07 0-2.86zM5.41 20L4 18.59l7.72-7.72 1.47 1.35L5.41 20z\"/>\n",
              "  </svg>\n",
              "      </button>\n",
              "      \n",
              "  <style>\n",
              "    .colab-df-container {\n",
              "      display:flex;\n",
              "      flex-wrap:wrap;\n",
              "      gap: 12px;\n",
              "    }\n",
              "\n",
              "    .colab-df-convert {\n",
              "      background-color: #E8F0FE;\n",
              "      border: none;\n",
              "      border-radius: 50%;\n",
              "      cursor: pointer;\n",
              "      display: none;\n",
              "      fill: #1967D2;\n",
              "      height: 32px;\n",
              "      padding: 0 0 0 0;\n",
              "      width: 32px;\n",
              "    }\n",
              "\n",
              "    .colab-df-convert:hover {\n",
              "      background-color: #E2EBFA;\n",
              "      box-shadow: 0px 1px 2px rgba(60, 64, 67, 0.3), 0px 1px 3px 1px rgba(60, 64, 67, 0.15);\n",
              "      fill: #174EA6;\n",
              "    }\n",
              "\n",
              "    [theme=dark] .colab-df-convert {\n",
              "      background-color: #3B4455;\n",
              "      fill: #D2E3FC;\n",
              "    }\n",
              "\n",
              "    [theme=dark] .colab-df-convert:hover {\n",
              "      background-color: #434B5C;\n",
              "      box-shadow: 0px 1px 3px 1px rgba(0, 0, 0, 0.15);\n",
              "      filter: drop-shadow(0px 1px 2px rgba(0, 0, 0, 0.3));\n",
              "      fill: #FFFFFF;\n",
              "    }\n",
              "  </style>\n",
              "\n",
              "      <script>\n",
              "        const buttonEl =\n",
              "          document.querySelector('#df-c04437d4-fe90-48a5-ba7f-4cc19abccf2d button.colab-df-convert');\n",
              "        buttonEl.style.display =\n",
              "          google.colab.kernel.accessAllowed ? 'block' : 'none';\n",
              "\n",
              "        async function convertToInteractive(key) {\n",
              "          const element = document.querySelector('#df-c04437d4-fe90-48a5-ba7f-4cc19abccf2d');\n",
              "          const dataTable =\n",
              "            await google.colab.kernel.invokeFunction('convertToInteractive',\n",
              "                                                     [key], {});\n",
              "          if (!dataTable) return;\n",
              "\n",
              "          const docLinkHtml = 'Like what you see? Visit the ' +\n",
              "            '<a target=\"_blank\" href=https://colab.research.google.com/notebooks/data_table.ipynb>data table notebook</a>'\n",
              "            + ' to learn more about interactive tables.';\n",
              "          element.innerHTML = '';\n",
              "          dataTable['output_type'] = 'display_data';\n",
              "          await google.colab.output.renderOutput(dataTable, element);\n",
              "          const docLink = document.createElement('div');\n",
              "          docLink.innerHTML = docLinkHtml;\n",
              "          element.appendChild(docLink);\n",
              "        }\n",
              "      </script>\n",
              "    </div>\n",
              "  </div>\n",
              "  "
            ]
          },
          "metadata": {},
          "execution_count": 5
        }
      ],
      "source": [
        "MMS = MinMaxScaler()\n",
        "scaled_data[scaled_data.columns] = MMS.fit_transform(scaled_data)\n",
        "scaled_data.head()"
      ]
    },
    {
      "cell_type": "code",
      "execution_count": 6,
      "metadata": {
        "id": "9_OQ6z9DuXkr"
      },
      "outputs": [],
      "source": [
        "from keras.layers import Bidirectional,LSTM,Dense,Flatten,Conv1D,MaxPooling1D,Dropout,RepeatVector\n",
        "from keras.models import Sequential\n",
        "from keras.callbacks import EarlyStopping,ReduceLROnPlateau\n",
        "\n",
        "early_stop=EarlyStopping(monitor='loss',patience=5)"
      ]
    },
    {
      "cell_type": "code",
      "execution_count": 7,
      "metadata": {
        "id": "7fLg4_cbuZLN"
      },
      "outputs": [],
      "source": [
        "model=Sequential([Conv1D(100,kernel_size=3,input_shape=(30,1),activation='relu'),\n",
        "                  Conv1D(100,kernel_size=3),\n",
        "                  Conv1D(100,kernel_size=3),\n",
        "                  MaxPooling1D(2),\n",
        "                 Flatten(),\n",
        "                  RepeatVector(30),\n",
        "                 LSTM(128,activation='relu',return_sequences=True),\n",
        "                 LSTM(128,activation='relu',return_sequences=True),\n",
        "                  Bidirectional(LSTM(64,activation='relu')),\n",
        "                 Dense(128,activation='relu'),\n",
        "                 Dense(1)])\n",
        "\n",
        "model.compile(optimizer='adam',loss='mse',metrics=['accuracy'])"
      ]
    },
    {
      "cell_type": "code",
      "execution_count": 8,
      "metadata": {
        "id": "UIS1KwGfyKyn"
      },
      "outputs": [],
      "source": [
        "def create_sequence(dataset,sequence_len):\n",
        "  sequences = []\n",
        "  labels = []\n",
        "  start_idx = 0\n",
        "  for stop_idx in range(sequence_len,len(dataset)): \n",
        "    sequences.append(dataset.iloc[start_idx:stop_idx])\n",
        "    labels.append(dataset.iloc[stop_idx])\n",
        "    start_idx += 1\n",
        "  return (np.array(sequences),np.array(labels))"
      ]
    },
    {
      "cell_type": "code",
      "source": [
        "new_df1=pd.DataFrame(list(data['Radiation']), index=data['UNIXTime'], columns=['Rad'])"
      ],
      "metadata": {
        "id": "yGl38ZSE7aqO"
      },
      "execution_count": 9,
      "outputs": []
    },
    {
      "cell_type": "code",
      "source": [
        "new_df1"
      ],
      "metadata": {
        "id": "P5nQTIO57as9",
        "outputId": "77ad0f42-703f-4670-de67-ac760801cd2f",
        "colab": {
          "base_uri": "https://localhost:8080/",
          "height": 450
        }
      },
      "execution_count": 10,
      "outputs": [
        {
          "output_type": "execute_result",
          "data": {
            "text/plain": [
              "             Rad\n",
              "UNIXTime        \n",
              "1475229326  1.21\n",
              "1475229023  1.21\n",
              "1475228726  1.23\n",
              "1475228421  1.21\n",
              "1475228124  1.17\n",
              "...          ...\n",
              "1480587604  1.22\n",
              "1480587301  1.17\n",
              "1480587001  1.20\n",
              "1480586702  1.23\n",
              "1480586402  1.20\n",
              "\n",
              "[32686 rows x 1 columns]"
            ],
            "text/html": [
              "\n",
              "  <div id=\"df-88ffa965-b325-413b-afbe-d8e8d73296dd\">\n",
              "    <div class=\"colab-df-container\">\n",
              "      <div>\n",
              "<style scoped>\n",
              "    .dataframe tbody tr th:only-of-type {\n",
              "        vertical-align: middle;\n",
              "    }\n",
              "\n",
              "    .dataframe tbody tr th {\n",
              "        vertical-align: top;\n",
              "    }\n",
              "\n",
              "    .dataframe thead th {\n",
              "        text-align: right;\n",
              "    }\n",
              "</style>\n",
              "<table border=\"1\" class=\"dataframe\">\n",
              "  <thead>\n",
              "    <tr style=\"text-align: right;\">\n",
              "      <th></th>\n",
              "      <th>Rad</th>\n",
              "    </tr>\n",
              "    <tr>\n",
              "      <th>UNIXTime</th>\n",
              "      <th></th>\n",
              "    </tr>\n",
              "  </thead>\n",
              "  <tbody>\n",
              "    <tr>\n",
              "      <th>1475229326</th>\n",
              "      <td>1.21</td>\n",
              "    </tr>\n",
              "    <tr>\n",
              "      <th>1475229023</th>\n",
              "      <td>1.21</td>\n",
              "    </tr>\n",
              "    <tr>\n",
              "      <th>1475228726</th>\n",
              "      <td>1.23</td>\n",
              "    </tr>\n",
              "    <tr>\n",
              "      <th>1475228421</th>\n",
              "      <td>1.21</td>\n",
              "    </tr>\n",
              "    <tr>\n",
              "      <th>1475228124</th>\n",
              "      <td>1.17</td>\n",
              "    </tr>\n",
              "    <tr>\n",
              "      <th>...</th>\n",
              "      <td>...</td>\n",
              "    </tr>\n",
              "    <tr>\n",
              "      <th>1480587604</th>\n",
              "      <td>1.22</td>\n",
              "    </tr>\n",
              "    <tr>\n",
              "      <th>1480587301</th>\n",
              "      <td>1.17</td>\n",
              "    </tr>\n",
              "    <tr>\n",
              "      <th>1480587001</th>\n",
              "      <td>1.20</td>\n",
              "    </tr>\n",
              "    <tr>\n",
              "      <th>1480586702</th>\n",
              "      <td>1.23</td>\n",
              "    </tr>\n",
              "    <tr>\n",
              "      <th>1480586402</th>\n",
              "      <td>1.20</td>\n",
              "    </tr>\n",
              "  </tbody>\n",
              "</table>\n",
              "<p>32686 rows × 1 columns</p>\n",
              "</div>\n",
              "      <button class=\"colab-df-convert\" onclick=\"convertToInteractive('df-88ffa965-b325-413b-afbe-d8e8d73296dd')\"\n",
              "              title=\"Convert this dataframe to an interactive table.\"\n",
              "              style=\"display:none;\">\n",
              "        \n",
              "  <svg xmlns=\"http://www.w3.org/2000/svg\" height=\"24px\"viewBox=\"0 0 24 24\"\n",
              "       width=\"24px\">\n",
              "    <path d=\"M0 0h24v24H0V0z\" fill=\"none\"/>\n",
              "    <path d=\"M18.56 5.44l.94 2.06.94-2.06 2.06-.94-2.06-.94-.94-2.06-.94 2.06-2.06.94zm-11 1L8.5 8.5l.94-2.06 2.06-.94-2.06-.94L8.5 2.5l-.94 2.06-2.06.94zm10 10l.94 2.06.94-2.06 2.06-.94-2.06-.94-.94-2.06-.94 2.06-2.06.94z\"/><path d=\"M17.41 7.96l-1.37-1.37c-.4-.4-.92-.59-1.43-.59-.52 0-1.04.2-1.43.59L10.3 9.45l-7.72 7.72c-.78.78-.78 2.05 0 2.83L4 21.41c.39.39.9.59 1.41.59.51 0 1.02-.2 1.41-.59l7.78-7.78 2.81-2.81c.8-.78.8-2.07 0-2.86zM5.41 20L4 18.59l7.72-7.72 1.47 1.35L5.41 20z\"/>\n",
              "  </svg>\n",
              "      </button>\n",
              "      \n",
              "  <style>\n",
              "    .colab-df-container {\n",
              "      display:flex;\n",
              "      flex-wrap:wrap;\n",
              "      gap: 12px;\n",
              "    }\n",
              "\n",
              "    .colab-df-convert {\n",
              "      background-color: #E8F0FE;\n",
              "      border: none;\n",
              "      border-radius: 50%;\n",
              "      cursor: pointer;\n",
              "      display: none;\n",
              "      fill: #1967D2;\n",
              "      height: 32px;\n",
              "      padding: 0 0 0 0;\n",
              "      width: 32px;\n",
              "    }\n",
              "\n",
              "    .colab-df-convert:hover {\n",
              "      background-color: #E2EBFA;\n",
              "      box-shadow: 0px 1px 2px rgba(60, 64, 67, 0.3), 0px 1px 3px 1px rgba(60, 64, 67, 0.15);\n",
              "      fill: #174EA6;\n",
              "    }\n",
              "\n",
              "    [theme=dark] .colab-df-convert {\n",
              "      background-color: #3B4455;\n",
              "      fill: #D2E3FC;\n",
              "    }\n",
              "\n",
              "    [theme=dark] .colab-df-convert:hover {\n",
              "      background-color: #434B5C;\n",
              "      box-shadow: 0px 1px 3px 1px rgba(0, 0, 0, 0.15);\n",
              "      filter: drop-shadow(0px 1px 2px rgba(0, 0, 0, 0.3));\n",
              "      fill: #FFFFFF;\n",
              "    }\n",
              "  </style>\n",
              "\n",
              "      <script>\n",
              "        const buttonEl =\n",
              "          document.querySelector('#df-88ffa965-b325-413b-afbe-d8e8d73296dd button.colab-df-convert');\n",
              "        buttonEl.style.display =\n",
              "          google.colab.kernel.accessAllowed ? 'block' : 'none';\n",
              "\n",
              "        async function convertToInteractive(key) {\n",
              "          const element = document.querySelector('#df-88ffa965-b325-413b-afbe-d8e8d73296dd');\n",
              "          const dataTable =\n",
              "            await google.colab.kernel.invokeFunction('convertToInteractive',\n",
              "                                                     [key], {});\n",
              "          if (!dataTable) return;\n",
              "\n",
              "          const docLinkHtml = 'Like what you see? Visit the ' +\n",
              "            '<a target=\"_blank\" href=https://colab.research.google.com/notebooks/data_table.ipynb>data table notebook</a>'\n",
              "            + ' to learn more about interactive tables.';\n",
              "          element.innerHTML = '';\n",
              "          dataTable['output_type'] = 'display_data';\n",
              "          await google.colab.output.renderOutput(dataTable, element);\n",
              "          const docLink = document.createElement('div');\n",
              "          docLink.innerHTML = docLinkHtml;\n",
              "          element.appendChild(docLink);\n",
              "        }\n",
              "      </script>\n",
              "    </div>\n",
              "  </div>\n",
              "  "
            ]
          },
          "metadata": {},
          "execution_count": 10
        }
      ]
    },
    {
      "cell_type": "code",
      "source": [
        "from sklearn.preprocessing import MinMaxScaler\n",
        "\n",
        "scaler=MinMaxScaler(feature_range=(-1,1))"
      ],
      "metadata": {
        "id": "CbvVQTDl8wpA"
      },
      "execution_count": 30,
      "outputs": []
    },
    {
      "cell_type": "code",
      "source": [
        "scaled_data=scaler.fit_transform(new_df1)\n",
        "scaled_data[:5]"
      ],
      "metadata": {
        "colab": {
          "base_uri": "https://localhost:8080/"
        },
        "id": "hLY3tjso8--I",
        "outputId": "d4a1f11c-f9a3-43af-a926-26edd502bbc1"
      },
      "execution_count": 12,
      "outputs": [
        {
          "output_type": "execute_result",
          "data": {
            "text/plain": [
              "array([[-0.99987501],\n",
              "       [-0.99987501],\n",
              "       [-0.99985001],\n",
              "       [-0.99987501],\n",
              "       [-0.99992501]])"
            ]
          },
          "metadata": {},
          "execution_count": 12
        }
      ]
    },
    {
      "cell_type": "code",
      "source": [
        "steps=30\n",
        "inp1=[]\n",
        "out1=[]\n",
        "\n",
        "for i in range(len(scaled_data)-steps):\n",
        "    inp1.append(scaled_data[i:i+steps])\n",
        "    out1.append(scaled_data[i+steps])"
      ],
      "metadata": {
        "id": "tWLGBbad9HAS"
      },
      "execution_count": 13,
      "outputs": []
    },
    {
      "cell_type": "code",
      "source": [
        "inp1=np.asanyarray(inp1)\n",
        "out1=np.asanyarray(out1)\n",
        "x_train1=inp1[:500,:,:]\n",
        "x_test1=inp1[500:,:,:]\n",
        "y_train1=out1[:500]\n",
        "y_test1=out1[500:]"
      ],
      "metadata": {
        "id": "im-2MGFk9IAk"
      },
      "execution_count": 14,
      "outputs": []
    },
    {
      "cell_type": "code",
      "source": [
        "history = model.fit(x_train1, y_train1, epochs=50, validation_data = (x_test1, y_test1), verbose = 1)"
      ],
      "metadata": {
        "colab": {
          "base_uri": "https://localhost:8080/"
        },
        "id": "TSJQUWZD9OfP",
        "outputId": "fde84fa1-cde5-4daa-8982-3ded672a434a"
      },
      "execution_count": 16,
      "outputs": [
        {
          "output_type": "stream",
          "name": "stdout",
          "text": [
            "Epoch 1/50\n",
            "16/16 [==============================] - 67s 4s/step - loss: 0.0086 - accuracy: 0.0000e+00 - val_loss: 0.0169 - val_accuracy: 0.0000e+00\n",
            "Epoch 2/50\n",
            "16/16 [==============================] - 66s 4s/step - loss: 0.0039 - accuracy: 0.0000e+00 - val_loss: 0.0173 - val_accuracy: 0.0000e+00\n",
            "Epoch 3/50\n",
            "16/16 [==============================] - 68s 5s/step - loss: 0.0031 - accuracy: 0.0000e+00 - val_loss: 0.0187 - val_accuracy: 0.0000e+00\n",
            "Epoch 4/50\n",
            "16/16 [==============================] - 66s 4s/step - loss: 0.0039 - accuracy: 0.0000e+00 - val_loss: 0.0166 - val_accuracy: 0.0000e+00\n",
            "Epoch 5/50\n",
            "16/16 [==============================] - 67s 4s/step - loss: 0.0028 - accuracy: 0.0000e+00 - val_loss: 0.0181 - val_accuracy: 0.0000e+00\n",
            "Epoch 6/50\n",
            "16/16 [==============================] - 67s 4s/step - loss: 0.0029 - accuracy: 0.0000e+00 - val_loss: 0.0152 - val_accuracy: 0.0000e+00\n",
            "Epoch 7/50\n",
            "16/16 [==============================] - 67s 4s/step - loss: 0.0023 - accuracy: 0.0000e+00 - val_loss: 0.0154 - val_accuracy: 0.0000e+00\n",
            "Epoch 8/50\n",
            "16/16 [==============================] - 66s 4s/step - loss: 0.0028 - accuracy: 0.0000e+00 - val_loss: 0.0165 - val_accuracy: 0.0000e+00\n",
            "Epoch 9/50\n",
            "16/16 [==============================] - 66s 4s/step - loss: 0.0029 - accuracy: 0.0000e+00 - val_loss: 0.0157 - val_accuracy: 0.0000e+00\n",
            "Epoch 10/50\n",
            "16/16 [==============================] - 68s 4s/step - loss: 0.0024 - accuracy: 0.0000e+00 - val_loss: 0.0154 - val_accuracy: 0.0000e+00\n",
            "Epoch 11/50\n",
            "16/16 [==============================] - 66s 4s/step - loss: 0.0023 - accuracy: 0.0000e+00 - val_loss: 0.0160 - val_accuracy: 0.0000e+00\n",
            "Epoch 12/50\n",
            "16/16 [==============================] - 66s 4s/step - loss: 0.0021 - accuracy: 0.0000e+00 - val_loss: 0.0159 - val_accuracy: 0.0000e+00\n",
            "Epoch 13/50\n",
            "16/16 [==============================] - 66s 4s/step - loss: 0.0023 - accuracy: 0.0000e+00 - val_loss: 0.0161 - val_accuracy: 0.0000e+00\n",
            "Epoch 14/50\n",
            "16/16 [==============================] - 66s 4s/step - loss: 0.0021 - accuracy: 0.0000e+00 - val_loss: 0.0152 - val_accuracy: 0.0000e+00\n",
            "Epoch 15/50\n",
            "16/16 [==============================] - 67s 4s/step - loss: 0.0018 - accuracy: 0.0000e+00 - val_loss: 0.0143 - val_accuracy: 0.0000e+00\n",
            "Epoch 16/50\n",
            "16/16 [==============================] - 68s 4s/step - loss: 0.0016 - accuracy: 0.0000e+00 - val_loss: 0.0140 - val_accuracy: 0.0000e+00\n",
            "Epoch 17/50\n",
            "16/16 [==============================] - 67s 4s/step - loss: 0.0018 - accuracy: 0.0000e+00 - val_loss: 0.0138 - val_accuracy: 0.0000e+00\n",
            "Epoch 18/50\n",
            "16/16 [==============================] - 67s 4s/step - loss: 0.0015 - accuracy: 0.0000e+00 - val_loss: 0.0145 - val_accuracy: 0.0000e+00\n",
            "Epoch 19/50\n",
            "16/16 [==============================] - 67s 4s/step - loss: 0.0014 - accuracy: 0.0000e+00 - val_loss: 0.0144 - val_accuracy: 0.0000e+00\n",
            "Epoch 20/50\n",
            "16/16 [==============================] - 66s 4s/step - loss: 0.0013 - accuracy: 0.0000e+00 - val_loss: 0.0145 - val_accuracy: 0.0000e+00\n",
            "Epoch 21/50\n",
            "16/16 [==============================] - 68s 4s/step - loss: 0.0013 - accuracy: 0.0000e+00 - val_loss: 0.0136 - val_accuracy: 0.0000e+00\n",
            "Epoch 22/50\n",
            "16/16 [==============================] - 66s 4s/step - loss: 0.0016 - accuracy: 0.0000e+00 - val_loss: 0.0145 - val_accuracy: 0.0000e+00\n",
            "Epoch 23/50\n",
            "16/16 [==============================] - 67s 4s/step - loss: 0.0015 - accuracy: 0.0000e+00 - val_loss: 0.0140 - val_accuracy: 0.0000e+00\n",
            "Epoch 24/50\n",
            "16/16 [==============================] - 67s 4s/step - loss: 0.0017 - accuracy: 0.0000e+00 - val_loss: 0.0141 - val_accuracy: 0.0000e+00\n",
            "Epoch 25/50\n",
            "16/16 [==============================] - 67s 4s/step - loss: 0.0014 - accuracy: 0.0000e+00 - val_loss: 0.0134 - val_accuracy: 0.0000e+00\n",
            "Epoch 26/50\n",
            "16/16 [==============================] - 66s 4s/step - loss: 0.0012 - accuracy: 0.0000e+00 - val_loss: 0.0133 - val_accuracy: 0.0000e+00\n",
            "Epoch 27/50\n",
            "16/16 [==============================] - 67s 4s/step - loss: 0.0013 - accuracy: 0.0000e+00 - val_loss: 0.0138 - val_accuracy: 0.0000e+00\n",
            "Epoch 28/50\n",
            "16/16 [==============================] - 68s 5s/step - loss: 0.0021 - accuracy: 0.0000e+00 - val_loss: 0.0144 - val_accuracy: 0.0000e+00\n",
            "Epoch 29/50\n",
            "16/16 [==============================] - 70s 5s/step - loss: 0.0018 - accuracy: 0.0000e+00 - val_loss: 0.0147 - val_accuracy: 0.0000e+00\n",
            "Epoch 30/50\n",
            "16/16 [==============================] - 68s 5s/step - loss: 0.0014 - accuracy: 0.0000e+00 - val_loss: 0.0134 - val_accuracy: 0.0000e+00\n",
            "Epoch 31/50\n",
            "16/16 [==============================] - 68s 4s/step - loss: 0.0010 - accuracy: 0.0000e+00 - val_loss: 0.0131 - val_accuracy: 0.0000e+00\n",
            "Epoch 32/50\n",
            "16/16 [==============================] - 67s 4s/step - loss: 9.4607e-04 - accuracy: 0.0000e+00 - val_loss: 0.0130 - val_accuracy: 0.0000e+00\n",
            "Epoch 33/50\n",
            "16/16 [==============================] - 67s 4s/step - loss: 9.9460e-04 - accuracy: 0.0000e+00 - val_loss: 0.0133 - val_accuracy: 0.0000e+00\n",
            "Epoch 34/50\n",
            "16/16 [==============================] - 68s 4s/step - loss: 0.0012 - accuracy: 0.0000e+00 - val_loss: 0.0134 - val_accuracy: 0.0000e+00\n",
            "Epoch 35/50\n",
            "16/16 [==============================] - 68s 4s/step - loss: 0.0010 - accuracy: 0.0000e+00 - val_loss: 0.0135 - val_accuracy: 0.0000e+00\n",
            "Epoch 36/50\n",
            "16/16 [==============================] - 71s 5s/step - loss: 7.9488e-04 - accuracy: 0.0000e+00 - val_loss: 0.0127 - val_accuracy: 0.0000e+00\n",
            "Epoch 37/50\n",
            "16/16 [==============================] - 68s 5s/step - loss: 9.3438e-04 - accuracy: 0.0000e+00 - val_loss: 0.0141 - val_accuracy: 0.0000e+00\n",
            "Epoch 38/50\n",
            "16/16 [==============================] - 67s 4s/step - loss: 9.1533e-04 - accuracy: 0.0000e+00 - val_loss: 0.0131 - val_accuracy: 0.0000e+00\n",
            "Epoch 39/50\n",
            "16/16 [==============================] - 68s 5s/step - loss: 9.4728e-04 - accuracy: 0.0000e+00 - val_loss: 0.0132 - val_accuracy: 0.0000e+00\n",
            "Epoch 40/50\n",
            "16/16 [==============================] - 70s 5s/step - loss: 8.3029e-04 - accuracy: 0.0000e+00 - val_loss: 0.0134 - val_accuracy: 0.0000e+00\n",
            "Epoch 41/50\n",
            "16/16 [==============================] - 67s 4s/step - loss: 7.6739e-04 - accuracy: 0.0000e+00 - val_loss: 0.0139 - val_accuracy: 0.0000e+00\n",
            "Epoch 42/50\n",
            "16/16 [==============================] - 67s 4s/step - loss: 8.8140e-04 - accuracy: 0.0000e+00 - val_loss: 0.0135 - val_accuracy: 0.0000e+00\n",
            "Epoch 43/50\n",
            "16/16 [==============================] - 66s 4s/step - loss: 7.0552e-04 - accuracy: 0.0000e+00 - val_loss: 0.0132 - val_accuracy: 0.0000e+00\n",
            "Epoch 44/50\n",
            "16/16 [==============================] - 67s 4s/step - loss: 6.5549e-04 - accuracy: 0.0000e+00 - val_loss: 0.0137 - val_accuracy: 0.0000e+00\n",
            "Epoch 45/50\n",
            "16/16 [==============================] - 67s 4s/step - loss: 9.1064e-04 - accuracy: 0.0000e+00 - val_loss: 0.0149 - val_accuracy: 0.0000e+00\n",
            "Epoch 46/50\n",
            "16/16 [==============================] - 67s 4s/step - loss: 0.0010 - accuracy: 0.0000e+00 - val_loss: 0.0146 - val_accuracy: 0.0000e+00\n",
            "Epoch 47/50\n",
            "16/16 [==============================] - 67s 4s/step - loss: 7.3332e-04 - accuracy: 0.0000e+00 - val_loss: 0.0136 - val_accuracy: 0.0000e+00\n",
            "Epoch 48/50\n",
            "16/16 [==============================] - 66s 4s/step - loss: 7.3873e-04 - accuracy: 0.0000e+00 - val_loss: 0.0136 - val_accuracy: 0.0000e+00\n",
            "Epoch 49/50\n",
            "16/16 [==============================] - 66s 4s/step - loss: 7.7125e-04 - accuracy: 0.0000e+00 - val_loss: 0.0144 - val_accuracy: 0.0000e+00\n",
            "Epoch 50/50\n",
            "16/16 [==============================] - 67s 4s/step - loss: 7.2575e-04 - accuracy: 0.0000e+00 - val_loss: 0.0137 - val_accuracy: 0.0000e+00\n"
          ]
        }
      ]
    },
    {
      "cell_type": "code",
      "source": [
        "predicted=model.predict(x_test1)"
      ],
      "metadata": {
        "id": "lWtRueBH-QMM"
      },
      "execution_count": 17,
      "outputs": []
    },
    {
      "cell_type": "code",
      "source": [
        "scaler1=MinMaxScaler(feature_range=(-0.08,0.7))\n",
        "scaler=MinMaxScaler(feature_range=(0,1))\n",
        "predicted1=scaler1.fit_transform(predicted)\n",
        "y_test2=scaler.fit_transform(y_test1)"
      ],
      "metadata": {
        "id": "i_TAoBSUS-2H"
      },
      "execution_count": 83,
      "outputs": []
    },
    {
      "cell_type": "code",
      "source": [
        "error = history.history['accuracy']\n",
        "val_error = history.history['val_accuracy']\n",
        "\n",
        "loss = history.history['loss']\n",
        "val_loss = history.history['val_loss']\n",
        "\n",
        "epochs_range = range(1, len(val_error)+1)\n",
        "plt.figure(figsize=(12, 4))\n",
        "\n",
        "plt.subplot(1, 2, 1)\n",
        "plt.plot(epochs_range, error, label='Training error')\n",
        "plt.plot(epochs_range, val_error, label='Validation error')\n",
        "plt.legend(loc='lower right')\n",
        "plt.xlim(1, len(val_error)+1)\n",
        "plt.title('Training and Validation error')\n",
        "\n",
        "plt.subplot(1, 2, 2)\n",
        "plt.plot(epochs_range, loss, label='Training Loss')\n",
        "plt.plot(epochs_range, val_loss, label='Validation Loss')\n",
        "plt.legend(loc='upper right')\n",
        "plt.xlim(1, len(val_error)+1)\n",
        "plt.title('Training and Validation Loss')\n",
        "plt.show()"
      ],
      "metadata": {
        "id": "FJQtwDa1S_50",
        "outputId": "f3b26b21-e707-4d2c-b512-f76992202f38",
        "colab": {
          "base_uri": "https://localhost:8080/",
          "height": 281
        }
      },
      "execution_count": 19,
      "outputs": [
        {
          "output_type": "display_data",
          "data": {
            "text/plain": [
              "<Figure size 864x288 with 2 Axes>"
            ],
            "image/png": "[encoded data removed]"
          },
          "metadata": {
            "needs_background": "light"
          }
        }
      ]
    },
    {
      "cell_type": "code",
      "source": [
        "fig=plt.figure(figsize=(20,5))\n",
        "plt.subplot(1,2,1)\n",
        "plt.plot(np.arange(3100,3700),predicted1[3100:3700],label='Radiation, predicted')\n",
        "plt.plot(np.arange(3100,3700),y_test2[3100:3700],label=\"Radiation\")\n",
        "plt.legend()"
      ],
      "metadata": {
        "id": "HUaYehXlNERn",
        "outputId": "d1ba6b0d-03fb-4b15-e56c-d93b90cbb883",
        "colab": {
          "base_uri": "https://localhost:8080/",
          "height": 337
        }
      },
      "execution_count": 84,
      "outputs": [
        {
          "output_type": "execute_result",
          "data": {
            "text/plain": [
              "<matplotlib.legend.Legend at 0x7fe2f4f84e50>"
            ]
          },
          "metadata": {},
          "execution_count": 84
        },
        {
          "output_type": "display_data",
          "data": {
            "text/plain": [
              "<Figure size 1440x360 with 1 Axes>"
            ],
            "image/png": "[encoded data removed]"
          },
          "metadata": {
            "needs_background": "light"
          }
        }
      ]
    },
    {
      "cell_type": "code",
      "source": [
        "plt.figure(figsize=(20,5))\n",
        "plt.plot(predicted1,'b',label='predicted')\n",
        "plt.plot(y_test2,'orange',label='actual')\n",
        "plt.legend()\n",
        "plt.show()"
      ],
      "metadata": {
        "id": "75IO624WRc63",
        "outputId": "c39a38f6-f01b-48e3-c411-9e38207984ef",
        "colab": {
          "base_uri": "https://localhost:8080/",
          "height": 284
        }
      },
      "execution_count": 82,
      "outputs": [
        {
          "output_type": "display_data",
          "data": {
            "text/plain": [
              "<Figure size 1440x360 with 1 Axes>"
            ],
            "image/png": "[encoded data removed]"
          },
          "metadata": {
            "needs_background": "light"
          }
        }
      ]
    },
    {
      "cell_type": "code",
      "source": [
        "from sklearn import metrics\n",
        "score = metrics.mean_squared_error(y_test2,predicted1)\n",
        "print(\"Final score (MSE): {}\".format(score))"
      ],
      "metadata": {
        "id": "OVcYoqsVKujs",
        "outputId": "d913bf60-5e30-47e0-fbbe-b6108012293e",
        "colab": {
          "base_uri": "https://localhost:8080/"
        }
      },
      "execution_count": 85,
      "outputs": [
        {
          "output_type": "stream",
          "name": "stdout",
          "text": [
            "Final score (MSE): 0.0033389003596322343\n"
          ]
        }
      ]
    },
    {
      "cell_type": "code",
      "source": [
        "from sklearn.metrics import mean_absolute_error\n",
        "MAE = mean_absolute_error(y_test2,predicted1)\n",
        "print(\"Final score (MAE): {}\".format(MAE))"
      ],
      "metadata": {
        "id": "q1kJrcGlKunk",
        "outputId": "0c75b3ad-3e8a-425f-e574-b89868d1f633",
        "colab": {
          "base_uri": "https://localhost:8080/"
        }
      },
      "execution_count": 67,
      "outputs": [
        {
          "output_type": "stream",
          "name": "stdout",
          "text": [
            "Final score (MAE): 0.022760383126897023\n"
          ]
        }
      ]
    },
    {
      "cell_type": "code",
      "source": [
        "import numpy as np\n",
        "\n",
        "# Measure RMSE error.  RMSE is common for regression.\n",
        "score = np.sqrt(metrics.mean_squared_error(y_test2,predicted1))\n",
        "print(\"Final score (RMSE): {}\".format(score))"
      ],
      "metadata": {
        "id": "4DLMpZE9xP2G",
        "outputId": "13354cf4-d829-4426-a102-d5c1f4e0545f",
        "colab": {
          "base_uri": "https://localhost:8080/"
        }
      },
      "execution_count": 68,
      "outputs": [
        {
          "output_type": "stream",
          "name": "stdout",
          "text": [
            "Final score (RMSE): 0.05778321866798555\n"
          ]
        }
      ]
    },
    {
      "cell_type": "code",
      "source": [
        "from sklearn.metrics import r2_score\n",
        "R2 = r2_score(y_test2, predicted1, multioutput='variance_weighted')\n",
        "print(\"Final score (R2): {}\".format(R2))"
      ],
      "metadata": {
        "id": "KVT7HIZKKuyB",
        "outputId": "54cdff87-663d-4f5e-a9fa-9f3452f13a34",
        "colab": {
          "base_uri": "https://localhost:8080/"
        }
      },
      "execution_count": 69,
      "outputs": [
        {
          "output_type": "stream",
          "name": "stdout",
          "text": [
            "Final score (R2): 0.9132341287350646\n"
          ]
        }
      ]
    },
    {
      "cell_type": "code",
      "source": [
        "import pandas as pd\n",
        "from scipy.stats import skew\n",
        "from scipy.stats import kurtosis\n",
        "\n",
        "print(\"Final score (skew):\")\n",
        "print(skew(predicted1, axis=0, bias=True))"
      ],
      "metadata": {
        "id": "bi-7D2ke-H73",
        "outputId": "b25aa6d3-e723-4365-b2de-832569592a13",
        "colab": {
          "base_uri": "https://localhost:8080/"
        }
      },
      "execution_count": 70,
      "outputs": [
        {
          "output_type": "stream",
          "name": "stdout",
          "text": [
            "Final score (skew):\n",
            "[1.3166089]\n"
          ]
        }
      ]
    },
    {
      "cell_type": "code",
      "source": [
        "print(\"Final score (kurtosis):\")\n",
        "print(kurtosis(predicted1, axis=0, bias=True))"
      ],
      "metadata": {
        "id": "49BPjWq--H-u",
        "outputId": "78d3dce0-63cb-4492-87c6-f464d15da11d",
        "colab": {
          "base_uri": "https://localhost:8080/"
        }
      },
      "execution_count": 71,
      "outputs": [
        {
          "output_type": "stream",
          "name": "stdout",
          "text": [
            "Final score (kurtosis):\n",
            "[0.2380228]\n"
          ]
        }
      ]
    }
  ],
  "metadata": {
    "colab": {
      "name": "SRP.ipynb",
      "provenance": [],
      "authorship_tag": "ABX9TyMaXmLGwrEknNscfO6kPfU9",
      "include_colab_link": true
    },
    "kernelspec": {
      "display_name": "Python 3",
      "name": "python3"
    },
    "language_info": {
      "name": "python"
    }
  },
  "nbformat": 4,
  "nbformat_minor": 0
}
