{
  "nbformat": 4,
  "nbformat_minor": 0,
  "metadata": {
    "colab": {
      "provenance": [],
      "authorship_tag": "ABX9TyNgSykKOjKIMKubrxW/jgrr",
      "include_colab_link": true
    },
    "kernelspec": {
      "name": "python3",
      "display_name": "Python 3"
    },
    "language_info": {
      "name": "python"
    }
  },
  "cells": [
    {
      "cell_type": "markdown",
      "metadata": {
        "id": "view-in-github",
        "colab_type": "text"
      },
      "source": [
        "<a href=\"https://colab.research.google.com/github/Sujal-vajire/Machine-learning-models/blob/main/Comparative_Study_of_Various_Machine_Learning_Models_to_Predict_Fatigue_Crack_Growth_Rate.ipynb\" target=\"_parent\"><img src=\"https://colab.research.google.com/assets/colab-badge.svg\" alt=\"Open In Colab\"/></a>"
      ]
    },
    {
      "cell_type": "code",
      "execution_count": 4,
      "metadata": {
        "id": "TZLW23pRb4Ve"
      },
      "outputs": [],
      "source": [
        "import numpy as np\n",
        "import pandas as pd\n",
        "from sklearn.model_selection import train_test_split\n",
        "import warnings\n",
        "import seaborn as sns\n",
        "warnings.filterwarnings('ignore')\n"
      ]
    },
    {
      "cell_type": "code",
      "source": [
        "df_train = pd.read_excel('FCGR_Train.xlsx')\n",
        "df_test =  pd.read_excel('FCGR_Test.xlsx')"
      ],
      "metadata": {
        "id": "zkHH9yJEfIsy"
      },
      "execution_count": 5,
      "outputs": []
    },
    {
      "cell_type": "code",
      "source": [
        "df = df_train.append(df_test)\n",
        "df"
      ],
      "metadata": {
        "colab": {
          "base_uri": "https://localhost:8080/",
          "height": 419
        },
        "id": "rda2dLgpfT2Y",
        "outputId": "558060cd-5cef-4f28-ac1a-ffd5e79500ae"
      },
      "execution_count": 6,
      "outputs": [
        {
          "output_type": "execute_result",
          "data": {
            "text/plain": [
              "    Post Processing Built Orientation   SIF  Crack Growth Rate\n",
              "0   Stress Relieved                XY  12.5       3.970000e-08\n",
              "1   Stress Relieved                XY  15.5       8.530000e-08\n",
              "2   Stress Relieved                XY  16.3       1.570000e-07\n",
              "3   Stress Relieved                XY  17.1       1.350000e-07\n",
              "4   Stress Relieved                XY  17.5       1.570000e-07\n",
              "..              ...               ...   ...                ...\n",
              "29         As Built                ZX  17.9       3.340000e-07\n",
              "30     Heat Treated                ZX  23.0       1.650000e-07\n",
              "31         As Built                XY  18.7       2.010000e-07\n",
              "32  Stress Relieved                ZX  34.2       4.740000e-06\n",
              "33         As Built                XZ  16.7       2.430000e-06\n",
              "\n",
              "[226 rows x 4 columns]"
            ],
            "text/html": [
              "\n",
              "  <div id=\"df-b6f06ec9-887d-4344-b904-7b1980aa0c73\">\n",
              "    <div class=\"colab-df-container\">\n",
              "      <div>\n",
              "<style scoped>\n",
              "    .dataframe tbody tr th:only-of-type {\n",
              "        vertical-align: middle;\n",
              "    }\n",
              "\n",
              "    .dataframe tbody tr th {\n",
              "        vertical-align: top;\n",
              "    }\n",
              "\n",
              "    .dataframe thead th {\n",
              "        text-align: right;\n",
              "    }\n",
              "</style>\n",
              "<table border=\"1\" class=\"dataframe\">\n",
              "  <thead>\n",
              "    <tr style=\"text-align: right;\">\n",
              "      <th></th>\n",
              "      <th>Post Processing</th>\n",
              "      <th>Built Orientation</th>\n",
              "      <th>SIF</th>\n",
              "      <th>Crack Growth Rate</th>\n",
              "    </tr>\n",
              "  </thead>\n",
              "  <tbody>\n",
              "    <tr>\n",
              "      <th>0</th>\n",
              "      <td>Stress Relieved</td>\n",
              "      <td>XY</td>\n",
              "      <td>12.5</td>\n",
              "      <td>3.970000e-08</td>\n",
              "    </tr>\n",
              "    <tr>\n",
              "      <th>1</th>\n",
              "      <td>Stress Relieved</td>\n",
              "      <td>XY</td>\n",
              "      <td>15.5</td>\n",
              "      <td>8.530000e-08</td>\n",
              "    </tr>\n",
              "    <tr>\n",
              "      <th>2</th>\n",
              "      <td>Stress Relieved</td>\n",
              "      <td>XY</td>\n",
              "      <td>16.3</td>\n",
              "      <td>1.570000e-07</td>\n",
              "    </tr>\n",
              "    <tr>\n",
              "      <th>3</th>\n",
              "      <td>Stress Relieved</td>\n",
              "      <td>XY</td>\n",
              "      <td>17.1</td>\n",
              "      <td>1.350000e-07</td>\n",
              "    </tr>\n",
              "    <tr>\n",
              "      <th>4</th>\n",
              "      <td>Stress Relieved</td>\n",
              "      <td>XY</td>\n",
              "      <td>17.5</td>\n",
              "      <td>1.570000e-07</td>\n",
              "    </tr>\n",
              "    <tr>\n",
              "      <th>...</th>\n",
              "      <td>...</td>\n",
              "      <td>...</td>\n",
              "      <td>...</td>\n",
              "      <td>...</td>\n",
              "    </tr>\n",
              "    <tr>\n",
              "      <th>29</th>\n",
              "      <td>As Built</td>\n",
              "      <td>ZX</td>\n",
              "      <td>17.9</td>\n",
              "      <td>3.340000e-07</td>\n",
              "    </tr>\n",
              "    <tr>\n",
              "      <th>30</th>\n",
              "      <td>Heat Treated</td>\n",
              "      <td>ZX</td>\n",
              "      <td>23.0</td>\n",
              "      <td>1.650000e-07</td>\n",
              "    </tr>\n",
              "    <tr>\n",
              "      <th>31</th>\n",
              "      <td>As Built</td>\n",
              "      <td>XY</td>\n",
              "      <td>18.7</td>\n",
              "      <td>2.010000e-07</td>\n",
              "    </tr>\n",
              "    <tr>\n",
              "      <th>32</th>\n",
              "      <td>Stress Relieved</td>\n",
              "      <td>ZX</td>\n",
              "      <td>34.2</td>\n",
              "      <td>4.740000e-06</td>\n",
              "    </tr>\n",
              "    <tr>\n",
              "      <th>33</th>\n",
              "      <td>As Built</td>\n",
              "      <td>XZ</td>\n",
              "      <td>16.7</td>\n",
              "      <td>2.430000e-06</td>\n",
              "    </tr>\n",
              "  </tbody>\n",
              "</table>\n",
              "<p>226 rows × 4 columns</p>\n",
              "</div>\n",
              "      <button class=\"colab-df-convert\" onclick=\"convertToInteractive('df-b6f06ec9-887d-4344-b904-7b1980aa0c73')\"\n",
              "              title=\"Convert this dataframe to an interactive table.\"\n",
              "              style=\"display:none;\">\n",
              "        \n",
              "  <svg xmlns=\"http://www.w3.org/2000/svg\" height=\"24px\"viewBox=\"0 0 24 24\"\n",
              "       width=\"24px\">\n",
              "    <path d=\"M0 0h24v24H0V0z\" fill=\"none\"/>\n",
              "    <path d=\"M18.56 5.44l.94 2.06.94-2.06 2.06-.94-2.06-.94-.94-2.06-.94 2.06-2.06.94zm-11 1L8.5 8.5l.94-2.06 2.06-.94-2.06-.94L8.5 2.5l-.94 2.06-2.06.94zm10 10l.94 2.06.94-2.06 2.06-.94-2.06-.94-.94-2.06-.94 2.06-2.06.94z\"/><path d=\"M17.41 7.96l-1.37-1.37c-.4-.4-.92-.59-1.43-.59-.52 0-1.04.2-1.43.59L10.3 9.45l-7.72 7.72c-.78.78-.78 2.05 0 2.83L4 21.41c.39.39.9.59 1.41.59.51 0 1.02-.2 1.41-.59l7.78-7.78 2.81-2.81c.8-.78.8-2.07 0-2.86zM5.41 20L4 18.59l7.72-7.72 1.47 1.35L5.41 20z\"/>\n",
              "  </svg>\n",
              "      </button>\n",
              "      \n",
              "  <style>\n",
              "    .colab-df-container {\n",
              "      display:flex;\n",
              "      flex-wrap:wrap;\n",
              "      gap: 12px;\n",
              "    }\n",
              "\n",
              "    .colab-df-convert {\n",
              "      background-color: #E8F0FE;\n",
              "      border: none;\n",
              "      border-radius: 50%;\n",
              "      cursor: pointer;\n",
              "      display: none;\n",
              "      fill: #1967D2;\n",
              "      height: 32px;\n",
              "      padding: 0 0 0 0;\n",
              "      width: 32px;\n",
              "    }\n",
              "\n",
              "    .colab-df-convert:hover {\n",
              "      background-color: #E2EBFA;\n",
              "      box-shadow: 0px 1px 2px rgba(60, 64, 67, 0.3), 0px 1px 3px 1px rgba(60, 64, 67, 0.15);\n",
              "      fill: #174EA6;\n",
              "    }\n",
              "\n",
              "    [theme=dark] .colab-df-convert {\n",
              "      background-color: #3B4455;\n",
              "      fill: #D2E3FC;\n",
              "    }\n",
              "\n",
              "    [theme=dark] .colab-df-convert:hover {\n",
              "      background-color: #434B5C;\n",
              "      box-shadow: 0px 1px 3px 1px rgba(0, 0, 0, 0.15);\n",
              "      filter: drop-shadow(0px 1px 2px rgba(0, 0, 0, 0.3));\n",
              "      fill: #FFFFFF;\n",
              "    }\n",
              "  </style>\n",
              "\n",
              "      <script>\n",
              "        const buttonEl =\n",
              "          document.querySelector('#df-b6f06ec9-887d-4344-b904-7b1980aa0c73 button.colab-df-convert');\n",
              "        buttonEl.style.display =\n",
              "          google.colab.kernel.accessAllowed ? 'block' : 'none';\n",
              "\n",
              "        async function convertToInteractive(key) {\n",
              "          const element = document.querySelector('#df-b6f06ec9-887d-4344-b904-7b1980aa0c73');\n",
              "          const dataTable =\n",
              "            await google.colab.kernel.invokeFunction('convertToInteractive',\n",
              "                                                     [key], {});\n",
              "          if (!dataTable) return;\n",
              "\n",
              "          const docLinkHtml = 'Like what you see? Visit the ' +\n",
              "            '<a target=\"_blank\" href=https://colab.research.google.com/notebooks/data_table.ipynb>data table notebook</a>'\n",
              "            + ' to learn more about interactive tables.';\n",
              "          element.innerHTML = '';\n",
              "          dataTable['output_type'] = 'display_data';\n",
              "          await google.colab.output.renderOutput(dataTable, element);\n",
              "          const docLink = document.createElement('div');\n",
              "          docLink.innerHTML = docLinkHtml;\n",
              "          element.appendChild(docLink);\n",
              "        }\n",
              "      </script>\n",
              "    </div>\n",
              "  </div>\n",
              "  "
            ]
          },
          "metadata": {},
          "execution_count": 6
        }
      ]
    },
    {
      "cell_type": "code",
      "source": [
        "import numpy as np\n",
        "import pandas as pd\n",
        "import matplotlib as mpl\n",
        "import matplotlib.pyplot as plt\n",
        "import seaborn as sns\n",
        "import warnings; warnings.filterwarnings(action='once')\n",
        "\n",
        "large = 22; med = 16; small = 12\n",
        "params = {'axes.titlesize': large,\n",
        "          'legend.fontsize': med,\n",
        "          'figure.figsize': (16, 10),\n",
        "          'axes.labelsize': med,\n",
        "          'axes.titlesize': med,\n",
        "          'xtick.labelsize': med,\n",
        "          'ytick.labelsize': med,\n",
        "          'figure.titlesize': large}\n",
        "plt.rcParams.update(params)\n",
        "plt.style.use('seaborn-whitegrid')\n",
        "sns.set_style(\"white\")\n",
        "%matplotlib inline\n",
        "\n",
        "print(mpl.__version__)  #> 3.0.0\n",
        "print(sns.__version__)  #> 0.9.0"
      ],
      "metadata": {
        "colab": {
          "base_uri": "https://localhost:8080/"
        },
        "id": "69tp_C7qgZKH",
        "outputId": "c8fba6d1-59dd-4a2e-de91-e271083cedb0"
      },
      "execution_count": 7,
      "outputs": [
        {
          "output_type": "stream",
          "name": "stdout",
          "text": [
            "3.2.2\n",
            "0.11.2\n"
          ]
        }
      ]
    },
    {
      "cell_type": "code",
      "source": [
        "import matplotlib.pyplot as plt\n",
        "#sns.regplot(Data_X,Data_Y,label = 'As Built')\n",
        "#plt.legend()\n",
        "\n",
        "\n"
      ],
      "metadata": {
        "id": "Y7aNUOJAfT6v"
      },
      "execution_count": 8,
      "outputs": []
    },
    {
      "cell_type": "code",
      "source": [
        "# XYAB = pd.read_excel('Data_XY_AB.xlsx')\n",
        "# XYSR = pd.read_excel('Data_XY_SR.xlsx')\n",
        "# XYHT = pd.read_excel('Data_XY_HT.xlsx')\n",
        "# XZAB = pd.read_excel('Data_XZ_AB.xlsx')\n",
        "# XZSR = pd.read_excel('Data_XZ_SR.xlsx')\n",
        "# XZHT = pd.read_excel('Data_XZ_HT.xlsx')\n",
        "# ZXAB = pd.read_excel('Data_ZX_AB.xlsx')\n",
        "# ZXSR = pd.read_excel('Data_ZX_SR.xlsx')\n",
        "# ZXHT = pd.read_excel('Data_ZX_HT.xlsx')\n"
      ],
      "metadata": {
        "id": "OejzWJQHUsLB"
      },
      "execution_count": 9,
      "outputs": []
    },
    {
      "cell_type": "code",
      "source": [
        "# sns.set_style(\"white\")\n",
        "# gridobj = sns.lmplot(x=\"SIF\", y=\"Crack Growth Rate\", data=XYAB, \n",
        "#                      height=7, aspect=1.6,line_kws={'color': 'darkorange'}, robust=True, palette='tab10', \n",
        "#                      scatter_kws=dict(s=80, linewidths=1.5))\n",
        "\n",
        "# plt.xlabel('SIF (MPa√m)')\n",
        "# plt.ylabel('Crack Growth Rate (m/cycle)')\n",
        "# plt.savefig(\"ABXY.png\", format=\"png\", dpi=600)\n",
        "# plt.show()\n",
        "\n"
      ],
      "metadata": {
        "id": "sCuqTUUwfUCj"
      },
      "execution_count": 10,
      "outputs": []
    },
    {
      "cell_type": "code",
      "source": [
        "# sns.set_style(\"white\")\n",
        "# gridobj = sns.lmplot(x=\"SIF\", y=\"Crack Growth Rate\", data=XYSR, \n",
        "#                      height=7, aspect=1.6, line_kws={'color': 'darkorange'}, robust=True, palette='tab10', \n",
        "#                      scatter_kws=dict(s=80, linewidths=1.5))\n",
        "# plt.xlabel('SIF (MPa√m)')\n",
        "# plt.ylabel('Crack Growth Rate (m/cycle)')\n",
        "\n",
        "# plt.savefig(\"SRXY.jpg\", format=\"png\", dpi=600)\n",
        "# plt.show()"
      ],
      "metadata": {
        "id": "yMKHhi-WfUFK"
      },
      "execution_count": 11,
      "outputs": []
    },
    {
      "cell_type": "code",
      "source": [
        "# sns.set_style(\"white\")\n",
        "# gridobj = sns.lmplot(x=\"SIF\", y=\"Crack Growth Rate\", data=XYHT, \n",
        "#                      height=7, aspect=1.6, line_kws={'color': 'darkorange'}, robust=True, palette='tab10', \n",
        "#                      scatter_kws=dict(s=80, linewidths=1.5))\n",
        "# plt.xlabel('SIF (MPa√m)')\n",
        "# plt.ylabel('Crack Growth Rate (m/cycle)')\n",
        "\n",
        "# plt.savefig(\"HTXY.png\", format=\"png\", dpi=600)\n",
        "# plt.show()"
      ],
      "metadata": {
        "id": "BCOMXdLAfUKY"
      },
      "execution_count": 12,
      "outputs": []
    },
    {
      "cell_type": "code",
      "source": [
        "# sns.set_style(\"white\")\n",
        "# gridobj = sns.lmplot(x=\"SIF\", y=\"Crack Growth Rate\", data=XZAB, \n",
        "#                      height=7, aspect=1.6, line_kws={'color': 'darkorange'}, robust=True, palette='tab10', \n",
        "#                      scatter_kws=dict(s=80, linewidths=1.5))\n",
        "# plt.xlabel('SIF (MPa√m)')\n",
        "# plt.ylabel('Crack Growth Rate (m/cycle)')\n",
        "\n",
        "# plt.savefig(\"ABXZ.png\", format=\"png\", dpi=600)\n",
        "# plt.show()"
      ],
      "metadata": {
        "id": "xHXu0DHlfUSe"
      },
      "execution_count": 13,
      "outputs": []
    },
    {
      "cell_type": "code",
      "source": [
        "# sns.set_style(\"white\")\n",
        "# gridobj = sns.lmplot(x=\"SIF\", y=\"Crack Growth Rate\", data=XZSR, \n",
        "#                      height=7, aspect=1.6, line_kws={'color': 'darkorange'}, robust=True, palette='tab10', \n",
        "#                      scatter_kws=dict(s=80, linewidths=1.5))\n",
        "# plt.xlabel('SIF (MPa√m)')\n",
        "# plt.ylabel('Crack Growth Rate (m/cycle)')\n",
        "\n",
        "# plt.savefig(\"SRXZ.png\", format=\"png\", dpi=600)\n",
        "# plt.show()"
      ],
      "metadata": {
        "id": "IC6P4nHifUVE"
      },
      "execution_count": 14,
      "outputs": []
    },
    {
      "cell_type": "code",
      "source": [
        "# sns.set_style(\"white\")\n",
        "# gridobj = sns.lmplot(x=\"SIF\", y=\"Crack Growth Rate\", data=XZHT, \n",
        "#                      height=7, aspect=1.6, line_kws={'color': 'darkorange'}, robust=True, palette='tab10', \n",
        "#                      scatter_kws=dict(s=80, linewidths=1.5))\n",
        "# plt.xlabel('SIF (MPa√m)')\n",
        "# plt.ylabel('Crack Growth Rate (m/cycle)')\n",
        "\n",
        "# plt.savefig(\"HTXZ.png\", format=\"png\", dpi=600)\n",
        "# plt.show()"
      ],
      "metadata": {
        "id": "j0Zi73XvoL8H"
      },
      "execution_count": 15,
      "outputs": []
    },
    {
      "cell_type": "code",
      "source": [
        "# sns.set_style(\"white\")\n",
        "# gridobj = sns.lmplot(x=\"SIF\", y=\"Crack Growth Rate\", data=ZXAB, \n",
        "#                      height=7, aspect=1.6, line_kws={'color': 'darkorange'}, robust=True, palette='tab10', \n",
        "#                      scatter_kws=dict(s=80, linewidths=1.5))\n",
        "# plt.xlabel('SIF (MPa√m)')\n",
        "# plt.ylabel('Crack Growth Rate (m/cycle)')\n",
        "\n",
        "# plt.savefig(\"ABZX.png\", format=\"png\", dpi=600)\n",
        "# plt.show()"
      ],
      "metadata": {
        "id": "RM6WSntAoMUF"
      },
      "execution_count": 16,
      "outputs": []
    },
    {
      "cell_type": "code",
      "source": [
        "# sns.set_style(\"white\")\n",
        "# gridobj = sns.lmplot(x=\"SIF\", y=\"Crack Growth Rate\", data=ZXSR, \n",
        "#                      height=7, aspect=1.6, line_kws={'color': 'darkorange'}, robust=True, palette='tab10', \n",
        "#                      scatter_kws=dict(s=80, linewidths=1.5))\n",
        "# plt.xlabel('SIF (MPa√m)')\n",
        "# plt.ylabel('Crack Growth Rate (m/cycle)')\n",
        "\n",
        "# plt.savefig(\"SRZX.png\", format=\"png\", dpi=600)\n",
        "# plt.show()"
      ],
      "metadata": {
        "id": "3SPLd-4moMmT"
      },
      "execution_count": 17,
      "outputs": []
    },
    {
      "cell_type": "code",
      "source": [
        "# sns.set_style(\"white\")\n",
        "# gridobj = sns.lmplot(x=\"SIF\", y=\"Crack Growth Rate\", data=ZXHT, \n",
        "#                      height=7, aspect=1.6, line_kws={'color': 'darkorange'}, robust=True, palette='tab10', \n",
        "#                      scatter_kws=dict(s=80, linewidths=1.5))\n",
        "# plt.xlabel('SIF (MPa√m)')\n",
        "# plt.ylabel('Crack Growth Rate (m/cycle)')\n",
        "\n",
        "# plt.savefig(\"HTZX.png\", format=\"png\", dpi=600)\n",
        "# plt.show()"
      ],
      "metadata": {
        "id": "PHTfvHDsoM16"
      },
      "execution_count": 18,
      "outputs": []
    },
    {
      "cell_type": "code",
      "source": [
        "#np.savetxt('Y.txt',Y)"
      ],
      "metadata": {
        "id": "dfRCb0X0tAlI"
      },
      "execution_count": 19,
      "outputs": []
    },
    {
      "cell_type": "code",
      "source": [
        "df_train['Post Processing'] = df_train['Post Processing'].astype('category')\n",
        "df_train['Post Processing'] = df_train['Post Processing'].cat.codes\n",
        "df_test['Post Processing'] = df_test['Post Processing'].astype('category')\n",
        "df_test['Post Processing'] = df_test['Post Processing'].cat.codes\n",
        "df_train['Built Orientation'] = df_train['Built Orientation'].astype('category')\n",
        "df_train['Built Orientation'] = df_train['Built Orientation'].cat.codes\n",
        "df_test['Built Orientation'] = df_test['Built Orientation'].astype('category')\n",
        "df_test['Built Orientation'] = df_test['Built Orientation'].cat.codes"
      ],
      "metadata": {
        "id": "bT0aDyCT83kJ"
      },
      "execution_count": 20,
      "outputs": []
    },
    {
      "cell_type": "code",
      "source": [
        "from sklearn.preprocessing import StandardScaler\n",
        "scaler = StandardScaler()\n",
        "df_train[['SIF','Crack Growth Rate']] =scaler.fit_transform(df_train[['SIF','Crack Growth Rate']])\n",
        "df_test[['SIF','Crack Growth Rate']] = scaler.transform(df_test[['SIF','Crack Growth Rate']])"
      ],
      "metadata": {
        "id": "6Zzx99wl83nV"
      },
      "execution_count": 21,
      "outputs": []
    },
    {
      "cell_type": "code",
      "source": [
        "df_final = df_train.append(df_test)"
      ],
      "metadata": {
        "id": "0SnOj6R083su"
      },
      "execution_count": 22,
      "outputs": []
    },
    {
      "cell_type": "code",
      "source": [
        "y_train = df_train['Crack Growth Rate']\n",
        "x_train = df_train[['Post Processing','Built Orientation','SIF']]\n",
        "y_test = df_test['Crack Growth Rate']\n",
        "x_test = df_test[['Post Processing','Built Orientation','SIF']]"
      ],
      "metadata": {
        "id": "a7Sn9CVJ83vM"
      },
      "execution_count": 23,
      "outputs": []
    },
    {
      "cell_type": "code",
      "source": [
        "R2_scores = []\n",
        "mse = []\n",
        "mae = []"
      ],
      "metadata": {
        "id": "2ZvjeN_k9pEM"
      },
      "execution_count": 24,
      "outputs": []
    },
    {
      "cell_type": "code",
      "source": [
        "from sklearn.ensemble import BaggingRegressor\n",
        "from sklearn.model_selection import train_test_split\n",
        "from sklearn.metrics import explained_variance_score, r2_score, mean_squared_error, mean_absolute_error\n",
        "br = BaggingRegressor()\n",
        "br.fit(x_train,y_train)\n",
        "print('Test r2_score',r2_score(y_test,br.predict(x_test)))\n",
        "print('Train r2 Score',r2_score(y_train,br.predict(x_train)))"
      ],
      "metadata": {
        "id": "i8shCmLZ830v",
        "colab": {
          "base_uri": "https://localhost:8080/"
        },
        "outputId": "6567bbc4-f6ec-42c2-c003-b014ede88010"
      },
      "execution_count": 25,
      "outputs": [
        {
          "output_type": "stream",
          "name": "stdout",
          "text": [
            "Test r2_score 0.7667624512882975\n",
            "Train r2 Score 0.7554110270955728\n"
          ]
        }
      ]
    },
    {
      "cell_type": "code",
      "source": [
        "from sklearn.ensemble import AdaBoostRegressor\n",
        "ab = AdaBoostRegressor()\n",
        "ab.fit(x_train,y_train)\n",
        "print('Test r2_score',r2_score(y_test,ab.predict(x_test)))\n",
        "print('Train r2 Score',r2_score(y_train,ab.predict(x_train)))"
      ],
      "metadata": {
        "id": "4OLzmnDWeyXX",
        "outputId": "f46cf96f-fbf9-4c43-e3cb-bf6e726540d0",
        "colab": {
          "base_uri": "https://localhost:8080/"
        }
      },
      "execution_count": 26,
      "outputs": [
        {
          "output_type": "stream",
          "name": "stdout",
          "text": [
            "Test r2_score 0.2868259367586765\n",
            "Train r2 Score 0.5568992596224469\n"
          ]
        }
      ]
    },
    {
      "cell_type": "code",
      "source": [
        "from sklearn.svm import SVR,LinearSVR\n",
        "base_model=SVR()\n",
        "base_model.fit(x_train,y_train)\n",
        "print('Test r2_score',r2_score(y_test,base_model.predict(x_test)))\n",
        "print('Train r2 Score',r2_score(y_train,base_model.predict(x_train)))"
      ],
      "metadata": {
        "id": "ymWg8oLzeyfU",
        "outputId": "83be4a03-e0eb-4956-ab70-96f8d4c155c0",
        "colab": {
          "base_uri": "https://localhost:8080/"
        }
      },
      "execution_count": 27,
      "outputs": [
        {
          "output_type": "stream",
          "name": "stdout",
          "text": [
            "Test r2_score 0.6430315968815515\n",
            "Train r2 Score 0.3077949990569787\n"
          ]
        }
      ]
    },
    {
      "cell_type": "code",
      "source": [
        "from sklearn.ensemble import RandomForestClassifier,RandomForestRegressor\n",
        "from sklearn.metrics import classification_report,confusion_matrix,accuracy_score\n",
        "from sklearn.neighbors import KNeighborsClassifier,KNeighborsRegressor\n",
        "from sklearn.svm import SVC,SVR\n",
        "from sklearn import datasets\n",
        "import scipy.stats as stats"
      ],
      "metadata": {
        "id": "9Osgq5jug36F"
      },
      "execution_count": 28,
      "outputs": []
    },
    {
      "cell_type": "code",
      "source": [
        "#Random Forest\n",
        "clf1 = RandomForestRegressor()\n",
        "clf1.fit(x_train,y_train)\n",
        "print('Test r2_score',r2_score(y_test,clf1.predict(x_test)))\n",
        "print('Train r2 Score',r2_score(y_train,clf1.predict(x_train)))"
      ],
      "metadata": {
        "id": "kk6a23K6iZjY",
        "outputId": "718c3014-820a-4a51-ec43-cfbb9fa246df",
        "colab": {
          "base_uri": "https://localhost:8080/"
        }
      },
      "execution_count": 29,
      "outputs": [
        {
          "output_type": "stream",
          "name": "stdout",
          "text": [
            "Test r2_score 0.7760176264830702\n",
            "Train r2 Score 0.8512972580956077\n"
          ]
        }
      ]
    },
    {
      "cell_type": "code",
      "source": [
        "#KNN\n",
        "clf3 = KNeighborsRegressor()\n",
        "clf3.fit(x_train,y_train)\n",
        "print('Test r2_score',r2_score(y_test,clf3.predict(x_test)))\n",
        "print('Train r2 Score',r2_score(y_train,clf3.predict(x_train)))"
      ],
      "metadata": {
        "id": "gpXATmA4lnkr",
        "outputId": "6232b070-9942-4269-9a28-62bfa7028abe",
        "colab": {
          "base_uri": "https://localhost:8080/"
        }
      },
      "execution_count": 30,
      "outputs": [
        {
          "output_type": "stream",
          "name": "stdout",
          "text": [
            "Test r2_score 0.7661799586340904\n",
            "Train r2 Score 0.45413462301285124\n"
          ]
        }
      ]
    },
    {
      "cell_type": "code",
      "source": [
        "from keras.models import Sequential, Model\n",
        "from keras.layers import Dense, Input\n",
        "from sklearn.model_selection import GridSearchCV\n",
        "from keras.wrappers.scikit_learn import KerasRegressor\n",
        "from keras.callbacks import EarlyStopping\n",
        "def ANN(optimizer = 'adam',neurons=32,batch_size=32,epochs=50,activation='relu',patience=5,loss='mse'):\n",
        "    model = Sequential()\n",
        "    model.add(Dense(neurons, input_shape=(x_train.shape[1],), activation=activation))\n",
        "    model.add(Dense(neurons, activation=activation))\n",
        "    model.add(Dense(1))\n",
        "    model.compile(optimizer = optimizer, loss=loss)\n",
        "    early_stopping = EarlyStopping(monitor=\"loss\", patience = patience)# early stop patience\n",
        "    history = model.fit(x_train, y_train,\n",
        "              batch_size=batch_size,\n",
        "              epochs=epochs,\n",
        "              callbacks = [early_stopping],\n",
        "              verbose=0) #verbose set to 1 will show the training process\n",
        "    return model"
      ],
      "metadata": {
        "id": "NCIYnt4Elnnd"
      },
      "execution_count": 31,
      "outputs": []
    },
    {
      "cell_type": "code",
      "source": [
        "clf4 = KerasRegressor(build_fn=ANN, verbose=0)\n",
        "clf4.fit(x_train,y_train)\n",
        "print('Test r2_score',r2_score(y_test,clf4.predict(x_test)))\n",
        "print('Train r2 Score',r2_score(y_train,clf4.predict(x_train)))"
      ],
      "metadata": {
        "id": "GUlBEukAlnqW",
        "outputId": "ba823320-dc32-4509-d077-e9dbbe413787",
        "colab": {
          "base_uri": "https://localhost:8080/"
        }
      },
      "execution_count": 32,
      "outputs": [
        {
          "output_type": "stream",
          "name": "stderr",
          "text": [
            "<ipython-input-32-2fed6f18dc1b>:1: DeprecationWarning: KerasRegressor is deprecated, use Sci-Keras (https://github.com/adriangb/scikeras) instead. See https://www.adriangb.com/scikeras/stable/migration.html for help migrating.\n",
            "  clf4 = KerasRegressor(build_fn=ANN, verbose=0)\n"
          ]
        },
        {
          "output_type": "stream",
          "name": "stdout",
          "text": [
            "Test r2_score 0.6776156780584255\n",
            "Train r2 Score 0.37274338250396766\n"
          ]
        }
      ]
    },
    {
      "cell_type": "code",
      "source": [
        "#Random Forest\n",
        "from scipy.stats import randint as sp_randint\n",
        "from sklearn.model_selection import RandomizedSearchCV\n",
        "# Define the hyperparameter configuration space\n",
        "rf_params = {\n",
        "    'n_estimators': sp_randint(10,100),\n",
        "    \"max_features\":sp_randint(1,13),\n",
        "    'max_depth': sp_randint(5,50),\n",
        "    \"min_samples_split\":sp_randint(2,11),\n",
        "    \"min_samples_leaf\":sp_randint(1,11),\n",
        "    \"criterion\":['mse','mae']\n",
        "}\n",
        "n_iter_search=20 #number of iterations is set to 20, you can increase this number if time permits\n",
        "clf = RandomForestRegressor(random_state=0)\n",
        "Random = RandomizedSearchCV(clf, param_distributions=rf_params,n_iter=n_iter_search,cv=3,scoring='neg_mean_squared_error')\n",
        "Random.fit(x_train, y_train)\n",
        "print('Test r2_score',r2_score(y_test,Random.predict(x_test)))\n",
        "print('Train r2 Score',r2_score(y_train,Random.predict(x_train)))"
      ],
      "metadata": {
        "id": "FUfnB-Dqlns8"
      },
      "execution_count": null,
      "outputs": []
    },
    {
      "cell_type": "code",
      "source": [
        "from sklearn.ensemble import GradientBoostingRegressor\n",
        "gbr = GradientBoostingRegressor(n_estimators=100, max_depth=3, loss='ls')\n",
        "gbr.fit(x_train, y_train)\n",
        "print('Test r2_score',r2_score(y_test,gbr.predict(x_test)))\n",
        "print('Train r2 Score',r2_score(y_train,gbr.predict(x_train)))"
      ],
      "metadata": {
        "id": "KYJtnO6y0JDJ",
        "colab": {
          "base_uri": "https://localhost:8080/"
        },
        "outputId": "febfa70e-5134-4578-e95c-9af674b264ea"
      },
      "execution_count": 68,
      "outputs": [
        {
          "output_type": "stream",
          "name": "stdout",
          "text": [
            "Test r2_score 0.8662362153770078\n",
            "Train r2 Score 0.9285795924450767\n"
          ]
        },
        {
          "output_type": "stream",
          "name": "stderr",
          "text": [
            "/usr/local/lib/python3.8/dist-packages/sklearn/ensemble/_gb.py:286: FutureWarning: The loss 'ls' was deprecated in v1.0 and will be removed in version 1.2. Use 'squared_error' which is equivalent.\n",
            "  warnings.warn(\n"
          ]
        }
      ]
    },
    {
      "cell_type": "code",
      "source": [],
      "metadata": {
        "id": "Pe7XQeCA0JGA"
      },
      "execution_count": 34,
      "outputs": []
    },
    {
      "cell_type": "code",
      "source": [],
      "metadata": {
        "id": "E_hJHi5E0JJR"
      },
      "execution_count": 34,
      "outputs": []
    },
    {
      "cell_type": "code",
      "source": [
        "\n",
        "gb = gbr.predict(df_final[['Post Processing','Built Orientation','SIF']])\n",
        "gb"
      ],
      "metadata": {
        "id": "_2p0fF2A8333",
        "colab": {
          "base_uri": "https://localhost:8080/"
        },
        "outputId": "666e2cce-1d3c-4958-d556-40d0b6366ceb"
      },
      "execution_count": 69,
      "outputs": [
        {
          "output_type": "execute_result",
          "data": {
            "text/plain": [
              "array([-0.39345596, -0.34265177, -0.33283671, -0.33283671, -0.33283671,\n",
              "       -0.33791555, -0.33791555, -0.27828339, -0.28625485, -0.20640178,\n",
              "       -0.178663  ,  0.24671216,  1.06194368, -0.42496294, -0.42396859,\n",
              "       -0.41101022, -0.41175589, -0.37710953, -0.37710953, -0.32299569,\n",
              "       -0.29544995, -0.3200962 , -0.34356619, -0.26731156, -0.26731156,\n",
              "       -0.26731156, -0.26731156, -0.26731156,  0.83959208, -0.26731156,\n",
              "       -0.26731156, -0.26731156,  0.03616972,  0.03616972,  0.30456627,\n",
              "        0.27186474,  0.27186474,  0.34160612,  0.27186474,  0.27186474,\n",
              "        1.16981745,  1.24676497,  2.59581436,  2.2342513 ,  5.6168504 ,\n",
              "       -0.47510565, -0.49085743, -0.49085743, -0.47510565, -0.47510565,\n",
              "       -0.46780158, -0.48018449, -0.46780158, -0.35679897, -0.25892855,\n",
              "       -0.25154574, -0.34900159, -0.46780158, -0.35892035, -0.35892035,\n",
              "       -0.23534511, -0.25154574, -0.25154574, -0.25154574, -0.25154574,\n",
              "       -0.25154574, -0.25154574, -0.17529111, -0.17529111, -0.17529111,\n",
              "       -0.17529111, -0.21275331, -0.21020061, -0.21020061, -0.09483123,\n",
              "       -0.09483123,  0.06657265,  0.07114245, -0.01326458,  2.75588128,\n",
              "       -0.53963007, -0.26755459, -0.26755459, -0.26755459, -0.20618848,\n",
              "       -0.21379282, -0.20618848, -0.22789528, -0.26755459, -0.00690222,\n",
              "       -0.00750329,  0.39136838,  0.48923881,  0.51282225,  0.57287624,\n",
              "        5.70207683, -0.42402533, -0.424771  , -0.38364328, -0.38174985,\n",
              "       -0.3758492 , -0.3758492 , -0.29793012, -0.38092804, -0.32129588,\n",
              "       -0.32926734, -0.29793012, -0.29793012, -0.22167549, -0.22167549,\n",
              "        0.0895931 ,  0.27311475,  0.53867114,  2.32370458, -0.45553231,\n",
              "       -0.45627798, -0.40746366, -0.41620761, -0.41461336, -0.41461336,\n",
              "       -0.40730929, -0.314879  , -0.38657868, -0.38657868, -0.31032405,\n",
              "       -0.31032405, -0.21005941,  0.05549698, -0.14999881, -0.14999881,\n",
              "       -0.01367217, -0.01367217,  0.12215263,  0.41138579,  2.36230379,\n",
              "       -0.38306792, -0.38306792, -0.38306792, -0.38306792, -0.38306792,\n",
              "       -0.1280237 , -0.32170181, -0.38306792, -0.32170181, -0.1280237 ,\n",
              "        0.19648232,  0.26634199,  0.31774647, -0.09200494,  0.20156116,\n",
              "        0.3423615 ,  0.7189659 ,  3.99025187, -0.47809557, -0.4652866 ,\n",
              "       -0.47809557, -0.47809557, -0.41097079, -0.41097079, -0.32123262,\n",
              "       -0.32123262, -0.30419339, -0.28156824, -0.28156824, -0.28156824,\n",
              "       -0.26175533, -0.26175533,  0.04188095, -0.06526394,  0.04555039,\n",
              "        0.3043117 ,  0.51760723,  2.39643462, -0.47647226, -0.50233158,\n",
              "       -0.50233158, -0.49502751, -0.50233158, -0.45584778,  0.71421996,\n",
              "       -0.35568865, -0.35568865, -0.34752255, -0.21624831, -0.32784064,\n",
              "       -0.22757911, -0.0205034 , -0.0205034 ,  0.07569067,  0.07569067,\n",
              "        0.24147599,  0.33885529, -0.5140366 , -0.36812956, -0.38657868,\n",
              "       -0.27186651, -0.35937519, -0.17529111, -0.38306792, -0.03063779,\n",
              "       -0.31032405, -0.37950324, -0.41097079, -0.22167549, -0.37160087,\n",
              "       -0.32299569, -0.41175589,  0.07114245,  0.69634075, -0.49960139,\n",
              "       -0.35568865, -0.32170181, -0.45584778,  2.2342513 , -0.20640178,\n",
              "       -0.37160087, -0.37160087, -0.12980396,  0.28036578, -0.14999881,\n",
              "       -0.26755459,  0.20156116, -0.37831381, -0.46780158,  0.97741869,\n",
              "        0.2730617 ])"
            ]
          },
          "metadata": {},
          "execution_count": 69
        }
      ]
    },
    {
      "cell_type": "code",
      "source": [
        "\n",
        "gbr_list = list(gb)"
      ],
      "metadata": {
        "id": "WXrm_UnD836u"
      },
      "execution_count": 70,
      "outputs": []
    },
    {
      "cell_type": "code",
      "source": [
        "df_final['Pred'] = gbr_list"
      ],
      "metadata": {
        "id": "YVD6bryB83-V"
      },
      "execution_count": 71,
      "outputs": []
    },
    {
      "cell_type": "code",
      "source": [
        "df_0_0 = df_final[(df_final['Post Processing'] == 0) & (df_final['Built Orientation'] == 0)]\n",
        "sns.regplot(df_0_0['SIF'],df_0_0['Crack Growth Rate'],color = 'b',label = 'Actual')\n",
        "sns.regplot(df_0_0['SIF'],df_0_0['Pred'],color = 'r',label = 'Predicted')\n",
        "plt.legend()"
      ],
      "metadata": {
        "id": "n4sNai9K84Ag",
        "colab": {
          "base_uri": "https://localhost:8080/",
          "height": 391
        },
        "outputId": "85254482-5d3a-4bca-d621-30cac28ff115"
      },
      "execution_count": 72,
      "outputs": [
        {
          "output_type": "stream",
          "name": "stderr",
          "text": [
            "/usr/local/lib/python3.8/dist-packages/seaborn/_decorators.py:36: FutureWarning: Pass the following variables as keyword args: x, y. From version 0.12, the only valid positional argument will be `data`, and passing other arguments without an explicit keyword will result in an error or misinterpretation.\n",
            "  warnings.warn(\n",
            "/usr/local/lib/python3.8/dist-packages/seaborn/_decorators.py:36: FutureWarning: Pass the following variables as keyword args: x, y. From version 0.12, the only valid positional argument will be `data`, and passing other arguments without an explicit keyword will result in an error or misinterpretation.\n",
            "  warnings.warn(\n"
          ]
        },
        {
          "output_type": "execute_result",
          "data": {
            "text/plain": [
              "<matplotlib.legend.Legend at 0x7f2c5283ea30>"
            ]
          },
          "metadata": {},
          "execution_count": 72
        },
        {
          "output_type": "display_data",
          "data": {
            "text/plain": [
              "<Figure size 432x288 with 1 Axes>"
            ],
            "image/png": "[encoded data removed]"
          },
          "metadata": {
            "needs_background": "light"
          }
        }
      ]
    },
    {
      "cell_type": "code",
      "source": [
        "df_0_0 = df_final[(df_final['Post Processing'] == 0) & (df_final['Built Orientation'] == 1)]\n",
        "sns.regplot(df_0_0['SIF'],df_0_0['Crack Growth Rate'],color = 'b',label = 'Actual')\n",
        "sns.regplot(df_0_0['SIF'],df_0_0['Pred'],color = 'r',label = 'Predicted')\n",
        "plt.legend()"
      ],
      "metadata": {
        "id": "TrZD_Xoe84DT",
        "colab": {
          "base_uri": "https://localhost:8080/",
          "height": 391
        },
        "outputId": "03579dd8-1c2b-429b-a80a-7b67df92a4c2"
      },
      "execution_count": 73,
      "outputs": [
        {
          "output_type": "stream",
          "name": "stderr",
          "text": [
            "/usr/local/lib/python3.8/dist-packages/seaborn/_decorators.py:36: FutureWarning: Pass the following variables as keyword args: x, y. From version 0.12, the only valid positional argument will be `data`, and passing other arguments without an explicit keyword will result in an error or misinterpretation.\n",
            "  warnings.warn(\n",
            "/usr/local/lib/python3.8/dist-packages/seaborn/_decorators.py:36: FutureWarning: Pass the following variables as keyword args: x, y. From version 0.12, the only valid positional argument will be `data`, and passing other arguments without an explicit keyword will result in an error or misinterpretation.\n",
            "  warnings.warn(\n"
          ]
        },
        {
          "output_type": "execute_result",
          "data": {
            "text/plain": [
              "<matplotlib.legend.Legend at 0x7f2c53b75ee0>"
            ]
          },
          "metadata": {},
          "execution_count": 73
        },
        {
          "output_type": "display_data",
          "data": {
            "text/plain": [
              "<Figure size 432x288 with 1 Axes>"
            ],
            "image/png": "[encoded data removed]"
          },
          "metadata": {
            "needs_background": "light"
          }
        }
      ]
    },
    {
      "cell_type": "code",
      "source": [
        "\n",
        "df_0_0 = df_final[(df_final['Post Processing'] == 0) & (df_final['Built Orientation'] == 2)]\n",
        "sns.regplot(df_0_0['SIF'],df_0_0['Crack Growth Rate'],color = 'b',label = 'Actual')\n",
        "sns.regplot(df_0_0['SIF'],df_0_0['Pred'],color = 'r',label = 'Predicted')\n",
        "plt.legend()"
      ],
      "metadata": {
        "id": "-BbB_arC84GM",
        "colab": {
          "base_uri": "https://localhost:8080/",
          "height": 391
        },
        "outputId": "fb425b90-5df2-4738-ff9b-735e331e4f80"
      },
      "execution_count": 74,
      "outputs": [
        {
          "output_type": "stream",
          "name": "stderr",
          "text": [
            "/usr/local/lib/python3.8/dist-packages/seaborn/_decorators.py:36: FutureWarning: Pass the following variables as keyword args: x, y. From version 0.12, the only valid positional argument will be `data`, and passing other arguments without an explicit keyword will result in an error or misinterpretation.\n",
            "  warnings.warn(\n",
            "/usr/local/lib/python3.8/dist-packages/seaborn/_decorators.py:36: FutureWarning: Pass the following variables as keyword args: x, y. From version 0.12, the only valid positional argument will be `data`, and passing other arguments without an explicit keyword will result in an error or misinterpretation.\n",
            "  warnings.warn(\n"
          ]
        },
        {
          "output_type": "execute_result",
          "data": {
            "text/plain": [
              "<matplotlib.legend.Legend at 0x7f2c52774df0>"
            ]
          },
          "metadata": {},
          "execution_count": 74
        },
        {
          "output_type": "display_data",
          "data": {
            "text/plain": [
              "<Figure size 432x288 with 1 Axes>"
            ],
            "image/png": "[encoded data removed]"
          },
          "metadata": {
            "needs_background": "light"
          }
        }
      ]
    },
    {
      "cell_type": "code",
      "source": [
        "df_0_0 = df_final[(df_final['Post Processing'] == 1) & (df_final['Built Orientation'] == 0)]\n",
        "sns.regplot(df_0_0['SIF'],df_0_0['Crack Growth Rate'],color = 'b',label = 'Actual')\n",
        "sns.regplot(df_0_0['SIF'],df_0_0['Pred'],color = 'r',label = 'Predicted')\n",
        "plt.legend()"
      ],
      "metadata": {
        "id": "5HE2dOJt84JM",
        "colab": {
          "base_uri": "https://localhost:8080/",
          "height": 395
        },
        "outputId": "f1ebc721-924f-4d27-f4e4-1d69b134c2db"
      },
      "execution_count": 75,
      "outputs": [
        {
          "output_type": "stream",
          "name": "stderr",
          "text": [
            "/usr/local/lib/python3.8/dist-packages/seaborn/_decorators.py:36: FutureWarning: Pass the following variables as keyword args: x, y. From version 0.12, the only valid positional argument will be `data`, and passing other arguments without an explicit keyword will result in an error or misinterpretation.\n",
            "  warnings.warn(\n",
            "/usr/local/lib/python3.8/dist-packages/seaborn/_decorators.py:36: FutureWarning: Pass the following variables as keyword args: x, y. From version 0.12, the only valid positional argument will be `data`, and passing other arguments without an explicit keyword will result in an error or misinterpretation.\n",
            "  warnings.warn(\n"
          ]
        },
        {
          "output_type": "execute_result",
          "data": {
            "text/plain": [
              "<matplotlib.legend.Legend at 0x7f2c526e9df0>"
            ]
          },
          "metadata": {},
          "execution_count": 75
        },
        {
          "output_type": "display_data",
          "data": {
            "text/plain": [
              "<Figure size 432x288 with 1 Axes>"
            ],
            "image/png": "[encoded data removed]"
          },
          "metadata": {
            "needs_background": "light"
          }
        }
      ]
    },
    {
      "cell_type": "code",
      "source": [
        "df_0_0 = df_final[(df_final['Post Processing'] == 1) & (df_final['Built Orientation'] == 1)]\n",
        "sns.regplot(df_0_0['SIF'],df_0_0['Crack Growth Rate'],color = 'b',label = 'Actual')\n",
        "sns.regplot(df_0_0['SIF'],df_0_0['Pred'],color = 'r',label = 'Predicted')\n",
        "plt.legend()\n",
        "     "
      ],
      "metadata": {
        "id": "23iql69j84M9",
        "colab": {
          "base_uri": "https://localhost:8080/",
          "height": 391
        },
        "outputId": "cafeab22-67f3-4454-8c7d-b2afeaf1a4de"
      },
      "execution_count": 76,
      "outputs": [
        {
          "output_type": "stream",
          "name": "stderr",
          "text": [
            "/usr/local/lib/python3.8/dist-packages/seaborn/_decorators.py:36: FutureWarning: Pass the following variables as keyword args: x, y. From version 0.12, the only valid positional argument will be `data`, and passing other arguments without an explicit keyword will result in an error or misinterpretation.\n",
            "  warnings.warn(\n",
            "/usr/local/lib/python3.8/dist-packages/seaborn/_decorators.py:36: FutureWarning: Pass the following variables as keyword args: x, y. From version 0.12, the only valid positional argument will be `data`, and passing other arguments without an explicit keyword will result in an error or misinterpretation.\n",
            "  warnings.warn(\n"
          ]
        },
        {
          "output_type": "execute_result",
          "data": {
            "text/plain": [
              "<matplotlib.legend.Legend at 0x7f2c526399d0>"
            ]
          },
          "metadata": {},
          "execution_count": 76
        },
        {
          "output_type": "display_data",
          "data": {
            "text/plain": [
              "<Figure size 432x288 with 1 Axes>"
            ],
            "image/png": "[encoded data removed]"
          },
          "metadata": {
            "needs_background": "light"
          }
        }
      ]
    },
    {
      "cell_type": "code",
      "source": [
        "\n",
        "df_0_0 = df_final[(df_final['Post Processing'] == 1) & (df_final['Built Orientation'] == 2)]\n",
        "sns.regplot(df_0_0['SIF'],df_0_0['Crack Growth Rate'],color = 'b',label = 'Actual')\n",
        "sns.regplot(df_0_0['SIF'],df_0_0['Pred'],color = 'r',label = 'Predicted')\n",
        "plt.legend()\n",
        "     "
      ],
      "metadata": {
        "id": "PDhGax7_84Pd",
        "colab": {
          "base_uri": "https://localhost:8080/",
          "height": 392
        },
        "outputId": "4ddc511d-7cbd-416c-cade-1279c347befc"
      },
      "execution_count": 77,
      "outputs": [
        {
          "output_type": "stream",
          "name": "stderr",
          "text": [
            "/usr/local/lib/python3.8/dist-packages/seaborn/_decorators.py:36: FutureWarning: Pass the following variables as keyword args: x, y. From version 0.12, the only valid positional argument will be `data`, and passing other arguments without an explicit keyword will result in an error or misinterpretation.\n",
            "  warnings.warn(\n",
            "/usr/local/lib/python3.8/dist-packages/seaborn/_decorators.py:36: FutureWarning: Pass the following variables as keyword args: x, y. From version 0.12, the only valid positional argument will be `data`, and passing other arguments without an explicit keyword will result in an error or misinterpretation.\n",
            "  warnings.warn(\n"
          ]
        },
        {
          "output_type": "execute_result",
          "data": {
            "text/plain": [
              "<matplotlib.legend.Legend at 0x7f2c52639e80>"
            ]
          },
          "metadata": {},
          "execution_count": 77
        },
        {
          "output_type": "display_data",
          "data": {
            "text/plain": [
              "<Figure size 432x288 with 1 Axes>"
            ],
            "image/png": "[encoded data removed]"
          },
          "metadata": {
            "needs_background": "light"
          }
        }
      ]
    },
    {
      "cell_type": "code",
      "source": [
        "\n",
        "df_0_0 = df_final[(df_final['Post Processing'] == 2) & (df_final['Built Orientation'] == 0)]\n",
        "sns.regplot(df_0_0['SIF'],df_0_0['Crack Growth Rate'],color = 'b',label = 'Actual')\n",
        "sns.regplot(df_0_0['SIF'],df_0_0['Pred'],color = 'r',label = 'Predicted')\n",
        "plt.legend()"
      ],
      "metadata": {
        "id": "UbnrRpn-84R7",
        "colab": {
          "base_uri": "https://localhost:8080/",
          "height": 391
        },
        "outputId": "a134d309-a54d-49e8-da2a-9f34fdf8709d"
      },
      "execution_count": 79,
      "outputs": [
        {
          "output_type": "stream",
          "name": "stderr",
          "text": [
            "/usr/local/lib/python3.8/dist-packages/seaborn/_decorators.py:36: FutureWarning: Pass the following variables as keyword args: x, y. From version 0.12, the only valid positional argument will be `data`, and passing other arguments without an explicit keyword will result in an error or misinterpretation.\n",
            "  warnings.warn(\n",
            "/usr/local/lib/python3.8/dist-packages/seaborn/_decorators.py:36: FutureWarning: Pass the following variables as keyword args: x, y. From version 0.12, the only valid positional argument will be `data`, and passing other arguments without an explicit keyword will result in an error or misinterpretation.\n",
            "  warnings.warn(\n"
          ]
        },
        {
          "output_type": "execute_result",
          "data": {
            "text/plain": [
              "<matplotlib.legend.Legend at 0x7f2c5253b4f0>"
            ]
          },
          "metadata": {},
          "execution_count": 79
        },
        {
          "output_type": "display_data",
          "data": {
            "text/plain": [
              "<Figure size 432x288 with 1 Axes>"
            ],
            "image/png": "[encoded data removed]"
          },
          "metadata": {
            "needs_background": "light"
          }
        }
      ]
    },
    {
      "cell_type": "code",
      "source": [
        "df_0_0 = df_final[(df_final['Post Processing'] == 2) & (df_final['Built Orientation'] == 1)]\n",
        "sns.regplot(df_0_0['SIF'],df_0_0['Crack Growth Rate'],color = 'b',label = 'Actual')\n",
        "sns.regplot(df_0_0['SIF'],df_0_0['Pred'],color = 'r',label = 'Predicted')\n",
        "plt.legend()"
      ],
      "metadata": {
        "id": "iGeLc3uh84U5",
        "colab": {
          "base_uri": "https://localhost:8080/",
          "height": 391
        },
        "outputId": "56a98e96-bc6d-4f52-b44e-04a5b6c46e27"
      },
      "execution_count": 80,
      "outputs": [
        {
          "output_type": "stream",
          "name": "stderr",
          "text": [
            "/usr/local/lib/python3.8/dist-packages/seaborn/_decorators.py:36: FutureWarning: Pass the following variables as keyword args: x, y. From version 0.12, the only valid positional argument will be `data`, and passing other arguments without an explicit keyword will result in an error or misinterpretation.\n",
            "  warnings.warn(\n",
            "/usr/local/lib/python3.8/dist-packages/seaborn/_decorators.py:36: FutureWarning: Pass the following variables as keyword args: x, y. From version 0.12, the only valid positional argument will be `data`, and passing other arguments without an explicit keyword will result in an error or misinterpretation.\n",
            "  warnings.warn(\n"
          ]
        },
        {
          "output_type": "execute_result",
          "data": {
            "text/plain": [
              "<matplotlib.legend.Legend at 0x7f2c526d58b0>"
            ]
          },
          "metadata": {},
          "execution_count": 80
        },
        {
          "output_type": "display_data",
          "data": {
            "text/plain": [
              "<Figure size 432x288 with 1 Axes>"
            ],
            "image/png": "[encoded data removed]"
          },
          "metadata": {
            "needs_background": "light"
          }
        }
      ]
    },
    {
      "cell_type": "code",
      "source": [
        "df_0_0 = df_final[(df_final['Post Processing'] == 2) & (df_final['Built Orientation'] == 2)]\n",
        "sns.regplot(df_0_0['SIF'],df_0_0['Crack Growth Rate'],color = 'b',label = 'Actual')\n",
        "sns.regplot(df_0_0['SIF'],df_0_0['Pred'],color = 'r',label = 'Predicted')\n",
        "plt.legend()"
      ],
      "metadata": {
        "id": "IWoT6OaQ84XX",
        "colab": {
          "base_uri": "https://localhost:8080/",
          "height": 391
        },
        "outputId": "cb69d926-523d-4881-88b1-da64cb7a8546"
      },
      "execution_count": 81,
      "outputs": [
        {
          "output_type": "stream",
          "name": "stderr",
          "text": [
            "/usr/local/lib/python3.8/dist-packages/seaborn/_decorators.py:36: FutureWarning: Pass the following variables as keyword args: x, y. From version 0.12, the only valid positional argument will be `data`, and passing other arguments without an explicit keyword will result in an error or misinterpretation.\n",
            "  warnings.warn(\n",
            "/usr/local/lib/python3.8/dist-packages/seaborn/_decorators.py:36: FutureWarning: Pass the following variables as keyword args: x, y. From version 0.12, the only valid positional argument will be `data`, and passing other arguments without an explicit keyword will result in an error or misinterpretation.\n",
            "  warnings.warn(\n"
          ]
        },
        {
          "output_type": "execute_result",
          "data": {
            "text/plain": [
              "<matplotlib.legend.Legend at 0x7f2c525ed700>"
            ]
          },
          "metadata": {},
          "execution_count": 81
        },
        {
          "output_type": "display_data",
          "data": {
            "text/plain": [
              "<Figure size 432x288 with 1 Axes>"
            ],
            "image/png": "[encoded data removed]"
          },
          "metadata": {
            "needs_background": "light"
          }
        }
      ]
    },
    {
      "cell_type": "code",
      "source": [],
      "metadata": {
        "id": "VPD5uBHX84Z-"
      },
      "execution_count": 46,
      "outputs": []
    }
  ]
}