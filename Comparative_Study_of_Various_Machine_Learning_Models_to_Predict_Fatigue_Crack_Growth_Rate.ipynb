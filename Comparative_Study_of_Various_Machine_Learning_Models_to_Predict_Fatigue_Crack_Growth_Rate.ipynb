{
  "nbformat": 4,
  "nbformat_minor": 0,
  "metadata": {
    "colab": {
      "provenance": [],
      "authorship_tag": "ABX9TyMK7NZm6lgKCsWCyt9Uqbtb",
      "include_colab_link": true
    },
    "kernelspec": {
      "name": "python3",
      "display_name": "Python 3"
    },
    "language_info": {
      "name": "python"
    }
  },
  "cells": [
    {
      "cell_type": "markdown",
      "metadata": {
        "id": "view-in-github",
        "colab_type": "text"
      },
      "source": [
        "<a href=\"https://colab.research.google.com/github/Sujal-vajire/Machine-learning-models/blob/main/Comparative_Study_of_Various_Machine_Learning_Models_to_Predict_Fatigue_Crack_Growth_Rate.ipynb\" target=\"_parent\"><img src=\"https://colab.research.google.com/assets/colab-badge.svg\" alt=\"Open In Colab\"/></a>"
      ]
    },
    {
      "cell_type": "code",
      "execution_count": 1,
      "metadata": {
        "id": "TZLW23pRb4Ve"
      },
      "outputs": [],
      "source": [
        "import numpy as np\n",
        "import pandas as pd\n",
        "from sklearn.model_selection import train_test_split\n",
        "import warnings\n",
        "import seaborn as sns\n",
        "warnings.filterwarnings('ignore')\n"
      ]
    },
    {
      "cell_type": "code",
      "source": [
        "df_train = pd.read_excel('FCGR_Train.xlsx')\n",
        "df_test =  pd.read_excel('FCGR_Test.xlsx')"
      ],
      "metadata": {
        "id": "zkHH9yJEfIsy"
      },
      "execution_count": 2,
      "outputs": []
    },
    {
      "cell_type": "code",
      "source": [
        "df = df_train.append(df_test)\n",
        "df"
      ],
      "metadata": {
        "colab": {
          "base_uri": "https://localhost:8080/",
          "height": 419
        },
        "id": "rda2dLgpfT2Y",
        "outputId": "aa5008a3-f1ba-40b5-f679-5def535242b7"
      },
      "execution_count": 3,
      "outputs": [
        {
          "output_type": "execute_result",
          "data": {
            "text/plain": [
              "    Post Processing Built Orientation   SIF  Crack Growth Rate\n",
              "0   Stress Relieved                XY  12.5       3.970000e-08\n",
              "1   Stress Relieved                XY  15.5       8.530000e-08\n",
              "2   Stress Relieved                XY  16.3       1.570000e-07\n",
              "3   Stress Relieved                XY  17.1       1.350000e-07\n",
              "4   Stress Relieved                XY  17.5       1.570000e-07\n",
              "..              ...               ...   ...                ...\n",
              "29         As Built                ZX  17.9       3.340000e-07\n",
              "30     Heat Treated                ZX  23.0       1.650000e-07\n",
              "31         As Built                XY  18.7       2.010000e-07\n",
              "32  Stress Relieved                ZX  34.2       4.740000e-06\n",
              "33         As Built                XZ  16.7       2.430000e-06\n",
              "\n",
              "[226 rows x 4 columns]"
            ],
            "text/html": [
              "\n",
              "  <div id=\"df-68bedadb-3184-473b-af73-37c6fad66f2c\">\n",
              "    <div class=\"colab-df-container\">\n",
              "      <div>\n",
              "<style scoped>\n",
              "    .dataframe tbody tr th:only-of-type {\n",
              "        vertical-align: middle;\n",
              "    }\n",
              "\n",
              "    .dataframe tbody tr th {\n",
              "        vertical-align: top;\n",
              "    }\n",
              "\n",
              "    .dataframe thead th {\n",
              "        text-align: right;\n",
              "    }\n",
              "</style>\n",
              "<table border=\"1\" class=\"dataframe\">\n",
              "  <thead>\n",
              "    <tr style=\"text-align: right;\">\n",
              "      <th></th>\n",
              "      <th>Post Processing</th>\n",
              "      <th>Built Orientation</th>\n",
              "      <th>SIF</th>\n",
              "      <th>Crack Growth Rate</th>\n",
              "    </tr>\n",
              "  </thead>\n",
              "  <tbody>\n",
              "    <tr>\n",
              "      <th>0</th>\n",
              "      <td>Stress Relieved</td>\n",
              "      <td>XY</td>\n",
              "      <td>12.5</td>\n",
              "      <td>3.970000e-08</td>\n",
              "    </tr>\n",
              "    <tr>\n",
              "      <th>1</th>\n",
              "      <td>Stress Relieved</td>\n",
              "      <td>XY</td>\n",
              "      <td>15.5</td>\n",
              "      <td>8.530000e-08</td>\n",
              "    </tr>\n",
              "    <tr>\n",
              "      <th>2</th>\n",
              "      <td>Stress Relieved</td>\n",
              "      <td>XY</td>\n",
              "      <td>16.3</td>\n",
              "      <td>1.570000e-07</td>\n",
              "    </tr>\n",
              "    <tr>\n",
              "      <th>3</th>\n",
              "      <td>Stress Relieved</td>\n",
              "      <td>XY</td>\n",
              "      <td>17.1</td>\n",
              "      <td>1.350000e-07</td>\n",
              "    </tr>\n",
              "    <tr>\n",
              "      <th>4</th>\n",
              "      <td>Stress Relieved</td>\n",
              "      <td>XY</td>\n",
              "      <td>17.5</td>\n",
              "      <td>1.570000e-07</td>\n",
              "    </tr>\n",
              "    <tr>\n",
              "      <th>...</th>\n",
              "      <td>...</td>\n",
              "      <td>...</td>\n",
              "      <td>...</td>\n",
              "      <td>...</td>\n",
              "    </tr>\n",
              "    <tr>\n",
              "      <th>29</th>\n",
              "      <td>As Built</td>\n",
              "      <td>ZX</td>\n",
              "      <td>17.9</td>\n",
              "      <td>3.340000e-07</td>\n",
              "    </tr>\n",
              "    <tr>\n",
              "      <th>30</th>\n",
              "      <td>Heat Treated</td>\n",
              "      <td>ZX</td>\n",
              "      <td>23.0</td>\n",
              "      <td>1.650000e-07</td>\n",
              "    </tr>\n",
              "    <tr>\n",
              "      <th>31</th>\n",
              "      <td>As Built</td>\n",
              "      <td>XY</td>\n",
              "      <td>18.7</td>\n",
              "      <td>2.010000e-07</td>\n",
              "    </tr>\n",
              "    <tr>\n",
              "      <th>32</th>\n",
              "      <td>Stress Relieved</td>\n",
              "      <td>ZX</td>\n",
              "      <td>34.2</td>\n",
              "      <td>4.740000e-06</td>\n",
              "    </tr>\n",
              "    <tr>\n",
              "      <th>33</th>\n",
              "      <td>As Built</td>\n",
              "      <td>XZ</td>\n",
              "      <td>16.7</td>\n",
              "      <td>2.430000e-06</td>\n",
              "    </tr>\n",
              "  </tbody>\n",
              "</table>\n",
              "<p>226 rows × 4 columns</p>\n",
              "</div>\n",
              "      <button class=\"colab-df-convert\" onclick=\"convertToInteractive('df-68bedadb-3184-473b-af73-37c6fad66f2c')\"\n",
              "              title=\"Convert this dataframe to an interactive table.\"\n",
              "              style=\"display:none;\">\n",
              "        \n",
              "  <svg xmlns=\"http://www.w3.org/2000/svg\" height=\"24px\"viewBox=\"0 0 24 24\"\n",
              "       width=\"24px\">\n",
              "    <path d=\"M0 0h24v24H0V0z\" fill=\"none\"/>\n",
              "    <path d=\"M18.56 5.44l.94 2.06.94-2.06 2.06-.94-2.06-.94-.94-2.06-.94 2.06-2.06.94zm-11 1L8.5 8.5l.94-2.06 2.06-.94-2.06-.94L8.5 2.5l-.94 2.06-2.06.94zm10 10l.94 2.06.94-2.06 2.06-.94-2.06-.94-.94-2.06-.94 2.06-2.06.94z\"/><path d=\"M17.41 7.96l-1.37-1.37c-.4-.4-.92-.59-1.43-.59-.52 0-1.04.2-1.43.59L10.3 9.45l-7.72 7.72c-.78.78-.78 2.05 0 2.83L4 21.41c.39.39.9.59 1.41.59.51 0 1.02-.2 1.41-.59l7.78-7.78 2.81-2.81c.8-.78.8-2.07 0-2.86zM5.41 20L4 18.59l7.72-7.72 1.47 1.35L5.41 20z\"/>\n",
              "  </svg>\n",
              "      </button>\n",
              "      \n",
              "  <style>\n",
              "    .colab-df-container {\n",
              "      display:flex;\n",
              "      flex-wrap:wrap;\n",
              "      gap: 12px;\n",
              "    }\n",
              "\n",
              "    .colab-df-convert {\n",
              "      background-color: #E8F0FE;\n",
              "      border: none;\n",
              "      border-radius: 50%;\n",
              "      cursor: pointer;\n",
              "      display: none;\n",
              "      fill: #1967D2;\n",
              "      height: 32px;\n",
              "      padding: 0 0 0 0;\n",
              "      width: 32px;\n",
              "    }\n",
              "\n",
              "    .colab-df-convert:hover {\n",
              "      background-color: #E2EBFA;\n",
              "      box-shadow: 0px 1px 2px rgba(60, 64, 67, 0.3), 0px 1px 3px 1px rgba(60, 64, 67, 0.15);\n",
              "      fill: #174EA6;\n",
              "    }\n",
              "\n",
              "    [theme=dark] .colab-df-convert {\n",
              "      background-color: #3B4455;\n",
              "      fill: #D2E3FC;\n",
              "    }\n",
              "\n",
              "    [theme=dark] .colab-df-convert:hover {\n",
              "      background-color: #434B5C;\n",
              "      box-shadow: 0px 1px 3px 1px rgba(0, 0, 0, 0.15);\n",
              "      filter: drop-shadow(0px 1px 2px rgba(0, 0, 0, 0.3));\n",
              "      fill: #FFFFFF;\n",
              "    }\n",
              "  </style>\n",
              "\n",
              "      <script>\n",
              "        const buttonEl =\n",
              "          document.querySelector('#df-68bedadb-3184-473b-af73-37c6fad66f2c button.colab-df-convert');\n",
              "        buttonEl.style.display =\n",
              "          google.colab.kernel.accessAllowed ? 'block' : 'none';\n",
              "\n",
              "        async function convertToInteractive(key) {\n",
              "          const element = document.querySelector('#df-68bedadb-3184-473b-af73-37c6fad66f2c');\n",
              "          const dataTable =\n",
              "            await google.colab.kernel.invokeFunction('convertToInteractive',\n",
              "                                                     [key], {});\n",
              "          if (!dataTable) return;\n",
              "\n",
              "          const docLinkHtml = 'Like what you see? Visit the ' +\n",
              "            '<a target=\"_blank\" href=https://colab.research.google.com/notebooks/data_table.ipynb>data table notebook</a>'\n",
              "            + ' to learn more about interactive tables.';\n",
              "          element.innerHTML = '';\n",
              "          dataTable['output_type'] = 'display_data';\n",
              "          await google.colab.output.renderOutput(dataTable, element);\n",
              "          const docLink = document.createElement('div');\n",
              "          docLink.innerHTML = docLinkHtml;\n",
              "          element.appendChild(docLink);\n",
              "        }\n",
              "      </script>\n",
              "    </div>\n",
              "  </div>\n",
              "  "
            ]
          },
          "metadata": {},
          "execution_count": 3
        }
      ]
    },
    {
      "cell_type": "code",
      "source": [
        "import numpy as np\n",
        "import pandas as pd\n",
        "import matplotlib as mpl\n",
        "import matplotlib.pyplot as plt\n",
        "import seaborn as sns\n",
        "import warnings; warnings.filterwarnings(action='once')\n",
        "\n",
        "large = 22; med = 16; small = 12\n",
        "params = {'axes.titlesize': large,\n",
        "          'legend.fontsize': med,\n",
        "          'figure.figsize': (16, 10),\n",
        "          'axes.labelsize': med,\n",
        "          'axes.titlesize': med,\n",
        "          'xtick.labelsize': med,\n",
        "          'ytick.labelsize': med,\n",
        "          'figure.titlesize': large}\n",
        "plt.rcParams.update(params)\n",
        "plt.style.use('seaborn-whitegrid')\n",
        "sns.set_style(\"white\")\n",
        "%matplotlib inline\n",
        "\n",
        "print(mpl.__version__)  #> 3.0.0\n",
        "print(sns.__version__)  #> 0.9.0"
      ],
      "metadata": {
        "colab": {
          "base_uri": "https://localhost:8080/"
        },
        "id": "69tp_C7qgZKH",
        "outputId": "a6b612a3-44f3-4e91-bf80-64dc062d2919"
      },
      "execution_count": 4,
      "outputs": [
        {
          "output_type": "stream",
          "name": "stdout",
          "text": [
            "3.2.2\n",
            "0.11.2\n"
          ]
        }
      ]
    },
    {
      "cell_type": "code",
      "source": [
        "import matplotlib.pyplot as plt\n",
        "#sns.regplot(Data_X,Data_Y,label = 'As Built')\n",
        "#plt.legend()\n",
        "\n",
        "\n"
      ],
      "metadata": {
        "id": "Y7aNUOJAfT6v"
      },
      "execution_count": 5,
      "outputs": []
    },
    {
      "cell_type": "code",
      "source": [
        "# XYAB = pd.read_excel('Data_XY_AB.xlsx')\n",
        "# XYSR = pd.read_excel('Data_XY_SR.xlsx')\n",
        "# XYHT = pd.read_excel('Data_XY_HT.xlsx')\n",
        "# XZAB = pd.read_excel('Data_XZ_AB.xlsx')\n",
        "# XZSR = pd.read_excel('Data_XZ_SR.xlsx')\n",
        "# XZHT = pd.read_excel('Data_XZ_HT.xlsx')\n",
        "# ZXAB = pd.read_excel('Data_ZX_AB.xlsx')\n",
        "# ZXSR = pd.read_excel('Data_ZX_SR.xlsx')\n",
        "# ZXHT = pd.read_excel('Data_ZX_HT.xlsx')\n"
      ],
      "metadata": {
        "id": "OejzWJQHUsLB"
      },
      "execution_count": 6,
      "outputs": []
    },
    {
      "cell_type": "code",
      "source": [
        "# sns.set_style(\"white\")\n",
        "# gridobj = sns.lmplot(x=\"SIF\", y=\"Crack Growth Rate\", data=XYAB, \n",
        "#                      height=7, aspect=1.6,line_kws={'color': 'darkorange'}, robust=True, palette='tab10', \n",
        "#                      scatter_kws=dict(s=80, linewidths=1.5))\n",
        "\n",
        "# plt.xlabel('SIF (MPa√m)')\n",
        "# plt.ylabel('Crack Growth Rate (m/cycle)')\n",
        "# plt.savefig(\"ABXY.png\", format=\"png\", dpi=600)\n",
        "# plt.show()\n",
        "\n"
      ],
      "metadata": {
        "id": "sCuqTUUwfUCj"
      },
      "execution_count": 7,
      "outputs": []
    },
    {
      "cell_type": "code",
      "source": [
        "# sns.set_style(\"white\")\n",
        "# gridobj = sns.lmplot(x=\"SIF\", y=\"Crack Growth Rate\", data=XYSR, \n",
        "#                      height=7, aspect=1.6, line_kws={'color': 'darkorange'}, robust=True, palette='tab10', \n",
        "#                      scatter_kws=dict(s=80, linewidths=1.5))\n",
        "# plt.xlabel('SIF (MPa√m)')\n",
        "# plt.ylabel('Crack Growth Rate (m/cycle)')\n",
        "\n",
        "# plt.savefig(\"SRXY.jpg\", format=\"png\", dpi=600)\n",
        "# plt.show()"
      ],
      "metadata": {
        "id": "yMKHhi-WfUFK"
      },
      "execution_count": 8,
      "outputs": []
    },
    {
      "cell_type": "code",
      "source": [
        "# sns.set_style(\"white\")\n",
        "# gridobj = sns.lmplot(x=\"SIF\", y=\"Crack Growth Rate\", data=XYHT, \n",
        "#                      height=7, aspect=1.6, line_kws={'color': 'darkorange'}, robust=True, palette='tab10', \n",
        "#                      scatter_kws=dict(s=80, linewidths=1.5))\n",
        "# plt.xlabel('SIF (MPa√m)')\n",
        "# plt.ylabel('Crack Growth Rate (m/cycle)')\n",
        "\n",
        "# plt.savefig(\"HTXY.png\", format=\"png\", dpi=600)\n",
        "# plt.show()"
      ],
      "metadata": {
        "id": "BCOMXdLAfUKY"
      },
      "execution_count": 9,
      "outputs": []
    },
    {
      "cell_type": "code",
      "source": [
        "# sns.set_style(\"white\")\n",
        "# gridobj = sns.lmplot(x=\"SIF\", y=\"Crack Growth Rate\", data=XZAB, \n",
        "#                      height=7, aspect=1.6, line_kws={'color': 'darkorange'}, robust=True, palette='tab10', \n",
        "#                      scatter_kws=dict(s=80, linewidths=1.5))\n",
        "# plt.xlabel('SIF (MPa√m)')\n",
        "# plt.ylabel('Crack Growth Rate (m/cycle)')\n",
        "\n",
        "# plt.savefig(\"ABXZ.png\", format=\"png\", dpi=600)\n",
        "# plt.show()"
      ],
      "metadata": {
        "id": "xHXu0DHlfUSe"
      },
      "execution_count": 10,
      "outputs": []
    },
    {
      "cell_type": "code",
      "source": [
        "# sns.set_style(\"white\")\n",
        "# gridobj = sns.lmplot(x=\"SIF\", y=\"Crack Growth Rate\", data=XZSR, \n",
        "#                      height=7, aspect=1.6, line_kws={'color': 'darkorange'}, robust=True, palette='tab10', \n",
        "#                      scatter_kws=dict(s=80, linewidths=1.5))\n",
        "# plt.xlabel('SIF (MPa√m)')\n",
        "# plt.ylabel('Crack Growth Rate (m/cycle)')\n",
        "\n",
        "# plt.savefig(\"SRXZ.png\", format=\"png\", dpi=600)\n",
        "# plt.show()"
      ],
      "metadata": {
        "id": "IC6P4nHifUVE"
      },
      "execution_count": 11,
      "outputs": []
    },
    {
      "cell_type": "code",
      "source": [
        "# sns.set_style(\"white\")\n",
        "# gridobj = sns.lmplot(x=\"SIF\", y=\"Crack Growth Rate\", data=XZHT, \n",
        "#                      height=7, aspect=1.6, line_kws={'color': 'darkorange'}, robust=True, palette='tab10', \n",
        "#                      scatter_kws=dict(s=80, linewidths=1.5))\n",
        "# plt.xlabel('SIF (MPa√m)')\n",
        "# plt.ylabel('Crack Growth Rate (m/cycle)')\n",
        "\n",
        "# plt.savefig(\"HTXZ.png\", format=\"png\", dpi=600)\n",
        "# plt.show()"
      ],
      "metadata": {
        "id": "j0Zi73XvoL8H"
      },
      "execution_count": 12,
      "outputs": []
    },
    {
      "cell_type": "code",
      "source": [
        "# sns.set_style(\"white\")\n",
        "# gridobj = sns.lmplot(x=\"SIF\", y=\"Crack Growth Rate\", data=ZXAB, \n",
        "#                      height=7, aspect=1.6, line_kws={'color': 'darkorange'}, robust=True, palette='tab10', \n",
        "#                      scatter_kws=dict(s=80, linewidths=1.5))\n",
        "# plt.xlabel('SIF (MPa√m)')\n",
        "# plt.ylabel('Crack Growth Rate (m/cycle)')\n",
        "\n",
        "# plt.savefig(\"ABZX.png\", format=\"png\", dpi=600)\n",
        "# plt.show()"
      ],
      "metadata": {
        "id": "RM6WSntAoMUF"
      },
      "execution_count": 13,
      "outputs": []
    },
    {
      "cell_type": "code",
      "source": [
        "# sns.set_style(\"white\")\n",
        "# gridobj = sns.lmplot(x=\"SIF\", y=\"Crack Growth Rate\", data=ZXSR, \n",
        "#                      height=7, aspect=1.6, line_kws={'color': 'darkorange'}, robust=True, palette='tab10', \n",
        "#                      scatter_kws=dict(s=80, linewidths=1.5))\n",
        "# plt.xlabel('SIF (MPa√m)')\n",
        "# plt.ylabel('Crack Growth Rate (m/cycle)')\n",
        "\n",
        "# plt.savefig(\"SRZX.png\", format=\"png\", dpi=600)\n",
        "# plt.show()"
      ],
      "metadata": {
        "id": "3SPLd-4moMmT"
      },
      "execution_count": 14,
      "outputs": []
    },
    {
      "cell_type": "code",
      "source": [
        "# sns.set_style(\"white\")\n",
        "# gridobj = sns.lmplot(x=\"SIF\", y=\"Crack Growth Rate\", data=ZXHT, \n",
        "#                      height=7, aspect=1.6, line_kws={'color': 'darkorange'}, robust=True, palette='tab10', \n",
        "#                      scatter_kws=dict(s=80, linewidths=1.5))\n",
        "# plt.xlabel('SIF (MPa√m)')\n",
        "# plt.ylabel('Crack Growth Rate (m/cycle)')\n",
        "\n",
        "# plt.savefig(\"HTZX.png\", format=\"png\", dpi=600)\n",
        "# plt.show()"
      ],
      "metadata": {
        "id": "PHTfvHDsoM16"
      },
      "execution_count": 15,
      "outputs": []
    },
    {
      "cell_type": "code",
      "source": [
        "#np.savetxt('Y.txt',Y)"
      ],
      "metadata": {
        "id": "dfRCb0X0tAlI"
      },
      "execution_count": 16,
      "outputs": []
    },
    {
      "cell_type": "code",
      "source": [
        "df_train['Post Processing'] = df_train['Post Processing'].astype('category')\n",
        "df_train['Post Processing'] = df_train['Post Processing'].cat.codes\n",
        "df_test['Post Processing'] = df_test['Post Processing'].astype('category')\n",
        "df_test['Post Processing'] = df_test['Post Processing'].cat.codes\n",
        "df_train['Built Orientation'] = df_train['Built Orientation'].astype('category')\n",
        "df_train['Built Orientation'] = df_train['Built Orientation'].cat.codes\n",
        "df_test['Built Orientation'] = df_test['Built Orientation'].astype('category')\n",
        "df_test['Built Orientation'] = df_test['Built Orientation'].cat.codes"
      ],
      "metadata": {
        "id": "bT0aDyCT83kJ"
      },
      "execution_count": 17,
      "outputs": []
    },
    {
      "cell_type": "code",
      "source": [
        "from sklearn.preprocessing import StandardScaler\n",
        "scaler = StandardScaler()\n",
        "df_train[['SIF','Crack Growth Rate']] =scaler.fit_transform(df_train[['SIF','Crack Growth Rate']])\n",
        "df_test[['SIF','Crack Growth Rate']] = scaler.transform(df_test[['SIF','Crack Growth Rate']])"
      ],
      "metadata": {
        "id": "6Zzx99wl83nV"
      },
      "execution_count": 18,
      "outputs": []
    },
    {
      "cell_type": "code",
      "source": [
        "df_final = df_train.append(df_test)"
      ],
      "metadata": {
        "id": "0SnOj6R083su"
      },
      "execution_count": 19,
      "outputs": []
    },
    {
      "cell_type": "code",
      "source": [
        "y_train = df_train['Crack Growth Rate']\n",
        "x_train = df_train[['Post Processing','Built Orientation','SIF']]\n",
        "y_test = df_test['Crack Growth Rate']\n",
        "x_test = df_test[['Post Processing','Built Orientation','SIF']]"
      ],
      "metadata": {
        "id": "a7Sn9CVJ83vM"
      },
      "execution_count": 20,
      "outputs": []
    },
    {
      "cell_type": "code",
      "source": [
        "R2_scores = []\n",
        "mse = []\n",
        "mae = []"
      ],
      "metadata": {
        "id": "2ZvjeN_k9pEM"
      },
      "execution_count": 21,
      "outputs": []
    },
    {
      "cell_type": "markdown",
      "source": [
        "### **MODEL**"
      ],
      "metadata": {
        "id": "9tHKltR5GNee"
      }
    },
    {
      "cell_type": "code",
      "source": [
        "from keras.models import Sequential, Model\n",
        "from keras.layers import Dense, Input\n",
        "from sklearn.model_selection import GridSearchCV\n",
        "from keras.wrappers.scikit_learn import KerasRegressor\n",
        "from keras.callbacks import EarlyStopping\n",
        "def ANN(optimizer = 'adam',neurons=32,batch_size=32,epochs=50,activation='relu',patience=5,loss='mse'):\n",
        "    model = Sequential()\n",
        "    model.add(Dense(neurons, input_shape=(x_train.shape[1],), activation=activation))\n",
        "    model.add(Dense(neurons, activation=activation))\n",
        "    model.add(Dense(1))\n",
        "    model.compile(optimizer = optimizer, loss=loss)\n",
        "    early_stopping = EarlyStopping(monitor=\"loss\", patience = patience)# early stop patience\n",
        "    history = model.fit(x_train, y_train,\n",
        "              batch_size=batch_size,\n",
        "              epochs=epochs,\n",
        "              callbacks = [early_stopping],\n",
        "              verbose=0) #verbose set to 1 will show the training process\n",
        "    return model"
      ],
      "metadata": {
        "id": "NCIYnt4Elnnd"
      },
      "execution_count": 22,
      "outputs": []
    },
    {
      "cell_type": "code",
      "source": [
        "\n",
        "from sklearn.metrics import classification_report,confusion_matrix,accuracy_score\n",
        "from sklearn.neighbors import KNeighborsClassifier,KNeighborsRegressor\n",
        "from sklearn.svm import SVC,SVR\n",
        "from sklearn import datasets\n",
        "import scipy.stats as stats\n",
        "from sklearn.model_selection import train_test_split\n",
        "from sklearn.metrics import explained_variance_score, r2_score, mean_squared_error, mean_absolute_error"
      ],
      "metadata": {
        "id": "9Osgq5jug36F"
      },
      "execution_count": 23,
      "outputs": []
    },
    {
      "cell_type": "code",
      "source": [
        "#Bagging Regressor\n",
        "from sklearn.ensemble import BaggingRegressor\n",
        "br = BaggingRegressor()\n",
        "br.fit(x_train,y_train)\n",
        "print('Test r2_score',r2_score(y_test,br.predict(x_test)))\n",
        "print('Train r2 Score',r2_score(y_train,br.predict(x_train)))"
      ],
      "metadata": {
        "id": "i8shCmLZ830v",
        "colab": {
          "base_uri": "https://localhost:8080/"
        },
        "outputId": "00158ffc-a50e-466b-8a7b-8af5f10aba69"
      },
      "execution_count": 62,
      "outputs": [
        {
          "output_type": "stream",
          "name": "stdout",
          "text": [
            "Test r2_score 0.8116811097279575\n",
            "Train r2 Score 0.8312659631709777\n"
          ]
        }
      ]
    },
    {
      "cell_type": "code",
      "source": [
        "#SVR\n",
        "from sklearn.svm import SVR,LinearSVR\n",
        "svr=SVR()\n",
        "svr.fit(x_train,y_train)\n",
        "print('Test r2_score',r2_score(y_test,svr.predict(x_test)))\n",
        "print('Train r2 Score',r2_score(y_train,svr.predict(x_train)))"
      ],
      "metadata": {
        "id": "ymWg8oLzeyfU",
        "outputId": "d077c828-45b1-40f6-86b6-79f78d438a93",
        "colab": {
          "base_uri": "https://localhost:8080/"
        }
      },
      "execution_count": 71,
      "outputs": [
        {
          "output_type": "stream",
          "name": "stdout",
          "text": [
            "Test r2_score 0.6430315968815515\n",
            "Train r2 Score 0.3077949990569787\n"
          ]
        }
      ]
    },
    {
      "cell_type": "code",
      "source": [
        "#Random Forest\n",
        "from sklearn.ensemble import RandomForestRegressor\n",
        "rf = RandomForestRegressor()\n",
        "rf.fit(x_train,y_train)\n",
        "print('Test r2_score',r2_score(y_test,rf.predict(x_test)))\n",
        "print('Train r2 Score',r2_score(y_train,rf.predict(x_train)))"
      ],
      "metadata": {
        "id": "kk6a23K6iZjY",
        "outputId": "71f52a8f-4010-476f-ebb9-5814a0a600ef",
        "colab": {
          "base_uri": "https://localhost:8080/"
        }
      },
      "execution_count": 79,
      "outputs": [
        {
          "output_type": "stream",
          "name": "stdout",
          "text": [
            "Test r2_score 0.7781297662854191\n",
            "Train r2 Score 0.8573703185216024\n"
          ]
        }
      ]
    },
    {
      "cell_type": "code",
      "source": [
        "#KNN\n",
        "knn = KNeighborsRegressor()\n",
        "knn.fit(x_train,y_train)\n",
        "print('Test r2_score',r2_score(y_test,knn.predict(x_test)))\n",
        "print('Train r2 Score',r2_score(y_train,knn.predict(x_train)))"
      ],
      "metadata": {
        "id": "gpXATmA4lnkr",
        "outputId": "e66b4d95-7caf-4bb2-a69f-4474d2849bc1",
        "colab": {
          "base_uri": "https://localhost:8080/"
        }
      },
      "execution_count": 80,
      "outputs": [
        {
          "output_type": "stream",
          "name": "stdout",
          "text": [
            "Test r2_score 0.7661799586340904\n",
            "Train r2 Score 0.45413462301285124\n"
          ]
        }
      ]
    },
    {
      "cell_type": "code",
      "source": [
        "#ANN\n",
        "ann = KerasRegressor(build_fn=ANN, verbose=0)\n",
        "ann.fit(x_train,y_train)\n",
        "print('Test r2_score',r2_score(y_test,ann.predict(x_test)))\n",
        "print('Train r2 Score',r2_score(y_train,ann.predict(x_train)))"
      ],
      "metadata": {
        "id": "GUlBEukAlnqW",
        "outputId": "b4d8930a-c577-4613-b4ab-2c35b5dd45ae",
        "colab": {
          "base_uri": "https://localhost:8080/"
        }
      },
      "execution_count": 100,
      "outputs": [
        {
          "output_type": "stream",
          "name": "stderr",
          "text": [
            "<ipython-input-100-96d0b7d6cbba>:2: DeprecationWarning: KerasRegressor is deprecated, use Sci-Keras (https://github.com/adriangb/scikeras) instead. See https://www.adriangb.com/scikeras/stable/migration.html for help migrating.\n",
            "  ann = KerasRegressor(build_fn=ANN, verbose=0)\n"
          ]
        },
        {
          "output_type": "stream",
          "name": "stdout",
          "text": [
            "Test r2_score 0.6836398605182954\n",
            "Train r2 Score 0.4063803488952774\n"
          ]
        }
      ]
    },
    {
      "cell_type": "code",
      "source": [
        "#Gradient Boosting\n",
        "from sklearn.ensemble import GradientBoostingRegressor\n",
        "gbr = GradientBoostingRegressor(n_estimators=100, max_depth=3, loss='ls')\n",
        "gbr.fit(x_train, y_train)\n",
        "print('Test r2_score',r2_score(y_test,gbr.predict(x_test)))\n",
        "print('Train r2 Score',r2_score(y_train,gbr.predict(x_train)))"
      ],
      "metadata": {
        "id": "KYJtnO6y0JDJ",
        "colab": {
          "base_uri": "https://localhost:8080/"
        },
        "outputId": "978c1f1a-ba9e-493a-9cbc-17d49a5ed2eb"
      },
      "execution_count": 102,
      "outputs": [
        {
          "output_type": "stream",
          "name": "stdout",
          "text": [
            "Test r2_score 0.8662362153770078\n",
            "Train r2 Score 0.9285795924450767\n"
          ]
        },
        {
          "output_type": "stream",
          "name": "stderr",
          "text": [
            "/usr/local/lib/python3.8/dist-packages/sklearn/ensemble/_gb.py:286: FutureWarning: The loss 'ls' was deprecated in v1.0 and will be removed in version 1.2. Use 'squared_error' which is equivalent.\n",
            "  warnings.warn(\n"
          ]
        }
      ]
    },
    {
      "cell_type": "code",
      "source": [
        "#XGBoosting\n",
        "import xgboost as xgb\n",
        "from sklearn.model_selection import train_test_split\n",
        "from sklearn.metrics import explained_variance_score, r2_score, mean_squared_error, mean_absolute_error\n",
        "xgb = xgb.XGBRegressor()\n",
        "xgb.fit(x_train,y_train)\n",
        "print('Test r2_score',r2_score(y_test,xgb.predict(x_test)))\n",
        "print('Train r2 Score',r2_score(y_train,xgb.predict(x_train)))"
      ],
      "metadata": {
        "colab": {
          "base_uri": "https://localhost:8080/"
        },
        "id": "zXrNrS69GiPo",
        "outputId": "f37bf905-4660-44ae-d4e2-341a7d82c65c"
      },
      "execution_count": 103,
      "outputs": [
        {
          "output_type": "stream",
          "name": "stdout",
          "text": [
            "[17:00:37] WARNING: /workspace/src/objective/regression_obj.cu:152: reg:linear is now deprecated in favor of reg:squarederror.\n",
            "Test r2_score 0.8437959825929984\n",
            "Train r2 Score 0.8839847702924325\n"
          ]
        }
      ]
    },
    {
      "cell_type": "code",
      "source": [
        "#Decision Trees\n",
        "from sklearn.tree import DecisionTreeRegressor\n",
        "dt = DecisionTreeRegressor(max_depth = 6)\n",
        "dt.fit(x_train,y_train)\n",
        "print('Test r2_score',r2_score(y_test,dt.predict(x_test)))\n",
        "print('Train r2 Score',r2_score(y_train,dt.predict(x_train)))\n",
        "     "
      ],
      "metadata": {
        "id": "Pe7XQeCA0JGA",
        "colab": {
          "base_uri": "https://localhost:8080/"
        },
        "outputId": "e530e413-6287-4fb8-c470-c0c7998f9122"
      },
      "execution_count": 104,
      "outputs": [
        {
          "output_type": "stream",
          "name": "stdout",
          "text": [
            "Test r2_score 0.7656317750013278\n",
            "Train r2 Score 0.8158043154020489\n"
          ]
        }
      ]
    },
    {
      "cell_type": "code",
      "source": [
        "R2_scores.append(r2_score(y_test,svr.predict(x_test)))\n",
        "mse.append(mean_squared_error(y_test,svr.predict(x_test)))\n",
        "mae.append(mean_absolute_error(y_test,svr.predict(x_test)))\n",
        "R2_scores.append(r2_score(y_test,ann.predict(x_test)))\n",
        "mse.append(mean_squared_error(y_test,ann.predict(x_test)))\n",
        "mae.append(mean_absolute_error(y_test,ann.predict(x_test)))\n",
        "R2_scores.append(r2_score(y_test,dt.predict(x_test)))\n",
        "mse.append(mean_squared_error(y_test,dt.predict(x_test)))\n",
        "mae.append(mean_absolute_error(y_test,dt.predict(x_test)))\n",
        "R2_scores.append(r2_score(y_test,knn.predict(x_test)))\n",
        "mse.append(mean_squared_error(y_test,knn.predict(x_test)))\n",
        "mae.append(mean_absolute_error(y_test,knn.predict(x_test)))\n",
        "R2_scores.append(r2_score(y_test,rf.predict(x_test)))\n",
        "mse.append(mean_squared_error(y_test,rf.predict(x_test)))\n",
        "mae.append(mean_absolute_error(y_test,rf.predict(x_test)))\n",
        "R2_scores.append(r2_score(y_test,br.predict(x_test)))\n",
        "mse.append(mean_squared_error(y_test,br.predict(x_test)))\n",
        "mae.append(mean_absolute_error(y_test,br.predict(x_test)))\n",
        "R2_scores.append(r2_score(y_test,xgb.predict(x_test)))\n",
        "mse.append(mean_squared_error(y_test,xgb.predict(x_test)))\n",
        "mae.append(mean_absolute_error(y_test,xgb.predict(x_test)))\n",
        "R2_scores.append(r2_score(y_test,gbr.predict(x_test)))\n",
        "mse.append(mean_squared_error(y_test,gbr.predict(x_test)))\n",
        "mae.append(mean_absolute_error(y_test,gbr.predict(x_test)))\n"
      ],
      "metadata": {
        "id": "oOqG3BnaJ01H"
      },
      "execution_count": 105,
      "outputs": []
    },
    {
      "cell_type": "code",
      "source": [
        "R2_scores"
      ],
      "metadata": {
        "colab": {
          "base_uri": "https://localhost:8080/"
        },
        "id": "GgaFooZJIyjs",
        "outputId": "7e30c0e5-549d-4978-e18b-5d699034b45d"
      },
      "execution_count": 106,
      "outputs": [
        {
          "output_type": "execute_result",
          "data": {
            "text/plain": [
              "[0.6430315968815515,\n",
              " 0.6836398605182954,\n",
              " 0.7656317750013278,\n",
              " 0.7661799586340904,\n",
              " 0.7781297662854191,\n",
              " 0.8116811097279575,\n",
              " 0.8437959825929984,\n",
              " 0.8662362153770078]"
            ]
          },
          "metadata": {},
          "execution_count": 106
        }
      ]
    },
    {
      "cell_type": "code",
      "source": [
        "np.savetxt('R2_scores.txt',R2_scores)"
      ],
      "metadata": {
        "id": "PtKPYQEkPBLa"
      },
      "execution_count": 114,
      "outputs": []
    },
    {
      "cell_type": "code",
      "source": [
        "mse"
      ],
      "metadata": {
        "colab": {
          "base_uri": "https://localhost:8080/"
        },
        "id": "hUGfs-XGIynS",
        "outputId": "c8f1f93a-4e95-4757-aa2d-fe329c8c0751"
      },
      "execution_count": 107,
      "outputs": [
        {
          "output_type": "execute_result",
          "data": {
            "text/plain": [
              "[0.17916874440469271,\n",
              " 0.15878673987798977,\n",
              " 0.11763355029334373,\n",
              " 0.1173584072489531,\n",
              " 0.11136058779473178,\n",
              " 0.09452057611533515,\n",
              " 0.07840155438209671,\n",
              " 0.06713840532762455]"
            ]
          },
          "metadata": {},
          "execution_count": 107
        }
      ]
    },
    {
      "cell_type": "code",
      "source": [
        "np.savetxt('mse.txt',mse)"
      ],
      "metadata": {
        "id": "rpDlhDVKP3VP"
      },
      "execution_count": 115,
      "outputs": []
    },
    {
      "cell_type": "code",
      "source": [
        "mae"
      ],
      "metadata": {
        "colab": {
          "base_uri": "https://localhost:8080/"
        },
        "id": "iQyjBVFZIyqr",
        "outputId": "fce80f89-f79a-4b49-e299-9c405edef72c"
      },
      "execution_count": 108,
      "outputs": [
        {
          "output_type": "execute_result",
          "data": {
            "text/plain": [
              "[0.20762057916151286,\n",
              " 0.25322113271789304,\n",
              " 0.17663536617896228,\n",
              " 0.1829361711907542,\n",
              " 0.16104015887834328,\n",
              " 0.16753709408604062,\n",
              " 0.15294624192589806,\n",
              " 0.12824071079321592]"
            ]
          },
          "metadata": {},
          "execution_count": 108
        }
      ]
    },
    {
      "cell_type": "code",
      "source": [
        "np.savetxt('mae.txt',mae)"
      ],
      "metadata": {
        "id": "lUY03WWFP38M"
      },
      "execution_count": 116,
      "outputs": []
    },
    {
      "cell_type": "code",
      "source": [
        "metrics = pd.DataFrame({'Algorithms' : ['SVR','ANN','DT','KNN','RF','BR','XGB','GBR'],\n",
        "    'R2_Scores' : R2_scores,\n",
        "                        'mse' :mse,\n",
        "                        'mae': mae})"
      ],
      "metadata": {
        "id": "85fj93tuIyvF"
      },
      "execution_count": 111,
      "outputs": []
    },
    {
      "cell_type": "code",
      "source": [
        "metrics1 = metrics.sort_values(by = 'R2_Scores', ascending = False)"
      ],
      "metadata": {
        "id": "k_tpLWR7Iyyv"
      },
      "execution_count": 112,
      "outputs": []
    },
    {
      "cell_type": "code",
      "source": [
        "sns.lineplot(data = metrics1, x = 'Algorithms', y = 'R2_Scores',color = 'r', label = 'R2 Scores')\n",
        "sns.lineplot(data = metrics1, x = 'Algorithms', y = 'mse',color = 'b', label = 'Mean Squared Error')\n",
        "sns.lineplot(data = metrics1, x = 'Algorithms', y = 'mae',color = 'g', label = 'Mean Absolute Error')\n",
        "plt.legend()"
      ],
      "metadata": {
        "colab": {
          "base_uri": "https://localhost:8080/",
          "height": 303
        },
        "id": "8gRJWRaOIy1m",
        "outputId": "ccb9cd59-f1cb-4f19-b56d-0c8a5a55d845"
      },
      "execution_count": 113,
      "outputs": [
        {
          "output_type": "execute_result",
          "data": {
            "text/plain": [
              "<matplotlib.legend.Legend at 0x7fa2f61154f0>"
            ]
          },
          "metadata": {},
          "execution_count": 113
        },
        {
          "output_type": "display_data",
          "data": {
            "text/plain": [
              "<Figure size 432x288 with 1 Axes>"
            ],
            "image/png": "[encoded data removed]"
          },
          "metadata": {
            "needs_background": "light"
          }
        }
      ]
    },
    {
      "cell_type": "code",
      "source": [
        "metrics1 = pd.read_excel('R2_scores.xlsx')\n",
        "plt.figure(figsize=(10,6), tight_layout=True)\n",
        "lineplot = sns.lineplot(data = metrics1, x = 'Model', y = 'R2',color = 'r', label = 'R2 Scores')\n",
        "sns.plot(lineplot, 'o-', linewidth=2)\n",
        "#customization\n",
        "\n",
        "plt.xlabel('Machine Learning Algorithms')\n",
        "plt.ylabel('R2 Scores')\n",
        "\n",
        "plt.show()"
      ],
      "metadata": {
        "colab": {
          "base_uri": "https://localhost:8080/",
          "height": 656
        },
        "id": "eGG5lZrGIy72",
        "outputId": "ee8b15fd-f91e-4c85-f0bc-1f2b8d1ec485"
      },
      "execution_count": 123,
      "outputs": [
        {
          "output_type": "error",
          "ename": "AttributeError",
          "evalue": "ignored",
          "traceback": [
            "\u001b[0;31m---------------------------------------------------------------------------\u001b[0m",
            "\u001b[0;31mAttributeError\u001b[0m                            Traceback (most recent call last)",
            "\u001b[0;32m<ipython-input-123-980b937294ee>\u001b[0m in \u001b[0;36m<module>\u001b[0;34m\u001b[0m\n\u001b[1;32m      2\u001b[0m \u001b[0mplt\u001b[0m\u001b[0;34m.\u001b[0m\u001b[0mfigure\u001b[0m\u001b[0;34m(\u001b[0m\u001b[0mfigsize\u001b[0m\u001b[0;34m=\u001b[0m\u001b[0;34m(\u001b[0m\u001b[0;36m10\u001b[0m\u001b[0;34m,\u001b[0m\u001b[0;36m6\u001b[0m\u001b[0;34m)\u001b[0m\u001b[0;34m,\u001b[0m \u001b[0mtight_layout\u001b[0m\u001b[0;34m=\u001b[0m\u001b[0;32mTrue\u001b[0m\u001b[0;34m)\u001b[0m\u001b[0;34m\u001b[0m\u001b[0;34m\u001b[0m\u001b[0m\n\u001b[1;32m      3\u001b[0m \u001b[0mlineplot\u001b[0m \u001b[0;34m=\u001b[0m \u001b[0msns\u001b[0m\u001b[0;34m.\u001b[0m\u001b[0mlineplot\u001b[0m\u001b[0;34m(\u001b[0m\u001b[0mdata\u001b[0m \u001b[0;34m=\u001b[0m \u001b[0mmetrics1\u001b[0m\u001b[0;34m,\u001b[0m \u001b[0mx\u001b[0m \u001b[0;34m=\u001b[0m \u001b[0;34m'Model'\u001b[0m\u001b[0;34m,\u001b[0m \u001b[0my\u001b[0m \u001b[0;34m=\u001b[0m \u001b[0;34m'R2'\u001b[0m\u001b[0;34m,\u001b[0m\u001b[0mcolor\u001b[0m \u001b[0;34m=\u001b[0m \u001b[0;34m'r'\u001b[0m\u001b[0;34m,\u001b[0m \u001b[0mlabel\u001b[0m \u001b[0;34m=\u001b[0m \u001b[0;34m'R2 Scores'\u001b[0m\u001b[0;34m)\u001b[0m\u001b[0;34m\u001b[0m\u001b[0;34m\u001b[0m\u001b[0m\n\u001b[0;32m----> 4\u001b[0;31m \u001b[0msns\u001b[0m\u001b[0;34m.\u001b[0m\u001b[0mplot\u001b[0m\u001b[0;34m(\u001b[0m\u001b[0mlineplot\u001b[0m\u001b[0;34m,\u001b[0m \u001b[0;34m'o-'\u001b[0m\u001b[0;34m,\u001b[0m \u001b[0mlinewidth\u001b[0m\u001b[0;34m=\u001b[0m\u001b[0;36m2\u001b[0m\u001b[0;34m)\u001b[0m\u001b[0;34m\u001b[0m\u001b[0;34m\u001b[0m\u001b[0m\n\u001b[0m\u001b[1;32m      5\u001b[0m \u001b[0;31m#customization\u001b[0m\u001b[0;34m\u001b[0m\u001b[0;34m\u001b[0m\u001b[0;34m\u001b[0m\u001b[0m\n\u001b[1;32m      6\u001b[0m \u001b[0;34m\u001b[0m\u001b[0m\n",
            "\u001b[0;31mAttributeError\u001b[0m: module 'seaborn' has no attribute 'plot'"
          ]
        },
        {
          "output_type": "display_data",
          "data": {
            "text/plain": [
              "<Figure size 720x432 with 1 Axes>"
            ],
            "image/png": "[encoded data removed]"
          },
          "metadata": {
            "needs_background": "light"
          }
        }
      ]
    },
    {
      "cell_type": "code",
      "source": [
        "import matplotlib.pyplot as plt\n",
        "R2_scores = pd.read_excel('R2_scores.xlsx')\n",
        "M0 = R2_scores.iloc[:, -2].values\n",
        "R2 = R2_scores.iloc[:, -1].values\n",
        "\n",
        "f = plt.figure()\n",
        "f.set_figwidth(10)\n",
        "f.set_figheight(6)\n",
        "\n",
        "\n",
        "plt.xlabel('Machine Learning Algorithms')\n",
        "plt.ylabel('R2 Scores')\n",
        "plt.savefig(\"R2_Scores.png\", format=\"png\", dpi=600)\n",
        "plt.plot(R2, M0, marker = \"o\", markersize=8, linestyle='dashed', linewidth=2.3 )"
      ],
      "metadata": {
        "colab": {
          "base_uri": "https://localhost:8080/",
          "height": 412
        },
        "id": "PAvNq3sYVrOT",
        "outputId": "b7ba808b-3cce-499a-f51c-777421b521e0"
      },
      "execution_count": 193,
      "outputs": [
        {
          "output_type": "execute_result",
          "data": {
            "text/plain": [
              "[<matplotlib.lines.Line2D at 0x7fa301edc8b0>]"
            ]
          },
          "metadata": {},
          "execution_count": 193
        },
        {
          "output_type": "display_data",
          "data": {
            "text/plain": [
              "<Figure size 720x432 with 1 Axes>"
            ],
            "image/png": "[encoded data removed]"
          },
          "metadata": {
            "needs_background": "light"
          }
        }
      ]
    },
    {
      "cell_type": "code",
      "source": [
        "MSE = pd.read_excel('mse.xlsx')\n",
        "M1 = MSE.iloc[:, -2].values\n",
        "MSE = MSE.iloc[:, -1].values\n",
        "\n",
        "f = plt.figure()\n",
        "f.set_figwidth(10)\n",
        "f.set_figheight(6)\n",
        "\n",
        "plt.xlabel('Machine Learning Algorithms')\n",
        "plt.ylabel('MSE')\n",
        "plt.savefig(\"MSE.png\", format=\"png\", dpi=600)\n",
        "plt.plot(MSE, M1, marker = \"o\", markersize=8, linestyle='dashed', linewidth=2.3)"
      ],
      "metadata": {
        "id": "E_hJHi5E0JJR",
        "colab": {
          "base_uri": "https://localhost:8080/",
          "height": 412
        },
        "outputId": "27d8b690-ac81-44a2-f1c0-15715770e9ab"
      },
      "execution_count": 194,
      "outputs": [
        {
          "output_type": "execute_result",
          "data": {
            "text/plain": [
              "[<matplotlib.lines.Line2D at 0x7fa3035f9370>]"
            ]
          },
          "metadata": {},
          "execution_count": 194
        },
        {
          "output_type": "display_data",
          "data": {
            "text/plain": [
              "<Figure size 720x432 with 1 Axes>"
            ],
            "image/png": "[encoded data removed]"
          },
          "metadata": {
            "needs_background": "light"
          }
        }
      ]
    },
    {
      "cell_type": "code",
      "source": [
        "\n",
        "MAE = pd.read_excel('mae.xlsx')\n",
        "M2 = MAE.iloc[:, -2].values\n",
        "MAE = MAE.iloc[:, -1].values\n",
        "\n",
        "f = plt.figure()\n",
        "f.set_figwidth(10)\n",
        "f.set_figheight(6)\n",
        "\n",
        "plt.xlabel('Machine Learning Algorithms')\n",
        "plt.ylabel('MAE')\n",
        "plt.savefig(\"MAE.png\", format=\"png\", dpi=600)\n",
        "plt.plot(MAE, M2, marker = \"o\", markersize=8, linestyle='dashed', linewidth=2.3 )"
      ],
      "metadata": {
        "colab": {
          "base_uri": "https://localhost:8080/",
          "height": 412
        },
        "id": "6yIMvgDyZcCH",
        "outputId": "81acc78a-7056-4c85-c5ce-e4b52462b162"
      },
      "execution_count": 195,
      "outputs": [
        {
          "output_type": "execute_result",
          "data": {
            "text/plain": [
              "[<matplotlib.lines.Line2D at 0x7fa2f57ba0a0>]"
            ]
          },
          "metadata": {},
          "execution_count": 195
        },
        {
          "output_type": "display_data",
          "data": {
            "text/plain": [
              "<Figure size 720x432 with 1 Axes>"
            ],
            "image/png": "[encoded data removed]"
          },
          "metadata": {
            "needs_background": "light"
          }
        }
      ]
    },
    {
      "cell_type": "code",
      "source": [
        "Data = pd.read_excel('R2.xlsx')\n",
        "Model = Data.iloc[:, -1].values\n",
        "MAE = Data.iloc[:, -2].values\n",
        "MSE = Data.iloc[:, -3].values\n",
        "R2 = Data.iloc[:, -4].values\n",
        "\n",
        "f = plt.figure()\n",
        "f.set_figwidth(10)\n",
        "f.set_figheight(8)\n",
        "\n",
        "plt.xlabel('Machine Learning Algorithms')\n",
        "plt.ylabel('R2 Scores')\n",
        "plt.savefig(\"Final_Results2.png\", format=\"png\", dpi=600)\n",
        "plt.plot(Model, R2, marker = \"o\", linestyle='dashed', linewidth=2 )\n",
        "plt.plot(Model, MAE, marker = \"o\", linestyle='dashed', linewidth=2 , color= 'forestgreen' )\n",
        "plt.plot(Model, MSE, marker = \"o\", linestyle='dashed', linewidth=2 , color= 'tomato')"
      ],
      "metadata": {
        "colab": {
          "base_uri": "https://localhost:8080/",
          "height": 523
        },
        "id": "uJWxeY2ha-w6",
        "outputId": "f50ae158-6c56-4d88-d547-4c55889e501e"
      },
      "execution_count": 199,
      "outputs": [
        {
          "output_type": "execute_result",
          "data": {
            "text/plain": [
              "[<matplotlib.lines.Line2D at 0x7fa2f55beb80>]"
            ]
          },
          "metadata": {},
          "execution_count": 199
        },
        {
          "output_type": "display_data",
          "data": {
            "text/plain": [
              "<Figure size 720x576 with 1 Axes>"
            ],
            "image/png": "[encoded data removed]"
          },
          "metadata": {
            "needs_background": "light"
          }
        }
      ]
    },
    {
      "cell_type": "code",
      "source": [
        "Data = pd.read_excel('R2.xlsx')\n",
        "Model = Data.iloc[:, -1].values\n",
        "MAE = Data.iloc[:, -2].values\n",
        "MSE = Data.iloc[:, -3].values\n",
        "R2 = Data.iloc[:, -4].values\n",
        "\n",
        "f = plt.figure()\n",
        "f.set_figwidth(10)\n",
        "f.set_figheight(6)\n",
        "\n",
        "plt.xlabel('Machine Learning Algorithms')\n",
        "plt.ylabel('Errors')\n",
        "plt.savefig(\"MAE&MSE.png\", format=\"png\", dpi=600)\n",
        "plt.plot(Model, MAE, marker = \"o\", markersize=8, linestyle='dashed', linewidth=2.3 , color= 'mediumseagreen' )\n",
        "plt.plot(Model, MSE, marker = \"o\", markersize=8, linestyle='dashed', linewidth=2.3 , color= 'lightcoral')"
      ],
      "metadata": {
        "colab": {
          "base_uri": "https://localhost:8080/",
          "height": 412
        },
        "id": "Ard4Fcjiglew",
        "outputId": "9d94fe82-024f-491c-8006-a92ec43bba16"
      },
      "execution_count": 200,
      "outputs": [
        {
          "output_type": "execute_result",
          "data": {
            "text/plain": [
              "[<matplotlib.lines.Line2D at 0x7fa2f5532e50>]"
            ]
          },
          "metadata": {},
          "execution_count": 200
        },
        {
          "output_type": "display_data",
          "data": {
            "text/plain": [
              "<Figure size 720x432 with 1 Axes>"
            ],
            "image/png": "[encoded data removed]"
          },
          "metadata": {
            "needs_background": "light"
          }
        }
      ]
    },
    {
      "cell_type": "code",
      "source": [
        "\n",
        "# gb = gbr.predict(df_final[['Post Processing','Built Orientation','SIF']])\n",
        "# gb"
      ],
      "metadata": {
        "id": "_2p0fF2A8333"
      },
      "execution_count": 33,
      "outputs": []
    },
    {
      "cell_type": "code",
      "source": [
        "\n",
        "# gbr_list = list(gb)"
      ],
      "metadata": {
        "id": "WXrm_UnD836u"
      },
      "execution_count": 34,
      "outputs": []
    },
    {
      "cell_type": "code",
      "source": [
        "# df_final['Pred'] = gbr_list"
      ],
      "metadata": {
        "id": "YVD6bryB83-V"
      },
      "execution_count": 35,
      "outputs": []
    },
    {
      "cell_type": "code",
      "source": [
        "# df_0_0 = df_final[(df_final['Post Processing'] == 0) & (df_final['Built Orientation'] == 0)]\n",
        "# sns.regplot(df_0_0['SIF'],df_0_0['Crack Growth Rate'],color = 'b',label = 'Actual')\n",
        "# sns.regplot(df_0_0['SIF'],df_0_0['Pred'],color = 'r',label = 'Predicted')\n",
        "# plt.legend()"
      ],
      "metadata": {
        "id": "n4sNai9K84Ag"
      },
      "execution_count": 36,
      "outputs": []
    },
    {
      "cell_type": "code",
      "source": [
        "# df_0_0 = df_final[(df_final['Post Processing'] == 0) & (df_final['Built Orientation'] == 1)]\n",
        "# sns.regplot(df_0_0['SIF'],df_0_0['Crack Growth Rate'],color = 'b',label = 'Actual')\n",
        "# sns.regplot(df_0_0['SIF'],df_0_0['Pred'],color = 'r',label = 'Predicted')\n",
        "# plt.legend()"
      ],
      "metadata": {
        "id": "TrZD_Xoe84DT"
      },
      "execution_count": 37,
      "outputs": []
    },
    {
      "cell_type": "code",
      "source": [
        "\n",
        "# df_0_0 = df_final[(df_final['Post Processing'] == 0) & (df_final['Built Orientation'] == 2)]\n",
        "# sns.regplot(df_0_0['SIF'],df_0_0['Crack Growth Rate'],color = 'b',label = 'Actual')\n",
        "# sns.regplot(df_0_0['SIF'],df_0_0['Pred'],color = 'r',label = 'Predicted')\n",
        "# plt.legend()"
      ],
      "metadata": {
        "id": "-BbB_arC84GM"
      },
      "execution_count": 38,
      "outputs": []
    },
    {
      "cell_type": "code",
      "source": [
        "# df_0_0 = df_final[(df_final['Post Processing'] == 1) & (df_final['Built Orientation'] == 0)]\n",
        "# sns.regplot(df_0_0['SIF'],df_0_0['Crack Growth Rate'],color = 'b',label = 'Actual')\n",
        "# sns.regplot(df_0_0['SIF'],df_0_0['Pred'],color = 'r',label = 'Predicted')\n",
        "# plt.legend()"
      ],
      "metadata": {
        "id": "5HE2dOJt84JM"
      },
      "execution_count": 39,
      "outputs": []
    },
    {
      "cell_type": "code",
      "source": [
        "# df_0_0 = df_final[(df_final['Post Processing'] == 1) & (df_final['Built Orientation'] == 1)]\n",
        "# sns.regplot(df_0_0['SIF'],df_0_0['Crack Growth Rate'],color = 'b',label = 'Actual')\n",
        "# sns.regplot(df_0_0['SIF'],df_0_0['Pred'],color = 'r',label = 'Predicted')\n",
        "# plt.legend()\n",
        "     "
      ],
      "metadata": {
        "id": "23iql69j84M9"
      },
      "execution_count": 40,
      "outputs": []
    },
    {
      "cell_type": "code",
      "source": [
        "\n",
        "# df_0_0 = df_final[(df_final['Post Processing'] == 1) & (df_final['Built Orientation'] == 2)]\n",
        "# sns.regplot(df_0_0['SIF'],df_0_0['Crack Growth Rate'],color = 'b',label = 'Actual')\n",
        "# sns.regplot(df_0_0['SIF'],df_0_0['Pred'],color = 'r',label = 'Predicted')\n",
        "# plt.legend()\n",
        "     "
      ],
      "metadata": {
        "id": "PDhGax7_84Pd"
      },
      "execution_count": 41,
      "outputs": []
    },
    {
      "cell_type": "code",
      "source": [
        "\n",
        "# df_0_0 = df_final[(df_final['Post Processing'] == 2) & (df_final['Built Orientation'] == 0)]\n",
        "# sns.regplot(df_0_0['SIF'],df_0_0['Crack Growth Rate'],color = 'b',label = 'Actual')\n",
        "# sns.regplot(df_0_0['SIF'],df_0_0['Pred'],color = 'r',label = 'Predicted')\n",
        "# plt.legend()"
      ],
      "metadata": {
        "id": "UbnrRpn-84R7"
      },
      "execution_count": 42,
      "outputs": []
    },
    {
      "cell_type": "code",
      "source": [
        "# df_0_0 = df_final[(df_final['Post Processing'] == 2) & (df_final['Built Orientation'] == 1)]\n",
        "# sns.regplot(df_0_0['SIF'],df_0_0['Crack Growth Rate'],color = 'b',label = 'Actual')\n",
        "# sns.regplot(df_0_0['SIF'],df_0_0['Pred'],color = 'r',label = 'Predicted')\n",
        "# plt.legend()"
      ],
      "metadata": {
        "id": "iGeLc3uh84U5"
      },
      "execution_count": 43,
      "outputs": []
    },
    {
      "cell_type": "code",
      "source": [
        "# df_0_0 = df_final[(df_final['Post Processing'] == 2) & (df_final['Built Orientation'] == 2)]\n",
        "# sns.regplot(df_0_0['SIF'],df_0_0['Crack Growth Rate'],color = 'b',label = 'Actual')\n",
        "# sns.regplot(df_0_0['SIF'],df_0_0['Pred'],color = 'r',label = 'Predicted')\n",
        "# plt.legend()"
      ],
      "metadata": {
        "id": "IWoT6OaQ84XX"
      },
      "execution_count": 44,
      "outputs": []
    },
    {
      "cell_type": "code",
      "source": [],
      "metadata": {
        "id": "VPD5uBHX84Z-"
      },
      "execution_count": 44,
      "outputs": []
    }
  ]
}