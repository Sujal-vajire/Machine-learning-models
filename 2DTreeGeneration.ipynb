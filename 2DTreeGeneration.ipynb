{
  "nbformat": 4,
  "nbformat_minor": 0,
  "metadata": {
    "colab": {
      "provenance": [],
      "authorship_tag": "ABX9TyOOKiUb3jSzJfNQJ81L16Iu",
      "include_colab_link": true
    },
    "kernelspec": {
      "name": "python3",
      "display_name": "Python 3"
    },
    "language_info": {
      "name": "python"
    }
  },
  "cells": [
    {
      "cell_type": "markdown",
      "metadata": {
        "id": "view-in-github",
        "colab_type": "text"
      },
      "source": [
        "<a href=\"https://colab.research.google.com/github/Sujal-vajire/Machine-learning-models/blob/main/2DTreeGeneration.ipynb\" target=\"_parent\"><img src=\"https://colab.research.google.com/assets/colab-badge.svg\" alt=\"Open In Colab\"/></a>"
      ]
    },
    {
      "cell_type": "code",
      "source": [
        "!pip install vtk"
      ],
      "metadata": {
        "colab": {
          "base_uri": "https://localhost:8080/"
        },
        "id": "DkJWjPS2cpY4",
        "outputId": "2189bd7e-5e25-4e27-b14c-13369f7f6112"
      },
      "execution_count": 2,
      "outputs": [
        {
          "output_type": "stream",
          "name": "stdout",
          "text": [
            "Collecting vtk\n",
            "  Downloading vtk-9.2.6-cp310-cp310-manylinux_2_17_x86_64.manylinux2014_x86_64.whl (79.3 MB)\n",
            "\u001b[2K     \u001b[90m━━━━━━━━━━━━━━━━━━━━━━━━━━━━━━━━━━━━━━━━\u001b[0m \u001b[32m79.3/79.3 MB\u001b[0m \u001b[31m8.9 MB/s\u001b[0m eta \u001b[36m0:00:00\u001b[0m\n",
            "\u001b[?25hRequirement already satisfied: matplotlib>=2.0.0 in /usr/local/lib/python3.10/dist-packages (from vtk) (3.7.1)\n",
            "Requirement already satisfied: contourpy>=1.0.1 in /usr/local/lib/python3.10/dist-packages (from matplotlib>=2.0.0->vtk) (1.1.0)\n",
            "Requirement already satisfied: cycler>=0.10 in /usr/local/lib/python3.10/dist-packages (from matplotlib>=2.0.0->vtk) (0.11.0)\n",
            "Requirement already satisfied: fonttools>=4.22.0 in /usr/local/lib/python3.10/dist-packages (from matplotlib>=2.0.0->vtk) (4.42.1)\n",
            "Requirement already satisfied: kiwisolver>=1.0.1 in /usr/local/lib/python3.10/dist-packages (from matplotlib>=2.0.0->vtk) (1.4.5)\n",
            "Requirement already satisfied: numpy>=1.20 in /usr/local/lib/python3.10/dist-packages (from matplotlib>=2.0.0->vtk) (1.23.5)\n",
            "Requirement already satisfied: packaging>=20.0 in /usr/local/lib/python3.10/dist-packages (from matplotlib>=2.0.0->vtk) (23.1)\n",
            "Requirement already satisfied: pillow>=6.2.0 in /usr/local/lib/python3.10/dist-packages (from matplotlib>=2.0.0->vtk) (9.4.0)\n",
            "Requirement already satisfied: pyparsing>=2.3.1 in /usr/local/lib/python3.10/dist-packages (from matplotlib>=2.0.0->vtk) (3.1.1)\n",
            "Requirement already satisfied: python-dateutil>=2.7 in /usr/local/lib/python3.10/dist-packages (from matplotlib>=2.0.0->vtk) (2.8.2)\n",
            "Requirement already satisfied: six>=1.5 in /usr/local/lib/python3.10/dist-packages (from python-dateutil>=2.7->matplotlib>=2.0.0->vtk) (1.16.0)\n",
            "Installing collected packages: vtk\n",
            "Successfully installed vtk-9.2.6\n"
          ]
        }
      ]
    },
    {
      "cell_type": "code",
      "source": [
        "pip install -e git+https://github.com/likchuan/vtk_py.git#egg=vtk_py\n"
      ],
      "metadata": {
        "colab": {
          "base_uri": "https://localhost:8080/"
        },
        "id": "l3jPBZUcdJx2",
        "outputId": "70e0c961-3db4-4867-a040-6f6924d11bfb"
      },
      "execution_count": 4,
      "outputs": [
        {
          "output_type": "stream",
          "name": "stdout",
          "text": [
            "Obtaining vtk_py from git+https://github.com/likchuan/vtk_py.git#egg=vtk_py\n",
            "  Cloning https://github.com/likchuan/vtk_py.git to ./src/vtk-py\n",
            "  Running command git clone --filter=blob:none --quiet https://github.com/likchuan/vtk_py.git /content/src/vtk-py\n",
            "  Resolved https://github.com/likchuan/vtk_py.git to commit cc4df559e69187ee2d947bf1b10800413871b510\n",
            "\u001b[31mERROR: vtk_py from git+https://github.com/likchuan/vtk_py.git#egg=vtk_py does not appear to be a Python project: neither 'setup.py' nor 'pyproject.toml' found.\u001b[0m\u001b[31m\n",
            "\u001b[0m"
          ]
        }
      ]
    },
    {
      "cell_type": "code",
      "execution_count": 6,
      "metadata": {
        "colab": {
          "base_uri": "https://localhost:8080/",
          "height": 378
        },
        "id": "7pvesPYF8i4Z",
        "outputId": "ccf71cac-7704-44e9-faed-f636add6fc93"
      },
      "outputs": [
        {
          "output_type": "error",
          "ename": "ModuleNotFoundError",
          "evalue": "ignored",
          "traceback": [
            "\u001b[0;31m---------------------------------------------------------------------------\u001b[0m",
            "\u001b[0;31mModuleNotFoundError\u001b[0m                       Traceback (most recent call last)",
            "\u001b[0;32m<ipython-input-6-b25b7afce911>\u001b[0m in \u001b[0;36m<cell line: 8>\u001b[0;34m()\u001b[0m\n\u001b[1;32m      6\u001b[0m \u001b[0;32mimport\u001b[0m \u001b[0msys\u001b[0m\u001b[0;34m\u001b[0m\u001b[0;34m\u001b[0m\u001b[0m\n\u001b[1;32m      7\u001b[0m \u001b[0msys\u001b[0m\u001b[0;34m.\u001b[0m\u001b[0mpath\u001b[0m\u001b[0;34m.\u001b[0m\u001b[0mappend\u001b[0m\u001b[0;34m(\u001b[0m\u001b[0;34m\"/mnt/Research\"\u001b[0m\u001b[0;34m)\u001b[0m\u001b[0;34m\u001b[0m\u001b[0;34m\u001b[0m\u001b[0m\n\u001b[0;32m----> 8\u001b[0;31m \u001b[0;32mimport\u001b[0m \u001b[0mvtk_py\u001b[0m \u001b[0;32mas\u001b[0m \u001b[0mvtk_py\u001b[0m\u001b[0;34m\u001b[0m\u001b[0;34m\u001b[0m\u001b[0m\n\u001b[0m\u001b[1;32m      9\u001b[0m \u001b[0;32mfrom\u001b[0m \u001b[0mvtk\u001b[0m\u001b[0;34m.\u001b[0m\u001b[0mutil\u001b[0m\u001b[0;34m.\u001b[0m\u001b[0mnumpy_support\u001b[0m \u001b[0;32mimport\u001b[0m \u001b[0mnumpy_to_vtk\u001b[0m\u001b[0;34m\u001b[0m\u001b[0;34m\u001b[0m\u001b[0m\n\u001b[1;32m     10\u001b[0m \u001b[0;32mfrom\u001b[0m \u001b[0mvtk\u001b[0m\u001b[0;34m.\u001b[0m\u001b[0mutil\u001b[0m\u001b[0;34m.\u001b[0m\u001b[0mnumpy_support\u001b[0m \u001b[0;32mimport\u001b[0m \u001b[0mvtk_to_numpy\u001b[0m\u001b[0;34m\u001b[0m\u001b[0;34m\u001b[0m\u001b[0m\n",
            "\u001b[0;31mModuleNotFoundError\u001b[0m: No module named 'vtk_py'",
            "",
            "\u001b[0;31m---------------------------------------------------------------------------\u001b[0;32m\nNOTE: If your import is failing due to a missing package, you can\nmanually install dependencies using either !pip or !apt.\n\nTo view examples of installing some common dependencies, click the\n\"Open Examples\" button below.\n\u001b[0;31m---------------------------------------------------------------------------\u001b[0m\n"
          ],
          "errorDetails": {
            "actions": [
              {
                "action": "open_url",
                "actionText": "Open Examples",
                "url": "/notebooks/snippets/importing_libraries.ipynb"
              }
            ]
          }
        }
      ],
      "source": [
        "import turtle\n",
        "import numpy as np\n",
        "from matplotlib import pylab as plt\n",
        "import math\n",
        "import vtk as vtk\n",
        "import sys\n",
        "sys.path.append(\"/mnt/Research\")\n",
        "import vtk_py as vtk_py\n",
        "from vtk.util.numpy_support import numpy_to_vtk\n",
        "from vtk.util.numpy_support import vtk_to_numpy\n",
        "from createTreeVTK import *\n",
        "from random import seed\n",
        "from random import random\n",
        "import os\n",
        "from treegenlib import *\n",
        "\n",
        "def main():\n",
        "    nterm = 200  # 500\n",
        "    dmin = 0.5\n",
        "    Qperf = 1\n",
        "    Pperf = 100\n",
        "    Pterm = 60\n",
        "\n",
        "    # Create 1st vessel\n",
        "    pts = vtk.vtkPoints()\n",
        "    cells = vtk.vtkCellArray()\n",
        "    pts.InsertNextPoint(0, 0, 0)\n",
        "    cells, pts = createvessel(100, 0, cells, pts)\n",
        "\n",
        "    pdata = vtk.vtkPolyData()\n",
        "    pdata.SetPoints(pts)\n",
        "    pdata.SetLines(cells)\n",
        "\n",
        "    # Add radius\n",
        "    radius = []\n",
        "    radius.append(1)\n",
        "    radius_vtk = numpy_to_vtk(np.array(radius), deep=1, array_type=vtk.VTK_FLOAT)\n",
        "    radius_vtk.SetName(\"radius\")\n",
        "    pdata.GetCellData().AddArray(radius_vtk)\n",
        "\n",
        "    # Add betaL\n",
        "    betaL = []\n",
        "    betaL.append(1)\n",
        "    betaL_vtk = numpy_to_vtk(np.array(betaL), deep=1, array_type=vtk.VTK_FLOAT)\n",
        "    betaL_vtk.SetName(\"betaL\")\n",
        "    pdata.GetCellData().AddArray(betaL_vtk)\n",
        "\n",
        "    # Add betaR\n",
        "    betaR = []\n",
        "    betaR.append(1)\n",
        "    betaR_vtk = numpy_to_vtk(np.array(betaR), deep=1, array_type=vtk.VTK_FLOAT)\n",
        "    betaR_vtk.SetName(\"betaR\")\n",
        "    pdata.GetCellData().AddArray(betaR_vtk)\n",
        "\n",
        "    # Add Q\n",
        "    Qflow = []\n",
        "    Qflow.append(Qperf)\n",
        "    Qflow_vtk = numpy_to_vtk(np.array(Qflow), deep=1, array_type=vtk.VTK_FLOAT)\n",
        "    Qflow_vtk.SetName(\"Qflow\")\n",
        "    pdata.GetCellData().AddArray(Qflow_vtk)\n",
        "\n",
        "    # Add Parent\n",
        "    parent = []\n",
        "    parent.append(0)\n",
        "    parent_vtk = numpy_to_vtk(np.array(parent), deep=1, array_type=vtk.VTK_INT)\n",
        "    parent_vtk.SetName(\"parent\")\n",
        "    pdata.GetCellData().AddArray(parent_vtk)\n",
        "\n",
        "    pdata = GetReducedHydroR(pdata)\n",
        "\n",
        "    # Add output directory if it does not exist\n",
        "    if not os.path.exists(\"../output\"):\n",
        "        os.makedirs(\"../output\")\n",
        "    else:\n",
        "        os.system(\"rm ../output/*\")\n",
        "\n",
        "    for term in np.arange(1, nterm + 1):\n",
        "        cnt = 0\n",
        "        print(\"Finding nearest vessel\")\n",
        "        while (1):\n",
        "            x = randomgenerator(0, 1)\n",
        "            y = randomgenerator(0, 1)\n",
        "\n",
        "            cellid, dist, closestpt = findclosestvessel([x, y, 0], pdata)\n",
        "\n",
        "            if (dist > dmin):\n",
        "                break\n",
        "\n",
        "            if (cnt == 10):\n",
        "                dmin = 0.9 * dmin\n",
        "                cnt = 0\n",
        "                continue\n",
        "\n",
        "            cnt += 1\n",
        "\n",
        "        print(\"Create \" + str(term) + \" vessel at terminal point \", x, \", \", y)\n",
        "        Qterm = Qperf / (term + 1.0)\n",
        "\n",
        "        # Compute radius of all vessels\n",
        "        Rstar_root = GetSubTreeResistance(0, pdata)\n",
        "        r_root = (Rstar_root * Qperf / (Pperf - Pterm)) ** (0.25)\n",
        "        pdata = ComputeRadiusOfAllVessels(0, pdata, r_root)\n",
        "\n",
        "        newpdata = addvessel(cellid, [x, y], closestpt, pdata, Qterm)\n",
        "\n",
        "        newpdata = ComputeRadiusOfAllVessels(0, newpdata, r_root)\n",
        "\n",
        "        Qterm = ComputeTerminalFlow\n"
      ]
    }
  ]
}