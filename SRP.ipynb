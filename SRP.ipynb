{
  "cells": [
    {
      "cell_type": "markdown",
      "metadata": {
        "id": "view-in-github",
        "colab_type": "text"
      },
      "source": [
        "<a href=\"https://colab.research.google.com/github/Sujal-vajire/Machine-learning-models/blob/main/SRP.ipynb\" target=\"_parent\"><img src=\"https://colab.research.google.com/assets/colab-badge.svg\" alt=\"Open In Colab\"/></a>"
      ]
    },
    {
      "cell_type": "code",
      "execution_count": null,
      "metadata": {
        "id": "0d0rh_eUe4Ae"
      },
      "outputs": [],
      "source": [
        "from keras.models import Sequential\n",
        "from keras.layers import Dense, Dropout, LSTM, Bidirectional\n",
        "from sklearn.preprocessing import MinMaxScaler\n",
        "import pandas as pd\n",
        "import numpy as np\n",
        "import matplotlib.pyplot as plt"
      ]
    },
    {
      "cell_type": "code",
      "execution_count": null,
      "metadata": {
        "id": "0Bq3vlxCfVvj"
      },
      "outputs": [],
      "source": [
        "data = pd.read_csv('dataset1.csv',)"
      ]
    },
    {
      "cell_type": "code",
      "execution_count": null,
      "metadata": {
        "colab": {
          "base_uri": "https://localhost:8080/",
          "height": 438
        },
        "id": "rDtsv_QlgiLt",
        "outputId": "33d1781f-6ff2-4c37-cadf-3a209a509faa"
      },
      "outputs": [
        {
          "data": {
            "text/html": [
              "\n",
              "  <div id=\"df-241bef89-d2fd-42aa-82d0-b4ba961678d3\">\n",
              "    <div class=\"colab-df-container\">\n",
              "      <div>\n",
              "<style scoped>\n",
              "    .dataframe tbody tr th:only-of-type {\n",
              "        vertical-align: middle;\n",
              "    }\n",
              "\n",
              "    .dataframe tbody tr th {\n",
              "        vertical-align: top;\n",
              "    }\n",
              "\n",
              "    .dataframe thead th {\n",
              "        text-align: right;\n",
              "    }\n",
              "</style>\n",
              "<table border=\"1\" class=\"dataframe\">\n",
              "  <thead>\n",
              "    <tr style=\"text-align: right;\">\n",
              "      <th></th>\n",
              "      <th>UNIXTime</th>\n",
              "      <th>Data</th>\n",
              "      <th>Time</th>\n",
              "      <th>Radiation</th>\n",
              "      <th>Temperature</th>\n",
              "      <th>Pressure</th>\n",
              "      <th>Humidity</th>\n",
              "      <th>WindDirection(Degrees)</th>\n",
              "      <th>Speed</th>\n",
              "      <th>TimeSunRise</th>\n",
              "      <th>TimeSunSet</th>\n",
              "    </tr>\n",
              "  </thead>\n",
              "  <tbody>\n",
              "    <tr>\n",
              "      <th>0</th>\n",
              "      <td>1475229326</td>\n",
              "      <td>9/29/2016 12:00:00 AM</td>\n",
              "      <td>23:55:26</td>\n",
              "      <td>1.21</td>\n",
              "      <td>48</td>\n",
              "      <td>30.46</td>\n",
              "      <td>59</td>\n",
              "      <td>177.39</td>\n",
              "      <td>5.62</td>\n",
              "      <td>06:13:00</td>\n",
              "      <td>18:13:00</td>\n",
              "    </tr>\n",
              "    <tr>\n",
              "      <th>1</th>\n",
              "      <td>1475229023</td>\n",
              "      <td>9/29/2016 12:00:00 AM</td>\n",
              "      <td>23:50:23</td>\n",
              "      <td>1.21</td>\n",
              "      <td>48</td>\n",
              "      <td>30.46</td>\n",
              "      <td>58</td>\n",
              "      <td>176.78</td>\n",
              "      <td>3.37</td>\n",
              "      <td>06:13:00</td>\n",
              "      <td>18:13:00</td>\n",
              "    </tr>\n",
              "    <tr>\n",
              "      <th>2</th>\n",
              "      <td>1475228726</td>\n",
              "      <td>9/29/2016 12:00:00 AM</td>\n",
              "      <td>23:45:26</td>\n",
              "      <td>1.23</td>\n",
              "      <td>48</td>\n",
              "      <td>30.46</td>\n",
              "      <td>57</td>\n",
              "      <td>158.75</td>\n",
              "      <td>3.37</td>\n",
              "      <td>06:13:00</td>\n",
              "      <td>18:13:00</td>\n",
              "    </tr>\n",
              "    <tr>\n",
              "      <th>3</th>\n",
              "      <td>1475228421</td>\n",
              "      <td>9/29/2016 12:00:00 AM</td>\n",
              "      <td>23:40:21</td>\n",
              "      <td>1.21</td>\n",
              "      <td>48</td>\n",
              "      <td>30.46</td>\n",
              "      <td>60</td>\n",
              "      <td>137.71</td>\n",
              "      <td>3.37</td>\n",
              "      <td>06:13:00</td>\n",
              "      <td>18:13:00</td>\n",
              "    </tr>\n",
              "    <tr>\n",
              "      <th>4</th>\n",
              "      <td>1475228124</td>\n",
              "      <td>9/29/2016 12:00:00 AM</td>\n",
              "      <td>23:35:24</td>\n",
              "      <td>1.17</td>\n",
              "      <td>48</td>\n",
              "      <td>30.46</td>\n",
              "      <td>62</td>\n",
              "      <td>104.95</td>\n",
              "      <td>5.62</td>\n",
              "      <td>06:13:00</td>\n",
              "      <td>18:13:00</td>\n",
              "    </tr>\n",
              "  </tbody>\n",
              "</table>\n",
              "</div>\n",
              "      <button class=\"colab-df-convert\" onclick=\"convertToInteractive('df-241bef89-d2fd-42aa-82d0-b4ba961678d3')\"\n",
              "              title=\"Convert this dataframe to an interactive table.\"\n",
              "              style=\"display:none;\">\n",
              "        \n",
              "  <svg xmlns=\"http://www.w3.org/2000/svg\" height=\"24px\"viewBox=\"0 0 24 24\"\n",
              "       width=\"24px\">\n",
              "    <path d=\"M0 0h24v24H0V0z\" fill=\"none\"/>\n",
              "    <path d=\"M18.56 5.44l.94 2.06.94-2.06 2.06-.94-2.06-.94-.94-2.06-.94 2.06-2.06.94zm-11 1L8.5 8.5l.94-2.06 2.06-.94-2.06-.94L8.5 2.5l-.94 2.06-2.06.94zm10 10l.94 2.06.94-2.06 2.06-.94-2.06-.94-.94-2.06-.94 2.06-2.06.94z\"/><path d=\"M17.41 7.96l-1.37-1.37c-.4-.4-.92-.59-1.43-.59-.52 0-1.04.2-1.43.59L10.3 9.45l-7.72 7.72c-.78.78-.78 2.05 0 2.83L4 21.41c.39.39.9.59 1.41.59.51 0 1.02-.2 1.41-.59l7.78-7.78 2.81-2.81c.8-.78.8-2.07 0-2.86zM5.41 20L4 18.59l7.72-7.72 1.47 1.35L5.41 20z\"/>\n",
              "  </svg>\n",
              "      </button>\n",
              "      \n",
              "  <style>\n",
              "    .colab-df-container {\n",
              "      display:flex;\n",
              "      flex-wrap:wrap;\n",
              "      gap: 12px;\n",
              "    }\n",
              "\n",
              "    .colab-df-convert {\n",
              "      background-color: #E8F0FE;\n",
              "      border: none;\n",
              "      border-radius: 50%;\n",
              "      cursor: pointer;\n",
              "      display: none;\n",
              "      fill: #1967D2;\n",
              "      height: 32px;\n",
              "      padding: 0 0 0 0;\n",
              "      width: 32px;\n",
              "    }\n",
              "\n",
              "    .colab-df-convert:hover {\n",
              "      background-color: #E2EBFA;\n",
              "      box-shadow: 0px 1px 2px rgba(60, 64, 67, 0.3), 0px 1px 3px 1px rgba(60, 64, 67, 0.15);\n",
              "      fill: #174EA6;\n",
              "    }\n",
              "\n",
              "    [theme=dark] .colab-df-convert {\n",
              "      background-color: #3B4455;\n",
              "      fill: #D2E3FC;\n",
              "    }\n",
              "\n",
              "    [theme=dark] .colab-df-convert:hover {\n",
              "      background-color: #434B5C;\n",
              "      box-shadow: 0px 1px 3px 1px rgba(0, 0, 0, 0.15);\n",
              "      filter: drop-shadow(0px 1px 2px rgba(0, 0, 0, 0.3));\n",
              "      fill: #FFFFFF;\n",
              "    }\n",
              "  </style>\n",
              "\n",
              "      <script>\n",
              "        const buttonEl =\n",
              "          document.querySelector('#df-241bef89-d2fd-42aa-82d0-b4ba961678d3 button.colab-df-convert');\n",
              "        buttonEl.style.display =\n",
              "          google.colab.kernel.accessAllowed ? 'block' : 'none';\n",
              "\n",
              "        async function convertToInteractive(key) {\n",
              "          const element = document.querySelector('#df-241bef89-d2fd-42aa-82d0-b4ba961678d3');\n",
              "          const dataTable =\n",
              "            await google.colab.kernel.invokeFunction('convertToInteractive',\n",
              "                                                     [key], {});\n",
              "          if (!dataTable) return;\n",
              "\n",
              "          const docLinkHtml = 'Like what you see? Visit the ' +\n",
              "            '<a target=\"_blank\" href=https://colab.research.google.com/notebooks/data_table.ipynb>data table notebook</a>'\n",
              "            + ' to learn more about interactive tables.';\n",
              "          element.innerHTML = '';\n",
              "          dataTable['output_type'] = 'display_data';\n",
              "          await google.colab.output.renderOutput(dataTable, element);\n",
              "          const docLink = document.createElement('div');\n",
              "          docLink.innerHTML = docLinkHtml;\n",
              "          element.appendChild(docLink);\n",
              "        }\n",
              "      </script>\n",
              "    </div>\n",
              "  </div>\n",
              "  "
            ],
            "text/plain": [
              "     UNIXTime                   Data      Time  Radiation  Temperature  \\\n",
              "0  1475229326  9/29/2016 12:00:00 AM  23:55:26       1.21           48   \n",
              "1  1475229023  9/29/2016 12:00:00 AM  23:50:23       1.21           48   \n",
              "2  1475228726  9/29/2016 12:00:00 AM  23:45:26       1.23           48   \n",
              "3  1475228421  9/29/2016 12:00:00 AM  23:40:21       1.21           48   \n",
              "4  1475228124  9/29/2016 12:00:00 AM  23:35:24       1.17           48   \n",
              "\n",
              "   Pressure  Humidity  WindDirection(Degrees)  Speed TimeSunRise TimeSunSet  \n",
              "0     30.46        59                  177.39   5.62    06:13:00   18:13:00  \n",
              "1     30.46        58                  176.78   3.37    06:13:00   18:13:00  \n",
              "2     30.46        57                  158.75   3.37    06:13:00   18:13:00  \n",
              "3     30.46        60                  137.71   3.37    06:13:00   18:13:00  \n",
              "4     30.46        62                  104.95   5.62    06:13:00   18:13:00  "
            ]
          },
          "execution_count": 57,
          "metadata": {},
          "output_type": "execute_result"
        }
      ],
      "source": [
        "df.head()"
      ]
    },
    {
      "cell_type": "code",
      "execution_count": null,
      "metadata": {
        "colab": {
          "base_uri": "https://localhost:8080/",
          "height": 235
        },
        "id": "iR4YB_6jHGcp",
        "outputId": "2a3e6675-2967-4cc8-fb00-2862a0521234"
      },
      "outputs": [
        {
          "data": {
            "text/html": [
              "\n",
              "  <div id=\"df-4d5adc43-2302-4f2b-8ec8-1336c0559763\">\n",
              "    <div class=\"colab-df-container\">\n",
              "      <div>\n",
              "<style scoped>\n",
              "    .dataframe tbody tr th:only-of-type {\n",
              "        vertical-align: middle;\n",
              "    }\n",
              "\n",
              "    .dataframe tbody tr th {\n",
              "        vertical-align: top;\n",
              "    }\n",
              "\n",
              "    .dataframe thead th {\n",
              "        text-align: right;\n",
              "    }\n",
              "</style>\n",
              "<table border=\"1\" class=\"dataframe\">\n",
              "  <thead>\n",
              "    <tr style=\"text-align: right;\">\n",
              "      <th></th>\n",
              "      <th>Radiation</th>\n",
              "    </tr>\n",
              "    <tr>\n",
              "      <th>UNIXTime</th>\n",
              "      <th></th>\n",
              "    </tr>\n",
              "  </thead>\n",
              "  <tbody>\n",
              "    <tr>\n",
              "      <th>1481318139</th>\n",
              "      <td>120.52</td>\n",
              "    </tr>\n",
              "    <tr>\n",
              "      <th>1481317850</th>\n",
              "      <td>107.32</td>\n",
              "    </tr>\n",
              "    <tr>\n",
              "      <th>1481317540</th>\n",
              "      <td>144.85</td>\n",
              "    </tr>\n",
              "    <tr>\n",
              "      <th>1481317251</th>\n",
              "      <td>179.73</td>\n",
              "    </tr>\n",
              "    <tr>\n",
              "      <th>1481316953</th>\n",
              "      <td>193.00</td>\n",
              "    </tr>\n",
              "  </tbody>\n",
              "</table>\n",
              "</div>\n",
              "      <button class=\"colab-df-convert\" onclick=\"convertToInteractive('df-4d5adc43-2302-4f2b-8ec8-1336c0559763')\"\n",
              "              title=\"Convert this dataframe to an interactive table.\"\n",
              "              style=\"display:none;\">\n",
              "        \n",
              "  <svg xmlns=\"http://www.w3.org/2000/svg\" height=\"24px\"viewBox=\"0 0 24 24\"\n",
              "       width=\"24px\">\n",
              "    <path d=\"M0 0h24v24H0V0z\" fill=\"none\"/>\n",
              "    <path d=\"M18.56 5.44l.94 2.06.94-2.06 2.06-.94-2.06-.94-.94-2.06-.94 2.06-2.06.94zm-11 1L8.5 8.5l.94-2.06 2.06-.94-2.06-.94L8.5 2.5l-.94 2.06-2.06.94zm10 10l.94 2.06.94-2.06 2.06-.94-2.06-.94-.94-2.06-.94 2.06-2.06.94z\"/><path d=\"M17.41 7.96l-1.37-1.37c-.4-.4-.92-.59-1.43-.59-.52 0-1.04.2-1.43.59L10.3 9.45l-7.72 7.72c-.78.78-.78 2.05 0 2.83L4 21.41c.39.39.9.59 1.41.59.51 0 1.02-.2 1.41-.59l7.78-7.78 2.81-2.81c.8-.78.8-2.07 0-2.86zM5.41 20L4 18.59l7.72-7.72 1.47 1.35L5.41 20z\"/>\n",
              "  </svg>\n",
              "      </button>\n",
              "      \n",
              "  <style>\n",
              "    .colab-df-container {\n",
              "      display:flex;\n",
              "      flex-wrap:wrap;\n",
              "      gap: 12px;\n",
              "    }\n",
              "\n",
              "    .colab-df-convert {\n",
              "      background-color: #E8F0FE;\n",
              "      border: none;\n",
              "      border-radius: 50%;\n",
              "      cursor: pointer;\n",
              "      display: none;\n",
              "      fill: #1967D2;\n",
              "      height: 32px;\n",
              "      padding: 0 0 0 0;\n",
              "      width: 32px;\n",
              "    }\n",
              "\n",
              "    .colab-df-convert:hover {\n",
              "      background-color: #E2EBFA;\n",
              "      box-shadow: 0px 1px 2px rgba(60, 64, 67, 0.3), 0px 1px 3px 1px rgba(60, 64, 67, 0.15);\n",
              "      fill: #174EA6;\n",
              "    }\n",
              "\n",
              "    [theme=dark] .colab-df-convert {\n",
              "      background-color: #3B4455;\n",
              "      fill: #D2E3FC;\n",
              "    }\n",
              "\n",
              "    [theme=dark] .colab-df-convert:hover {\n",
              "      background-color: #434B5C;\n",
              "      box-shadow: 0px 1px 3px 1px rgba(0, 0, 0, 0.15);\n",
              "      filter: drop-shadow(0px 1px 2px rgba(0, 0, 0, 0.3));\n",
              "      fill: #FFFFFF;\n",
              "    }\n",
              "  </style>\n",
              "\n",
              "      <script>\n",
              "        const buttonEl =\n",
              "          document.querySelector('#df-4d5adc43-2302-4f2b-8ec8-1336c0559763 button.colab-df-convert');\n",
              "        buttonEl.style.display =\n",
              "          google.colab.kernel.accessAllowed ? 'block' : 'none';\n",
              "\n",
              "        async function convertToInteractive(key) {\n",
              "          const element = document.querySelector('#df-4d5adc43-2302-4f2b-8ec8-1336c0559763');\n",
              "          const dataTable =\n",
              "            await google.colab.kernel.invokeFunction('convertToInteractive',\n",
              "                                                     [key], {});\n",
              "          if (!dataTable) return;\n",
              "\n",
              "          const docLinkHtml = 'Like what you see? Visit the ' +\n",
              "            '<a target=\"_blank\" href=https://colab.research.google.com/notebooks/data_table.ipynb>data table notebook</a>'\n",
              "            + ' to learn more about interactive tables.';\n",
              "          element.innerHTML = '';\n",
              "          dataTable['output_type'] = 'display_data';\n",
              "          await google.colab.output.renderOutput(dataTable, element);\n",
              "          const docLink = document.createElement('div');\n",
              "          docLink.innerHTML = docLinkHtml;\n",
              "          element.appendChild(docLink);\n",
              "        }\n",
              "      </script>\n",
              "    </div>\n",
              "  </div>\n",
              "  "
            ],
            "text/plain": [
              "            Radiation\n",
              "UNIXTime             \n",
              "1481318139     120.52\n",
              "1481317850     107.32\n",
              "1481317540     144.85\n",
              "1481317251     179.73\n",
              "1481316953     193.00"
            ]
          },
          "execution_count": 59,
          "metadata": {},
          "output_type": "execute_result"
        }
      ],
      "source": [
        "scaled_data = data[['UNIXTime','Radiation']].iloc[:31000,:]\n",
        "scaled_data.set_index('UNIXTime',drop=True,inplace=True)\n",
        "scaled_data.tail()"
      ]
    },
    {
      "cell_type": "code",
      "execution_count": null,
      "metadata": {
        "colab": {
          "base_uri": "https://localhost:8080/",
          "height": 235
        },
        "id": "FUj1Fj6Ut8A4",
        "outputId": "ad5590d0-5aba-4b84-c827-b2e8459d0ae2"
      },
      "outputs": [
        {
          "data": {
            "text/html": [
              "\n",
              "  <div id=\"df-3e0599a9-43c2-47ca-abf9-086580040179\">\n",
              "    <div class=\"colab-df-container\">\n",
              "      <div>\n",
              "<style scoped>\n",
              "    .dataframe tbody tr th:only-of-type {\n",
              "        vertical-align: middle;\n",
              "    }\n",
              "\n",
              "    .dataframe tbody tr th {\n",
              "        vertical-align: top;\n",
              "    }\n",
              "\n",
              "    .dataframe thead th {\n",
              "        text-align: right;\n",
              "    }\n",
              "</style>\n",
              "<table border=\"1\" class=\"dataframe\">\n",
              "  <thead>\n",
              "    <tr style=\"text-align: right;\">\n",
              "      <th></th>\n",
              "      <th>Radiation</th>\n",
              "    </tr>\n",
              "    <tr>\n",
              "      <th>UNIXTime</th>\n",
              "      <th></th>\n",
              "    </tr>\n",
              "  </thead>\n",
              "  <tbody>\n",
              "    <tr>\n",
              "      <th>1475229326</th>\n",
              "      <td>0.000062</td>\n",
              "    </tr>\n",
              "    <tr>\n",
              "      <th>1475229023</th>\n",
              "      <td>0.000062</td>\n",
              "    </tr>\n",
              "    <tr>\n",
              "      <th>1475228726</th>\n",
              "      <td>0.000075</td>\n",
              "    </tr>\n",
              "    <tr>\n",
              "      <th>1475228421</th>\n",
              "      <td>0.000062</td>\n",
              "    </tr>\n",
              "    <tr>\n",
              "      <th>1475228124</th>\n",
              "      <td>0.000037</td>\n",
              "    </tr>\n",
              "  </tbody>\n",
              "</table>\n",
              "</div>\n",
              "      <button class=\"colab-df-convert\" onclick=\"convertToInteractive('df-3e0599a9-43c2-47ca-abf9-086580040179')\"\n",
              "              title=\"Convert this dataframe to an interactive table.\"\n",
              "              style=\"display:none;\">\n",
              "        \n",
              "  <svg xmlns=\"http://www.w3.org/2000/svg\" height=\"24px\"viewBox=\"0 0 24 24\"\n",
              "       width=\"24px\">\n",
              "    <path d=\"M0 0h24v24H0V0z\" fill=\"none\"/>\n",
              "    <path d=\"M18.56 5.44l.94 2.06.94-2.06 2.06-.94-2.06-.94-.94-2.06-.94 2.06-2.06.94zm-11 1L8.5 8.5l.94-2.06 2.06-.94-2.06-.94L8.5 2.5l-.94 2.06-2.06.94zm10 10l.94 2.06.94-2.06 2.06-.94-2.06-.94-.94-2.06-.94 2.06-2.06.94z\"/><path d=\"M17.41 7.96l-1.37-1.37c-.4-.4-.92-.59-1.43-.59-.52 0-1.04.2-1.43.59L10.3 9.45l-7.72 7.72c-.78.78-.78 2.05 0 2.83L4 21.41c.39.39.9.59 1.41.59.51 0 1.02-.2 1.41-.59l7.78-7.78 2.81-2.81c.8-.78.8-2.07 0-2.86zM5.41 20L4 18.59l7.72-7.72 1.47 1.35L5.41 20z\"/>\n",
              "  </svg>\n",
              "      </button>\n",
              "      \n",
              "  <style>\n",
              "    .colab-df-container {\n",
              "      display:flex;\n",
              "      flex-wrap:wrap;\n",
              "      gap: 12px;\n",
              "    }\n",
              "\n",
              "    .colab-df-convert {\n",
              "      background-color: #E8F0FE;\n",
              "      border: none;\n",
              "      border-radius: 50%;\n",
              "      cursor: pointer;\n",
              "      display: none;\n",
              "      fill: #1967D2;\n",
              "      height: 32px;\n",
              "      padding: 0 0 0 0;\n",
              "      width: 32px;\n",
              "    }\n",
              "\n",
              "    .colab-df-convert:hover {\n",
              "      background-color: #E2EBFA;\n",
              "      box-shadow: 0px 1px 2px rgba(60, 64, 67, 0.3), 0px 1px 3px 1px rgba(60, 64, 67, 0.15);\n",
              "      fill: #174EA6;\n",
              "    }\n",
              "\n",
              "    [theme=dark] .colab-df-convert {\n",
              "      background-color: #3B4455;\n",
              "      fill: #D2E3FC;\n",
              "    }\n",
              "\n",
              "    [theme=dark] .colab-df-convert:hover {\n",
              "      background-color: #434B5C;\n",
              "      box-shadow: 0px 1px 3px 1px rgba(0, 0, 0, 0.15);\n",
              "      filter: drop-shadow(0px 1px 2px rgba(0, 0, 0, 0.3));\n",
              "      fill: #FFFFFF;\n",
              "    }\n",
              "  </style>\n",
              "\n",
              "      <script>\n",
              "        const buttonEl =\n",
              "          document.querySelector('#df-3e0599a9-43c2-47ca-abf9-086580040179 button.colab-df-convert');\n",
              "        buttonEl.style.display =\n",
              "          google.colab.kernel.accessAllowed ? 'block' : 'none';\n",
              "\n",
              "        async function convertToInteractive(key) {\n",
              "          const element = document.querySelector('#df-3e0599a9-43c2-47ca-abf9-086580040179');\n",
              "          const dataTable =\n",
              "            await google.colab.kernel.invokeFunction('convertToInteractive',\n",
              "                                                     [key], {});\n",
              "          if (!dataTable) return;\n",
              "\n",
              "          const docLinkHtml = 'Like what you see? Visit the ' +\n",
              "            '<a target=\"_blank\" href=https://colab.research.google.com/notebooks/data_table.ipynb>data table notebook</a>'\n",
              "            + ' to learn more about interactive tables.';\n",
              "          element.innerHTML = '';\n",
              "          dataTable['output_type'] = 'display_data';\n",
              "          await google.colab.output.renderOutput(dataTable, element);\n",
              "          const docLink = document.createElement('div');\n",
              "          docLink.innerHTML = docLinkHtml;\n",
              "          element.appendChild(docLink);\n",
              "        }\n",
              "      </script>\n",
              "    </div>\n",
              "  </div>\n",
              "  "
            ],
            "text/plain": [
              "            Radiation\n",
              "UNIXTime             \n",
              "1475229326   0.000062\n",
              "1475229023   0.000062\n",
              "1475228726   0.000075\n",
              "1475228421   0.000062\n",
              "1475228124   0.000037"
            ]
          },
          "execution_count": 60,
          "metadata": {},
          "output_type": "execute_result"
        }
      ],
      "source": [
        "MMS = MinMaxScaler()\n",
        "scaled_data[scaled_data.columns] = MMS.fit_transform(scaled_data)\n",
        "scaled_data.head()"
      ]
    },
    {
      "cell_type": "code",
      "execution_count": null,
      "metadata": {
        "id": "9_OQ6z9DuXkr"
      },
      "outputs": [],
      "source": [
        "from keras.layers import Bidirectional,LSTM,Dense,Flatten,Conv1D,MaxPooling1D,Dropout,RepeatVector\n",
        "from keras.models import Sequential\n",
        "from keras.callbacks import EarlyStopping,ReduceLROnPlateau\n",
        "\n",
        "early_stop=EarlyStopping(monitor='loss',patience=5)"
      ]
    },
    {
      "cell_type": "code",
      "execution_count": 83,
      "metadata": {
        "id": "7fLg4_cbuZLN"
      },
      "outputs": [],
      "source": [
        "model=Sequential([Conv1D(100,kernel_size=3,input_shape=(30,1),activation='relu'),\n",
        "                  Conv1D(100,kernel_size=3),\n",
        "                  Conv1D(100,kernel_size=3),\n",
        "                  MaxPooling1D(2),\n",
        "                 Flatten(),\n",
        "                  RepeatVector(30),\n",
        "                 LSTM(128,activation='relu',return_sequences=True),\n",
        "                 LSTM(128,activation='relu',return_sequences=True),\n",
        "                  Bidirectional(LSTM(64,activation='relu')),\n",
        "                 Dense(128,activation='relu'),\n",
        "                 Dense(1)])\n",
        "\n",
        "model.compile(optimizer='adam',loss='mse',metrics=['accuracy'])"
      ]
    },
    {
      "cell_type": "code",
      "execution_count": null,
      "metadata": {
        "id": "UIS1KwGfyKyn"
      },
      "outputs": [],
      "source": [
        "def create_sequence(dataset,sequence_len):\n",
        "  sequences = []\n",
        "  labels = []\n",
        "  start_idx = 0\n",
        "  for stop_idx in range(sequence_len,len(dataset)): \n",
        "    sequences.append(dataset.iloc[start_idx:stop_idx])\n",
        "    labels.append(dataset.iloc[stop_idx])\n",
        "    start_idx += 1\n",
        "  return (np.array(sequences),np.array(labels))"
      ]
    },
    {
      "cell_type": "code",
      "source": [
        "new_df1=pd.DataFrame(list(data['Radiation']), index=data['UNIXTime'], columns=['Rad'])"
      ],
      "metadata": {
        "id": "yGl38ZSE7aqO"
      },
      "execution_count": 86,
      "outputs": []
    },
    {
      "cell_type": "code",
      "source": [
        "new_df1"
      ],
      "metadata": {
        "id": "P5nQTIO57as9"
      },
      "execution_count": null,
      "outputs": []
    },
    {
      "cell_type": "code",
      "source": [
        "from sklearn.preprocessing import MinMaxScaler\n",
        "\n",
        "scaler=MinMaxScaler(feature_range=(-1,1))"
      ],
      "metadata": {
        "id": "CbvVQTDl8wpA"
      },
      "execution_count": 91,
      "outputs": []
    },
    {
      "cell_type": "code",
      "source": [
        "scaled_data=scaler.fit_transform(new_df1)\n",
        "scaled_data[:5]"
      ],
      "metadata": {
        "colab": {
          "base_uri": "https://localhost:8080/"
        },
        "id": "hLY3tjso8--I",
        "outputId": "96a60588-21f7-47e4-bd70-aef5bb9f9ba2"
      },
      "execution_count": 92,
      "outputs": [
        {
          "output_type": "execute_result",
          "data": {
            "text/plain": [
              "array([[-0.99987501],\n",
              "       [-0.99987501],\n",
              "       [-0.99985001],\n",
              "       [-0.99987501],\n",
              "       [-0.99992501]])"
            ]
          },
          "metadata": {},
          "execution_count": 92
        }
      ]
    },
    {
      "cell_type": "code",
      "source": [
        "steps=30\n",
        "inp1=[]\n",
        "out1=[]\n",
        "\n",
        "for i in range(len(scaled_data)-steps):\n",
        "    inp1.append(scaled_data[i:i+steps])\n",
        "    out1.append(scaled_data[i+steps])"
      ],
      "metadata": {
        "id": "tWLGBbad9HAS"
      },
      "execution_count": 93,
      "outputs": []
    },
    {
      "cell_type": "code",
      "source": [
        "inp1=np.asanyarray(inp1)\n",
        "out1=np.asanyarray(out1)\n",
        "x_train1=inp1[:500,:,:]\n",
        "x_test1=inp1[500:,:,:]\n",
        "y_train1=out1[:500]\n",
        "y_test1=out1[500:]"
      ],
      "metadata": {
        "id": "im-2MGFk9IAk"
      },
      "execution_count": 94,
      "outputs": []
    },
    {
      "cell_type": "code",
      "source": [
        "model.fit(x_train1,y_train1,epochs=20)"
      ],
      "metadata": {
        "colab": {
          "base_uri": "https://localhost:8080/"
        },
        "id": "TSJQUWZD9OfP",
        "outputId": "381e2891-6876-4358-e623-4ab85abdfc4e"
      },
      "execution_count": 95,
      "outputs": [
        {
          "output_type": "stream",
          "name": "stdout",
          "text": [
            "Epoch 1/20\n",
            "16/16 [==============================] - 14s 316ms/step - loss: 0.1337 - accuracy: 0.0000e+00\n",
            "Epoch 2/20\n",
            "16/16 [==============================] - 5s 287ms/step - loss: 0.0207 - accuracy: 0.0000e+00\n",
            "Epoch 3/20\n",
            "16/16 [==============================] - 5s 282ms/step - loss: 0.0050 - accuracy: 0.0000e+00\n",
            "Epoch 4/20\n",
            "16/16 [==============================] - 5s 288ms/step - loss: 0.0041 - accuracy: 0.0000e+00\n",
            "Epoch 5/20\n",
            "16/16 [==============================] - 5s 279ms/step - loss: 0.0034 - accuracy: 0.0000e+00\n",
            "Epoch 6/20\n",
            "16/16 [==============================] - 5s 299ms/step - loss: 0.0031 - accuracy: 0.0000e+00\n",
            "Epoch 7/20\n",
            "16/16 [==============================] - 5s 303ms/step - loss: 0.0027 - accuracy: 0.0000e+00\n",
            "Epoch 8/20\n",
            "16/16 [==============================] - 6s 369ms/step - loss: 0.0030 - accuracy: 0.0000e+00\n",
            "Epoch 9/20\n",
            "16/16 [==============================] - 5s 283ms/step - loss: 0.0030 - accuracy: 0.0000e+00\n",
            "Epoch 10/20\n",
            "16/16 [==============================] - 5s 301ms/step - loss: 0.0025 - accuracy: 0.0000e+00\n",
            "Epoch 11/20\n",
            "16/16 [==============================] - 5s 285ms/step - loss: 0.0023 - accuracy: 0.0000e+00\n",
            "Epoch 12/20\n",
            "16/16 [==============================] - 5s 287ms/step - loss: 0.0021 - accuracy: 0.0000e+00\n",
            "Epoch 13/20\n",
            "16/16 [==============================] - 5s 306ms/step - loss: 0.0022 - accuracy: 0.0000e+00\n",
            "Epoch 14/20\n",
            "16/16 [==============================] - 5s 280ms/step - loss: 0.0021 - accuracy: 0.0000e+00\n",
            "Epoch 15/20\n",
            "16/16 [==============================] - 5s 286ms/step - loss: 0.0026 - accuracy: 0.0000e+00\n",
            "Epoch 16/20\n",
            "16/16 [==============================] - 5s 289ms/step - loss: 0.0032 - accuracy: 0.0000e+00\n",
            "Epoch 17/20\n",
            "16/16 [==============================] - 5s 290ms/step - loss: 0.0023 - accuracy: 0.0000e+00\n",
            "Epoch 18/20\n",
            "16/16 [==============================] - 4s 276ms/step - loss: 0.0018 - accuracy: 0.0000e+00\n",
            "Epoch 19/20\n",
            "16/16 [==============================] - 4s 273ms/step - loss: 0.0018 - accuracy: 0.0000e+00\n",
            "Epoch 20/20\n",
            "16/16 [==============================] - 4s 278ms/step - loss: 0.0020 - accuracy: 0.0000e+00\n"
          ]
        },
        {
          "output_type": "execute_result",
          "data": {
            "text/plain": [
              "<keras.callbacks.History at 0x7f12178b9d10>"
            ]
          },
          "metadata": {},
          "execution_count": 95
        }
      ]
    },
    {
      "cell_type": "code",
      "source": [
        "predicted=model.predict(x_test1)"
      ],
      "metadata": {
        "id": "lWtRueBH-QMM"
      },
      "execution_count": 96,
      "outputs": []
    },
    {
      "cell_type": "code",
      "source": [
        "predicted1=scaler.inverse_transform(predicted)"
      ],
      "metadata": {
        "id": "PvdW8Rbw-QaG"
      },
      "execution_count": 97,
      "outputs": []
    },
    {
      "cell_type": "code",
      "source": [
        "y_test2=scaler.inverse_transform(y_test1)"
      ],
      "metadata": {
        "id": "FTNefHal-Qhw"
      },
      "execution_count": 100,
      "outputs": []
    },
    {
      "cell_type": "code",
      "source": [
        "plt.figure(figsize=(20,5))\n",
        "plt.plot(predicted1,'r',label='predicted')\n",
        "plt.plot(y_test2,'g',label='actual')\n",
        "plt.legend()\n",
        "plt.show()"
      ],
      "metadata": {
        "colab": {
          "base_uri": "https://localhost:8080/",
          "height": 320
        },
        "id": "ga3pZxj7-Qki",
        "outputId": "23012c6c-b671-45df-d6d3-0a5fa583a8d1"
      },
      "execution_count": 101,
      "outputs": [
        {
          "output_type": "display_data",
          "data": {
            "text/plain": [
              "<Figure size 1440x360 with 1 Axes>"
            ],
            "image/png": "[encoded data removed]"
          },
          "metadata": {
            "needs_background": "light"
          }
        }
      ]
    },
    {
      "cell_type": "code",
      "execution_count": null,
      "metadata": {
        "id": "X3Rb5FP0xMu-"
      },
      "outputs": [],
      "source": [
        "training_size = round(len(scaled_data) * 0.80)\n",
        "train_data = scaled_data[:training_size]\n",
        "test_data  = scaled_data[training_size:]"
      ]
    },
    {
      "cell_type": "code",
      "execution_count": null,
      "metadata": {
        "id": "NxGKyBeHyUxE"
      },
      "outputs": [],
      "source": [
        "x_train1, y_train1 = create_sequence(train_data,30)\n",
        "x_test1, y_test1 = create_sequence(test_data,30)\n",
        "\n",
        "print(x_train1.shape, x_test1.shape)"
      ]
    },
    {
      "cell_type": "code",
      "execution_count": null,
      "metadata": {
        "id": "gzkaJmyuyh7k"
      },
      "outputs": [],
      "source": [
        "history = model.fit(x_train1, y_train1, epochs =10, validation_data = (x_test1, y_test1), verbose = 1)"
      ]
    }
  ],
  "metadata": {
    "colab": {
      "name": "SRP.ipynb",
      "provenance": [],
      "authorship_tag": "ABX9TyO3brdU9oA7u1GYpKmvsyZ3",
      "include_colab_link": true
    },
    "kernelspec": {
      "display_name": "Python 3",
      "name": "python3"
    },
    "language_info": {
      "name": "python"
    }
  },
  "nbformat": 4,
  "nbformat_minor": 0
}