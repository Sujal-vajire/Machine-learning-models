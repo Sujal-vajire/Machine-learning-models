{
  "nbformat": 4,
  "nbformat_minor": 0,
  "metadata": {
    "colab": {
      "name": "Transformer50Epoch.ipynb",
      "provenance": [],
      "authorship_tag": "ABX9TyOpA02rVEW4PuHxNAJOvyhJ",
      "include_colab_link": true
    },
    "kernelspec": {
      "name": "python3",
      "display_name": "Python 3"
    },
    "language_info": {
      "name": "python"
    }
  },
  "cells": [
    {
      "cell_type": "markdown",
      "metadata": {
        "id": "view-in-github",
        "colab_type": "text"
      },
      "source": [
        "<a href=\"https://colab.research.google.com/github/Sujal-vajire/Machine-learning-models/blob/main/Transformer50Epoch.ipynb\" target=\"_parent\"><img src=\"https://colab.research.google.com/assets/colab-badge.svg\" alt=\"Open In Colab\"/></a>"
      ]
    },
    {
      "cell_type": "code",
      "execution_count": 1,
      "metadata": {
        "colab": {
          "base_uri": "https://localhost:8080/"
        },
        "id": "NWMpYyKCy4ti",
        "outputId": "457098a0-7e3b-474c-c67e-a0729f9600b8"
      },
      "outputs": [
        {
          "output_type": "stream",
          "name": "stdout",
          "text": [
            "Tensorflow version: 2.8.2\n"
          ]
        }
      ],
      "source": [
        "import numpy as np\n",
        "import pandas as pd\n",
        "import os, datetime\n",
        "import tensorflow as tf\n",
        "from tensorflow.keras.models import *\n",
        "from tensorflow.keras.layers import *\n",
        "print('Tensorflow version: {}'.format(tf.__version__))\n",
        "\n",
        "import matplotlib.pyplot as plt"
      ]
    },
    {
      "cell_type": "code",
      "source": [
        "class Time2Vector(Layer):\n",
        "    def __init__(self, seq_len, **kwargs):\n",
        "        super(Time2Vector, self).__init__()\n",
        "        self.seq_len = seq_len\n",
        "\n",
        "    def build(self, input_shape):\n",
        "        '''Initialize weights and biases with shape (batch, seq_len)'''\n",
        "        self.weights_linear = self.add_weight(name='weight_linear',\n",
        "                                              shape=(int(self.seq_len),),\n",
        "                                              initializer='uniform',\n",
        "                                              trainable=True)\n",
        "\n",
        "        self.bias_linear = self.add_weight(name='bias_linear',\n",
        "                                           shape=(int(self.seq_len),),\n",
        "                                           initializer='uniform',\n",
        "                                           trainable=True)\n",
        "\n",
        "        self.weights_periodic = self.add_weight(name='weight_periodic',\n",
        "                                                shape=(int(self.seq_len),),\n",
        "                                                initializer='uniform',\n",
        "                                                trainable=True)\n",
        "\n",
        "        self.bias_periodic = self.add_weight(name='bias_periodic',\n",
        "                                             shape=(int(self.seq_len),),\n",
        "                                             initializer='uniform',\n",
        "                                             trainable=True)\n",
        "\n",
        "    def call(self, x):\n",
        "        '''Calculate linear and periodic time features'''\n",
        "        x = tf.math.reduce_mean(x[:, :, :4], axis=-1)\n",
        "        time_linear = self.weights_linear * x + self.bias_linear  # Linear time feature\n",
        "        time_linear = tf.expand_dims(time_linear, axis=-1)  # Add dimension (batch, seq_len, 1)\n",
        "\n",
        "        time_periodic = tf.math.sin(tf.multiply(x, self.weights_periodic) + self.bias_periodic)\n",
        "        time_periodic = tf.expand_dims(time_periodic, axis=-1)  # Add dimension (batch, seq_len, 1)\n",
        "        return tf.concat([time_linear, time_periodic], axis=-1)  # shape = (batch, seq_len, 2)\n",
        "\n",
        "    def get_config(self):  # Needed for saving and loading model with custom layer\n",
        "        config = super().get_config().copy()\n",
        "        config.update({'seq_len': self.seq_len})\n",
        "        return config"
      ],
      "metadata": {
        "id": "fk6yaPGay-wN"
      },
      "execution_count": 2,
      "outputs": []
    },
    {
      "cell_type": "code",
      "source": [
        "class SingleAttention(Layer):\n",
        "    def __init__(self, d_k, d_v):\n",
        "        super(SingleAttention, self).__init__()\n",
        "        self.d_k = d_k\n",
        "        self.d_v = d_v\n",
        "\n",
        "    def build(self, input_shape):\n",
        "        self.query = Dense(self.d_k,\n",
        "                           input_shape=input_shape,\n",
        "                           kernel_initializer='glorot_uniform',\n",
        "                           bias_initializer='glorot_uniform')\n",
        "\n",
        "        self.key = Dense(self.d_k,\n",
        "                         input_shape=input_shape,\n",
        "                         kernel_initializer='glorot_uniform',\n",
        "                         bias_initializer='glorot_uniform')\n",
        "\n",
        "        self.value = Dense(self.d_v,\n",
        "                           input_shape=input_shape,\n",
        "                           kernel_initializer='glorot_uniform',\n",
        "                           bias_initializer='glorot_uniform')\n",
        "\n",
        "    def call(self, inputs):  # inputs = (in_seq, in_seq, in_seq)\n",
        "        q = self.query(inputs[0])\n",
        "        k = self.key(inputs[1])\n",
        "\n",
        "        attn_weights = tf.matmul(q, k, transpose_b=True)\n",
        "        attn_weights = tf.map_fn(lambda x: x / np.sqrt(self.d_k), attn_weights)\n",
        "        attn_weights = tf.nn.softmax(attn_weights, axis=-1)\n",
        "\n",
        "        v = self.value(inputs[2])\n",
        "        attn_out = tf.matmul(attn_weights, v)\n",
        "        return attn_out"
      ],
      "metadata": {
        "id": "PtxkUfvny-zF"
      },
      "execution_count": 3,
      "outputs": []
    },
    {
      "cell_type": "code",
      "source": [
        "class MultiAttention(Layer):\n",
        "    def __init__(self, d_k, d_v, n_heads):\n",
        "        super(MultiAttention, self).__init__()\n",
        "        self.d_k = d_k\n",
        "        self.d_v = d_v\n",
        "        self.n_heads = n_heads\n",
        "        self.attn_heads = list()\n",
        "\n",
        "    def build(self, input_shape):\n",
        "        for n in range(self.n_heads):\n",
        "            self.attn_heads.append(SingleAttention(self.d_k, self.d_v))\n",
        "\n",
        "            # input_shape[0]=(batch, seq_len, 7), input_shape[0][-1]=7\n",
        "        self.linear = Dense(input_shape[0][-1],\n",
        "                            input_shape=input_shape,\n",
        "                            kernel_initializer='glorot_uniform',\n",
        "                            bias_initializer='glorot_uniform')\n",
        "\n",
        "    def call(self, inputs):\n",
        "        attn = [self.attn_heads[i](inputs) for i in range(self.n_heads)]\n",
        "        concat_attn = tf.concat(attn, axis=-1)\n",
        "        multi_linear = self.linear(concat_attn)\n",
        "        return multi_linear"
      ],
      "metadata": {
        "id": "doE-znixy-5a"
      },
      "execution_count": 4,
      "outputs": []
    },
    {
      "cell_type": "code",
      "source": [
        "class TransformerEncoder(Layer):\n",
        "    def __init__(self, d_k, d_v, n_heads, ff_dim, dropout=0.1, **kwargs):\n",
        "        super(TransformerEncoder, self).__init__()\n",
        "        self.d_k = d_k\n",
        "        self.d_v = d_v\n",
        "        self.n_heads = n_heads\n",
        "        self.ff_dim = ff_dim\n",
        "        self.attn_heads = list()\n",
        "        self.dropout_rate = dropout\n",
        "\n",
        "    def build(self, input_shape):\n",
        "        self.attn_multi = MultiAttention(self.d_k, self.d_v, self.n_heads)\n",
        "        self.attn_dropout = Dropout(self.dropout_rate)\n",
        "        self.attn_normalize = LayerNormalization(input_shape=input_shape, epsilon=1e-6)\n",
        "\n",
        "        self.ff_conv1D_1 = Conv1D(filters=self.ff_dim, kernel_size=1, activation='relu')\n",
        "        # input_shape[0]=(batch, seq_len, 7), input_shape[0][-1] = 7\n",
        "        self.ff_conv1D_2 = Conv1D(filters=input_shape[0][-1], kernel_size=1)\n",
        "        self.ff_dropout = Dropout(self.dropout_rate)\n",
        "        self.ff_normalize = LayerNormalization(input_shape=input_shape, epsilon=1e-6)\n",
        "\n",
        "    def call(self, inputs):  # inputs = (in_seq, in_seq, in_seq)\n",
        "        attn_layer = self.attn_multi(inputs)\n",
        "        attn_layer = self.attn_dropout(attn_layer)\n",
        "        attn_layer = self.attn_normalize(inputs[0] + attn_layer)\n",
        "\n",
        "        ff_layer = self.ff_conv1D_1(attn_layer)\n",
        "        ff_layer = self.ff_conv1D_2(ff_layer)\n",
        "        ff_layer = self.ff_dropout(ff_layer)\n",
        "        ff_layer = self.ff_normalize(inputs[0] + ff_layer)\n",
        "        return ff_layer\n",
        "\n",
        "    def get_config(self):  # Needed for saving and loading model with custom layer\n",
        "        config = super().get_config().copy()\n",
        "        config.update({'d_k': self.d_k,\n",
        "                       'd_v': self.d_v,\n",
        "                       'n_heads': self.n_heads,\n",
        "                       'ff_dim': self.ff_dim,\n",
        "                       'attn_heads': self.attn_heads,\n",
        "                       'dropout_rate': self.dropout_rate})\n",
        "        return config"
      ],
      "metadata": {
        "id": "uNF4Hb-Qy-7w"
      },
      "execution_count": 5,
      "outputs": []
    },
    {
      "cell_type": "code",
      "source": [
        "data = pd.read_csv('solar.csv',)"
      ],
      "metadata": {
        "id": "QkED_vPZy--i"
      },
      "execution_count": 6,
      "outputs": []
    },
    {
      "cell_type": "code",
      "source": [
        "data = data[['Data','Radiation']].iloc[:31000,:]\n",
        "data.set_index('Data',drop=True,inplace=True)\n",
        "data.tail()"
      ],
      "metadata": {
        "colab": {
          "base_uri": "https://localhost:8080/",
          "height": 235
        },
        "id": "IdA7Ri-Gy_BM",
        "outputId": "8cdc1f31-edd3-45b4-b867-3527ff4b4868"
      },
      "execution_count": 7,
      "outputs": [
        {
          "output_type": "execute_result",
          "data": {
            "text/plain": [
              "                  Radiation\n",
              "Data                       \n",
              "12-09-2016 00:00     120.52\n",
              "12-09-2016 00:00     107.32\n",
              "12-09-2016 00:00     144.85\n",
              "12-09-2016 00:00     179.73\n",
              "12-09-2016 00:00     193.00"
            ],
            "text/html": [
              "\n",
              "  <div id=\"df-fe10aca9-b274-48ed-94e9-bf53babc0da5\">\n",
              "    <div class=\"colab-df-container\">\n",
              "      <div>\n",
              "<style scoped>\n",
              "    .dataframe tbody tr th:only-of-type {\n",
              "        vertical-align: middle;\n",
              "    }\n",
              "\n",
              "    .dataframe tbody tr th {\n",
              "        vertical-align: top;\n",
              "    }\n",
              "\n",
              "    .dataframe thead th {\n",
              "        text-align: right;\n",
              "    }\n",
              "</style>\n",
              "<table border=\"1\" class=\"dataframe\">\n",
              "  <thead>\n",
              "    <tr style=\"text-align: right;\">\n",
              "      <th></th>\n",
              "      <th>Radiation</th>\n",
              "    </tr>\n",
              "    <tr>\n",
              "      <th>Data</th>\n",
              "      <th></th>\n",
              "    </tr>\n",
              "  </thead>\n",
              "  <tbody>\n",
              "    <tr>\n",
              "      <th>12-09-2016 00:00</th>\n",
              "      <td>120.52</td>\n",
              "    </tr>\n",
              "    <tr>\n",
              "      <th>12-09-2016 00:00</th>\n",
              "      <td>107.32</td>\n",
              "    </tr>\n",
              "    <tr>\n",
              "      <th>12-09-2016 00:00</th>\n",
              "      <td>144.85</td>\n",
              "    </tr>\n",
              "    <tr>\n",
              "      <th>12-09-2016 00:00</th>\n",
              "      <td>179.73</td>\n",
              "    </tr>\n",
              "    <tr>\n",
              "      <th>12-09-2016 00:00</th>\n",
              "      <td>193.00</td>\n",
              "    </tr>\n",
              "  </tbody>\n",
              "</table>\n",
              "</div>\n",
              "      <button class=\"colab-df-convert\" onclick=\"convertToInteractive('df-fe10aca9-b274-48ed-94e9-bf53babc0da5')\"\n",
              "              title=\"Convert this dataframe to an interactive table.\"\n",
              "              style=\"display:none;\">\n",
              "        \n",
              "  <svg xmlns=\"http://www.w3.org/2000/svg\" height=\"24px\"viewBox=\"0 0 24 24\"\n",
              "       width=\"24px\">\n",
              "    <path d=\"M0 0h24v24H0V0z\" fill=\"none\"/>\n",
              "    <path d=\"M18.56 5.44l.94 2.06.94-2.06 2.06-.94-2.06-.94-.94-2.06-.94 2.06-2.06.94zm-11 1L8.5 8.5l.94-2.06 2.06-.94-2.06-.94L8.5 2.5l-.94 2.06-2.06.94zm10 10l.94 2.06.94-2.06 2.06-.94-2.06-.94-.94-2.06-.94 2.06-2.06.94z\"/><path d=\"M17.41 7.96l-1.37-1.37c-.4-.4-.92-.59-1.43-.59-.52 0-1.04.2-1.43.59L10.3 9.45l-7.72 7.72c-.78.78-.78 2.05 0 2.83L4 21.41c.39.39.9.59 1.41.59.51 0 1.02-.2 1.41-.59l7.78-7.78 2.81-2.81c.8-.78.8-2.07 0-2.86zM5.41 20L4 18.59l7.72-7.72 1.47 1.35L5.41 20z\"/>\n",
              "  </svg>\n",
              "      </button>\n",
              "      \n",
              "  <style>\n",
              "    .colab-df-container {\n",
              "      display:flex;\n",
              "      flex-wrap:wrap;\n",
              "      gap: 12px;\n",
              "    }\n",
              "\n",
              "    .colab-df-convert {\n",
              "      background-color: #E8F0FE;\n",
              "      border: none;\n",
              "      border-radius: 50%;\n",
              "      cursor: pointer;\n",
              "      display: none;\n",
              "      fill: #1967D2;\n",
              "      height: 32px;\n",
              "      padding: 0 0 0 0;\n",
              "      width: 32px;\n",
              "    }\n",
              "\n",
              "    .colab-df-convert:hover {\n",
              "      background-color: #E2EBFA;\n",
              "      box-shadow: 0px 1px 2px rgba(60, 64, 67, 0.3), 0px 1px 3px 1px rgba(60, 64, 67, 0.15);\n",
              "      fill: #174EA6;\n",
              "    }\n",
              "\n",
              "    [theme=dark] .colab-df-convert {\n",
              "      background-color: #3B4455;\n",
              "      fill: #D2E3FC;\n",
              "    }\n",
              "\n",
              "    [theme=dark] .colab-df-convert:hover {\n",
              "      background-color: #434B5C;\n",
              "      box-shadow: 0px 1px 3px 1px rgba(0, 0, 0, 0.15);\n",
              "      filter: drop-shadow(0px 1px 2px rgba(0, 0, 0, 0.3));\n",
              "      fill: #FFFFFF;\n",
              "    }\n",
              "  </style>\n",
              "\n",
              "      <script>\n",
              "        const buttonEl =\n",
              "          document.querySelector('#df-fe10aca9-b274-48ed-94e9-bf53babc0da5 button.colab-df-convert');\n",
              "        buttonEl.style.display =\n",
              "          google.colab.kernel.accessAllowed ? 'block' : 'none';\n",
              "\n",
              "        async function convertToInteractive(key) {\n",
              "          const element = document.querySelector('#df-fe10aca9-b274-48ed-94e9-bf53babc0da5');\n",
              "          const dataTable =\n",
              "            await google.colab.kernel.invokeFunction('convertToInteractive',\n",
              "                                                     [key], {});\n",
              "          if (!dataTable) return;\n",
              "\n",
              "          const docLinkHtml = 'Like what you see? Visit the ' +\n",
              "            '<a target=\"_blank\" href=https://colab.research.google.com/notebooks/data_table.ipynb>data table notebook</a>'\n",
              "            + ' to learn more about interactive tables.';\n",
              "          element.innerHTML = '';\n",
              "          dataTable['output_type'] = 'display_data';\n",
              "          await google.colab.output.renderOutput(dataTable, element);\n",
              "          const docLink = document.createElement('div');\n",
              "          docLink.innerHTML = docLinkHtml;\n",
              "          element.appendChild(docLink);\n",
              "        }\n",
              "      </script>\n",
              "    </div>\n",
              "  </div>\n",
              "  "
            ]
          },
          "metadata": {},
          "execution_count": 7
        }
      ]
    },
    {
      "cell_type": "code",
      "source": [
        "from sklearn.preprocessing import MinMaxScaler\n",
        "input_length = 50\n",
        "output_length = 1\n",
        "test_percentage = 0.2\n",
        "dataset = data['Radiation'].to_numpy()\n",
        "\n",
        "scaler = MinMaxScaler()\n",
        "dataset_norm = scaler.fit_transform(dataset.reshape(-1, 1)).flatten()\n",
        "dataset_list = []\n",
        "for i in range(len(dataset) - input_length - output_length):\n",
        "    dataset_list.append(dataset_norm[i:i + input_length + output_length])\n",
        "dataset_list = np.array(dataset_list)\n",
        "trainset = dataset_list[:int(len(dataset_list) * (1 - test_percentage))]\n",
        "testset = dataset_list[int(len(dataset_list) * (1 - test_percentage)):]\n",
        "\n",
        "x_train = trainset[:, :-1]\n",
        "y_train = trainset[:, -1:]\n",
        "x_test = testset[:, :-1]\n",
        "y_test = testset[:, -1:]\n",
        "\n",
        "print('x_train.shape:' + str(x_train.shape))\n",
        "print('y_train.shape:' + str(y_train.shape))\n",
        "print('x_test.shape:' + str(x_test.shape))\n",
        "print('y_test.shape' + str(y_test.shape))"
      ],
      "metadata": {
        "colab": {
          "base_uri": "https://localhost:8080/"
        },
        "id": "13uzdEwzy_Di",
        "outputId": "4efa9369-e3d6-4f8c-944f-c9f0755c56af"
      },
      "execution_count": 49,
      "outputs": [
        {
          "output_type": "stream",
          "name": "stdout",
          "text": [
            "x_train.shape:(24759, 50)\n",
            "y_train.shape:(24759, 1)\n",
            "x_test.shape:(6190, 50)\n",
            "y_test.shape(6190, 1)\n"
          ]
        }
      ]
    },
    {
      "cell_type": "code",
      "source": [
        "batch_size = 25\n",
        "seq_len = 50\n",
        "\n",
        "d_k = 25\n",
        "d_v = 25\n",
        "n_heads = 2\n",
        "ff_dim = 25"
      ],
      "metadata": {
        "id": "jDsj24Lby_GK"
      },
      "execution_count": 9,
      "outputs": []
    },
    {
      "cell_type": "code",
      "source": [
        "time_embedding_c = Time2Vector(seq_len)\n",
        "attn_layer1_c = TransformerEncoder(d_k, d_v, n_heads, ff_dim)\n",
        "attn_layer2_c = TransformerEncoder(d_k, d_v, n_heads, ff_dim)\n",
        "attn_layer3_c = TransformerEncoder(d_k, d_v, n_heads, ff_dim)\n",
        "\n",
        "in_seq_c = Input(shape=(seq_len, 1))\n",
        "x_c = time_embedding_c(in_seq_c)\n",
        "x_c = Concatenate(axis=-1)([in_seq_c, x_c])\n",
        "x_c = attn_layer1_c((x_c, x_c, x_c))\n",
        "x_c = attn_layer2_c((x_c, x_c, x_c))\n",
        "x_c = attn_layer3_c((x_c, x_c, x_c))\n",
        "x_c = GlobalAveragePooling1D(data_format='channels_first')(x_c)\n",
        "x_c = Dropout(0.1)(x_c)\n",
        "x_c = Dense(64, activation='relu')(x_c)\n",
        "x_c = Dropout(0.1)(x_c)\n",
        "out_c = Dense(1, activation='linear')(x_c)\n",
        "\n",
        "model = Model(inputs=[in_seq_c], outputs=[out_c])\n",
        "\n",
        "model.compile(loss='mse', optimizer='adam', metrics=['mae', 'mape'])\n"
      ],
      "metadata": {
        "id": "YfRVS3gay_I2"
      },
      "execution_count": 10,
      "outputs": []
    },
    {
      "cell_type": "code",
      "source": [
        "print(model.summary())"
      ],
      "metadata": {
        "colab": {
          "base_uri": "https://localhost:8080/"
        },
        "id": "oLGL6rk6y_Lc",
        "outputId": "9b8d078f-2674-4dc9-8d8f-f85a7182cd9a"
      },
      "execution_count": 11,
      "outputs": [
        {
          "output_type": "stream",
          "name": "stdout",
          "text": [
            "Model: \"model\"\n",
            "__________________________________________________________________________________________________\n",
            " Layer (type)                   Output Shape         Param #     Connected to                     \n",
            "==================================================================================================\n",
            " input_1 (InputLayer)           [(None, 50, 1)]      0           []                               \n",
            "                                                                                                  \n",
            " time2_vector (Time2Vector)     (None, 50, 2)        200         ['input_1[0][0]']                \n",
            "                                                                                                  \n",
            " concatenate (Concatenate)      (None, 50, 3)        0           ['input_1[0][0]',                \n",
            "                                                                  'time2_vector[0][0]']           \n",
            "                                                                                                  \n",
            " transformer_encoder (Transform  (None, 50, 3)       943         ['concatenate[0][0]',            \n",
            " erEncoder)                                                       'concatenate[0][0]',            \n",
            "                                                                  'concatenate[0][0]']            \n",
            "                                                                                                  \n",
            " transformer_encoder_1 (Transfo  (None, 50, 3)       943         ['transformer_encoder[0][0]',    \n",
            " rmerEncoder)                                                     'transformer_encoder[0][0]',    \n",
            "                                                                  'transformer_encoder[0][0]']    \n",
            "                                                                                                  \n",
            " transformer_encoder_2 (Transfo  (None, 50, 3)       943         ['transformer_encoder_1[0][0]',  \n",
            " rmerEncoder)                                                     'transformer_encoder_1[0][0]',  \n",
            "                                                                  'transformer_encoder_1[0][0]']  \n",
            "                                                                                                  \n",
            " global_average_pooling1d (Glob  (None, 50)          0           ['transformer_encoder_2[0][0]']  \n",
            " alAveragePooling1D)                                                                              \n",
            "                                                                                                  \n",
            " dropout (Dropout)              (None, 50)           0           ['global_average_pooling1d[0][0]'\n",
            "                                                                 ]                                \n",
            "                                                                                                  \n",
            " dense (Dense)                  (None, 64)           3264        ['dropout[0][0]']                \n",
            "                                                                                                  \n",
            " dropout_1 (Dropout)            (None, 64)           0           ['dense[0][0]']                  \n",
            "                                                                                                  \n",
            " dense_1 (Dense)                (None, 1)            65          ['dropout_1[0][0]']              \n",
            "                                                                                                  \n",
            "==================================================================================================\n",
            "Total params: 6,358\n",
            "Trainable params: 6,358\n",
            "Non-trainable params: 0\n",
            "__________________________________________________________________________________________________\n",
            "None\n"
          ]
        }
      ]
    },
    {
      "cell_type": "code",
      "source": [
        "history = model.fit([x_train],[y_train],\n",
        "                    batch_size=batch_size,\n",
        "                    epochs=50)"
      ],
      "metadata": {
        "colab": {
          "base_uri": "https://localhost:8080/"
        },
        "id": "AsHkTJ84y_OU",
        "outputId": "f666d104-a1e8-4a27-b501-b26c2892805e"
      },
      "execution_count": 36,
      "outputs": [
        {
          "output_type": "stream",
          "name": "stdout",
          "text": [
            "Epoch 1/50\n",
            "991/991 [==============================] - 40s 40ms/step - loss: 0.0033 - mae: 0.0283 - mape: 4555.4009\n",
            "Epoch 2/50\n",
            "991/991 [==============================] - 33s 34ms/step - loss: 0.0033 - mae: 0.0282 - mape: 4383.2988\n",
            "Epoch 3/50\n",
            "991/991 [==============================] - 35s 35ms/step - loss: 0.0033 - mae: 0.0285 - mape: 4313.1821\n",
            "Epoch 4/50\n",
            "991/991 [==============================] - 38s 38ms/step - loss: 0.0041 - mae: 0.0350 - mape: 6751.1982\n",
            "Epoch 5/50\n",
            "991/991 [==============================] - 35s 36ms/step - loss: 0.0037 - mae: 0.0321 - mape: 5959.7109\n",
            "Epoch 6/50\n",
            "991/991 [==============================] - 34s 34ms/step - loss: 0.0035 - mae: 0.0304 - mape: 5495.3413\n",
            "Epoch 7/50\n",
            "991/991 [==============================] - 35s 35ms/step - loss: 0.0035 - mae: 0.0302 - mape: 5482.6294\n",
            "Epoch 8/50\n",
            "991/991 [==============================] - 34s 35ms/step - loss: 0.0034 - mae: 0.0299 - mape: 5348.0547\n",
            "Epoch 9/50\n",
            "991/991 [==============================] - 35s 35ms/step - loss: 0.0033 - mae: 0.0294 - mape: 5286.5566\n",
            "Epoch 10/50\n",
            "991/991 [==============================] - 34s 34ms/step - loss: 0.0034 - mae: 0.0292 - mape: 5094.2593\n",
            "Epoch 11/50\n",
            "991/991 [==============================] - 34s 34ms/step - loss: 0.0033 - mae: 0.0288 - mape: 4907.4727\n",
            "Epoch 12/50\n",
            "991/991 [==============================] - 36s 36ms/step - loss: 0.0034 - mae: 0.0295 - mape: 5144.0796\n",
            "Epoch 13/50\n",
            "991/991 [==============================] - 34s 34ms/step - loss: 0.0033 - mae: 0.0294 - mape: 5360.6616\n",
            "Epoch 14/50\n",
            "991/991 [==============================] - 34s 34ms/step - loss: 0.0033 - mae: 0.0292 - mape: 5002.9780\n",
            "Epoch 15/50\n",
            "991/991 [==============================] - 34s 35ms/step - loss: 0.0033 - mae: 0.0291 - mape: 4764.9219\n",
            "Epoch 16/50\n",
            "991/991 [==============================] - 34s 35ms/step - loss: 0.0033 - mae: 0.0288 - mape: 5034.4414\n",
            "Epoch 17/50\n",
            "991/991 [==============================] - 35s 35ms/step - loss: 0.0033 - mae: 0.0289 - mape: 4968.4009\n",
            "Epoch 18/50\n",
            "991/991 [==============================] - 35s 35ms/step - loss: 0.0033 - mae: 0.0291 - mape: 4932.7231\n",
            "Epoch 19/50\n",
            "991/991 [==============================] - 34s 34ms/step - loss: 0.0033 - mae: 0.0286 - mape: 4606.5918\n",
            "Epoch 20/50\n",
            "991/991 [==============================] - 34s 34ms/step - loss: 0.0033 - mae: 0.0291 - mape: 4764.9136\n",
            "Epoch 21/50\n",
            "991/991 [==============================] - 34s 34ms/step - loss: 0.0033 - mae: 0.0287 - mape: 4711.2817\n",
            "Epoch 22/50\n",
            "991/991 [==============================] - 34s 34ms/step - loss: 0.0033 - mae: 0.0285 - mape: 4769.1953\n",
            "Epoch 23/50\n",
            "991/991 [==============================] - 34s 34ms/step - loss: 0.0032 - mae: 0.0283 - mape: 4601.9775\n",
            "Epoch 24/50\n",
            "991/991 [==============================] - 35s 35ms/step - loss: 0.0032 - mae: 0.0282 - mape: 4450.1670\n",
            "Epoch 25/50\n",
            "991/991 [==============================] - 35s 35ms/step - loss: 0.0033 - mae: 0.0286 - mape: 4689.9761\n",
            "Epoch 26/50\n",
            "991/991 [==============================] - 34s 34ms/step - loss: 0.0032 - mae: 0.0282 - mape: 4490.5625\n",
            "Epoch 27/50\n",
            "991/991 [==============================] - 34s 34ms/step - loss: 0.0033 - mae: 0.0289 - mape: 4831.4600\n",
            "Epoch 28/50\n",
            "991/991 [==============================] - 35s 35ms/step - loss: 0.0033 - mae: 0.0281 - mape: 4468.0488\n",
            "Epoch 29/50\n",
            "991/991 [==============================] - 35s 35ms/step - loss: 0.0033 - mae: 0.0290 - mape: 4710.7236\n",
            "Epoch 30/50\n",
            "991/991 [==============================] - 34s 35ms/step - loss: 0.0032 - mae: 0.0285 - mape: 4739.6187\n",
            "Epoch 31/50\n",
            "991/991 [==============================] - 35s 35ms/step - loss: 0.0034 - mae: 0.0286 - mape: 4342.0215\n",
            "Epoch 32/50\n",
            "991/991 [==============================] - 35s 36ms/step - loss: 0.0033 - mae: 0.0283 - mape: 4547.8501\n",
            "Epoch 33/50\n",
            "991/991 [==============================] - 36s 36ms/step - loss: 0.0033 - mae: 0.0285 - mape: 4630.5391\n",
            "Epoch 34/50\n",
            "991/991 [==============================] - 35s 35ms/step - loss: 0.0033 - mae: 0.0284 - mape: 4562.9141\n",
            "Epoch 35/50\n",
            "991/991 [==============================] - 35s 36ms/step - loss: 0.0033 - mae: 0.0286 - mape: 4852.3594\n",
            "Epoch 36/50\n",
            "991/991 [==============================] - 35s 35ms/step - loss: 0.0032 - mae: 0.0288 - mape: 4971.9712\n",
            "Epoch 37/50\n",
            "991/991 [==============================] - 35s 35ms/step - loss: 0.0032 - mae: 0.0282 - mape: 4656.6562\n",
            "Epoch 38/50\n",
            "991/991 [==============================] - 35s 35ms/step - loss: 0.0032 - mae: 0.0284 - mape: 4653.8462\n",
            "Epoch 39/50\n",
            "991/991 [==============================] - 35s 35ms/step - loss: 0.0032 - mae: 0.0280 - mape: 4406.9238\n",
            "Epoch 40/50\n",
            "991/991 [==============================] - 36s 36ms/step - loss: 0.0032 - mae: 0.0280 - mape: 4450.9590\n",
            "Epoch 41/50\n",
            "991/991 [==============================] - 35s 35ms/step - loss: 0.0032 - mae: 0.0283 - mape: 4759.2500\n",
            "Epoch 42/50\n",
            "991/991 [==============================] - 36s 36ms/step - loss: 0.0032 - mae: 0.0278 - mape: 4323.2871\n",
            "Epoch 43/50\n",
            "991/991 [==============================] - 37s 38ms/step - loss: 0.0032 - mae: 0.0279 - mape: 4422.6147\n",
            "Epoch 44/50\n",
            "991/991 [==============================] - 36s 36ms/step - loss: 0.0032 - mae: 0.0275 - mape: 4078.0452\n",
            "Epoch 45/50\n",
            "991/991 [==============================] - 37s 37ms/step - loss: 0.0032 - mae: 0.0278 - mape: 4272.3525\n",
            "Epoch 46/50\n",
            "991/991 [==============================] - 37s 38ms/step - loss: 0.0032 - mae: 0.0280 - mape: 4413.0747\n",
            "Epoch 47/50\n",
            "991/991 [==============================] - 36s 36ms/step - loss: 0.0031 - mae: 0.0275 - mape: 4183.2358\n",
            "Epoch 48/50\n",
            "991/991 [==============================] - 36s 36ms/step - loss: 0.0032 - mae: 0.0278 - mape: 4317.8369\n",
            "Epoch 49/50\n",
            "991/991 [==============================] - 35s 35ms/step - loss: 0.0032 - mae: 0.0274 - mape: 4392.0059\n",
            "Epoch 50/50\n",
            "991/991 [==============================] - 36s 36ms/step - loss: 0.0032 - mae: 0.0281 - mape: 4546.7529\n"
          ]
        }
      ]
    },
    {
      "cell_type": "code",
      "source": [
        "from sklearn.metrics import mean_squared_error\n",
        "y_predict = model.predict(x_test)\n",
        "scaler1=MinMaxScaler(feature_range=(0,0.6))\n",
        "predicted1=scaler1.fit_transform(y_predict)"
      ],
      "metadata": {
        "id": "AM4lE8vmJHUG"
      },
      "execution_count": 108,
      "outputs": []
    },
    {
      "cell_type": "code",
      "source": [
        "fig=plt.figure(figsize=(20,5))\n",
        "plt.figure(1)\n",
        "plt.plot(y_test, label='real')\n",
        "plt.plot(predicted1, label='prediction')\n",
        "plt.xlabel('MSE Error: {}'.format(mean_squared_error(y_test, predicted1)))\n",
        "plt.legend()\n",
        "plt.title('Prediction result')\n",
        "plt.show()"
      ],
      "metadata": {
        "colab": {
          "base_uri": "https://localhost:8080/",
          "height": 311
        },
        "id": "tYFwl0SkHlOa",
        "outputId": "03255283-d6fe-4ea1-e174-ded5c706bbce"
      },
      "execution_count": 109,
      "outputs": [
        {
          "output_type": "display_data",
          "data": {
            "text/plain": [
              "<Figure size 1440x360 with 1 Axes>"
            ],
            "image/png": "[encoded data removed]"
          },
          "metadata": {
            "needs_background": "light"
          }
        }
      ]
    },
    {
      "cell_type": "code",
      "source": [
        "fig=plt.figure(figsize=(20,5))\n",
        "plt.subplot(1,2,1)\n",
        "plt.plot(np.arange(3100,3700),predicted1[3100:3700],label='Radiation, predicted')\n",
        "plt.plot(np.arange(3100,3700),y_test[3100:3700],label=\"Radiation\")\n",
        "plt.legend()"
      ],
      "metadata": {
        "colab": {
          "base_uri": "https://localhost:8080/",
          "height": 337
        },
        "id": "KZZbmjMAGben",
        "outputId": "ccb3da83-78db-4c6e-b6ef-b76f5471771c"
      },
      "execution_count": 110,
      "outputs": [
        {
          "output_type": "execute_result",
          "data": {
            "text/plain": [
              "<matplotlib.legend.Legend at 0x7f282f934110>"
            ]
          },
          "metadata": {},
          "execution_count": 110
        },
        {
          "output_type": "display_data",
          "data": {
            "text/plain": [
              "<Figure size 1440x360 with 1 Axes>"
            ],
            "image/png": "[encoded data removed]"
          },
          "metadata": {
            "needs_background": "light"
          }
        }
      ]
    },
    {
      "cell_type": "code",
      "source": [
        "from sklearn import metrics\n",
        "score = metrics.mean_squared_error(y_test, predicted1)\n",
        "print(\"Final score (MSE): {}\".format(score))"
      ],
      "metadata": {
        "colab": {
          "base_uri": "https://localhost:8080/"
        },
        "id": "HMpYT-dUzdHr",
        "outputId": "a2f09ec9-ec56-4c75-ec44-bd92670b91a0"
      },
      "execution_count": 111,
      "outputs": [
        {
          "output_type": "stream",
          "name": "stdout",
          "text": [
            "Final score (MSE): 0.0015861592795514904\n"
          ]
        }
      ]
    },
    {
      "cell_type": "code",
      "source": [
        "from sklearn.metrics import mean_absolute_error\n",
        "MAE = mean_absolute_error(y_test, predicted1)\n",
        "print(\"Final score (MAE): {}\".format(MAE))"
      ],
      "metadata": {
        "colab": {
          "base_uri": "https://localhost:8080/"
        },
        "id": "EcIwsQZ9zdgG",
        "outputId": "a5fe4f8e-e11d-45e4-f227-8e91c565cc68"
      },
      "execution_count": 112,
      "outputs": [
        {
          "output_type": "stream",
          "name": "stdout",
          "text": [
            "Final score (MAE): 0.01634026433400471\n"
          ]
        }
      ]
    },
    {
      "cell_type": "code",
      "source": [
        "import numpy as np\n",
        "\n",
        "# Measure RMSE error.  RMSE is common for regression.\n",
        "score = np.sqrt(metrics.mean_squared_error(y_test, predicted1))\n",
        "print(\"Final score (RMSE): {}\".format(score))"
      ],
      "metadata": {
        "colab": {
          "base_uri": "https://localhost:8080/"
        },
        "id": "ImjLhjBfzdwV",
        "outputId": "253e8d09-8220-473d-acdb-15665b97e227"
      },
      "execution_count": 113,
      "outputs": [
        {
          "output_type": "stream",
          "name": "stdout",
          "text": [
            "Final score (RMSE): 0.03982661521585145\n"
          ]
        }
      ]
    },
    {
      "cell_type": "code",
      "source": [
        "from sklearn.metrics import r2_score\n",
        "R2 = r2_score(y_test, predicted1, multioutput='variance_weighted')\n",
        "print(\"Final score (R2): {}\".format(R2))"
      ],
      "metadata": {
        "colab": {
          "base_uri": "https://localhost:8080/"
        },
        "id": "cKgIWMsHzdzV",
        "outputId": "29025408-5aec-412b-d23d-ec9b21628d2e"
      },
      "execution_count": 114,
      "outputs": [
        {
          "output_type": "stream",
          "name": "stdout",
          "text": [
            "Final score (R2): 0.9436592872892373\n"
          ]
        }
      ]
    },
    {
      "cell_type": "code",
      "source": [
        "import pandas as pd\n",
        "from scipy.stats import skew\n",
        "from scipy.stats import kurtosis\n",
        "\n",
        "print(\"Final score (skew):\")\n",
        "print(skew(predicted1, axis=0, bias=True))"
      ],
      "metadata": {
        "colab": {
          "base_uri": "https://localhost:8080/"
        },
        "id": "Tl1_VuTYzncb",
        "outputId": "2171e2b4-659a-4441-a08b-6f40027a394d"
      },
      "execution_count": 115,
      "outputs": [
        {
          "output_type": "stream",
          "name": "stdout",
          "text": [
            "Final score (skew):\n",
            "[1.5293688]\n"
          ]
        }
      ]
    },
    {
      "cell_type": "code",
      "source": [
        "print(\"Final score (kurtosis):\")\n",
        "print(kurtosis(predicted1, axis=0, bias=True))"
      ],
      "metadata": {
        "colab": {
          "base_uri": "https://localhost:8080/"
        },
        "id": "uQsZ8URVzngR",
        "outputId": "8bb309c0-3e32-4359-e464-37724a7e7708"
      },
      "execution_count": 116,
      "outputs": [
        {
          "output_type": "stream",
          "name": "stdout",
          "text": [
            "Final score (kurtosis):\n",
            "[0.8905146]\n"
          ]
        }
      ]
    }
  ]
}