{
  "nbformat": 4,
  "nbformat_minor": 0,
  "metadata": {
    "colab": {
      "name": "Untitled0.ipynb",
      "provenance": [],
      "collapsed_sections": [],
      "include_colab_link": true
    },
    "kernelspec": {
      "name": "python3",
      "display_name": "Python 3"
    },
    "language_info": {
      "name": "python"
    }
  },
  "cells": [
    {
      "cell_type": "markdown",
      "metadata": {
        "id": "view-in-github",
        "colab_type": "text"
      },
      "source": [
        "<a href=\"https://colab.research.google.com/github/Sujal-vajire/Machine-learning-models/blob/main/KulwantSir.ipynb\" target=\"_parent\"><img src=\"https://colab.research.google.com/assets/colab-badge.svg\" alt=\"Open In Colab\"/></a>"
      ]
    },
    {
      "cell_type": "code",
      "execution_count": 1,
      "metadata": {
        "id": "XhAUWzFK6v5m"
      },
      "outputs": [],
      "source": [
        "import pandas as pd\n",
        "import numpy as np\n",
        "import matplotlib.pyplot as plt\n",
        "from sklearn.svm import SVC\n",
        "from sklearn.ensemble import RandomForestClassifier\n",
        "from sklearn.metrics import roc_curve,auc\n",
        "from sklearn.model_selection import train_test_split \n",
        "from xgboost import XGBRegressor\n",
        "import tensorflow as tf\n",
        "import xgboost as xgb\n",
        "import seaborn as sns\n",
        "from sklearn.preprocessing import MinMaxScaler"
      ]
    },
    {
      "cell_type": "code",
      "source": [
        "import numpy as np\n",
        "import matplotlib.pyplot as plt\n",
        "import sklearn  "
      ],
      "metadata": {
        "id": "iCl977okhp_j"
      },
      "execution_count": 2,
      "outputs": []
    },
    {
      "cell_type": "code",
      "source": [
        "from sklearn.linear_model import LinearRegression"
      ],
      "metadata": {
        "id": "pE-6c-7ShqD-"
      },
      "execution_count": 3,
      "outputs": []
    },
    {
      "cell_type": "code",
      "source": [
        "df = pd.read_csv(\"NewB.csv\")\n",
        "ld = df.drop(['Cap'], axis=1)"
      ],
      "metadata": {
        "id": "XqdTcB6B8h4n"
      },
      "execution_count": 4,
      "outputs": []
    },
    {
      "cell_type": "code",
      "source": [
        "Load = ld.iloc[:, :-1].values\n",
        "Dis = ld.iloc[:, -1].values"
      ],
      "metadata": {
        "id": "5aQ3NXRtmMfm"
      },
      "execution_count": 5,
      "outputs": []
    },
    {
      "cell_type": "code",
      "source": [
        "from sklearn.linear_model import LinearRegression\n",
        "regressor1 = LinearRegression()\n",
        "regressor1.fit(Load, Dis)\n"
      ],
      "metadata": {
        "id": "_Kl29M2nhqGr",
        "outputId": "b3a8a63b-79d4-47dc-9319-7103a6c9486b",
        "colab": {
          "base_uri": "https://localhost:8080/"
        }
      },
      "execution_count": 6,
      "outputs": [
        {
          "output_type": "execute_result",
          "data": {
            "text/plain": [
              "LinearRegression()"
            ]
          },
          "metadata": {},
          "execution_count": 6
        }
      ]
    },
    {
      "cell_type": "code",
      "source": [
        "Dis_pred = regressor1.predict(Load)"
      ],
      "metadata": {
        "id": "2QppBCl0lwJU"
      },
      "execution_count": 7,
      "outputs": []
    },
    {
      "cell_type": "code",
      "source": [
        "plt.plot(Load, Dis, color = 'red')\n",
        "plt.plot(Load, regressor1.predict(Load), color = 'blue')\n",
        "\n",
        "plt.show()"
      ],
      "metadata": {
        "id": "XgzGjPtTmaji",
        "outputId": "0e274b98-e241-48f8-a1c3-933b672dcccc",
        "colab": {
          "base_uri": "https://localhost:8080/",
          "height": 265
        }
      },
      "execution_count": 8,
      "outputs": [
        {
          "output_type": "display_data",
          "data": {
            "text/plain": [
              "<Figure size 432x288 with 1 Axes>"
            ],
            "image/png": "[encoded data removed]"
          },
          "metadata": {
            "needs_background": "light"
          }
        }
      ]
    },
    {
      "cell_type": "code",
      "source": [
        "dc = df.drop(['Load'], axis=1)"
      ],
      "metadata": {
        "id": "aXCyatYIhqOn"
      },
      "execution_count": 9,
      "outputs": []
    },
    {
      "cell_type": "code",
      "source": [
        "Cap = dc.iloc[:, -1].values"
      ],
      "metadata": {
        "id": "sDlf9SjFhqRo"
      },
      "execution_count": 10,
      "outputs": []
    },
    {
      "cell_type": "code",
      "source": [
        "Dis = Dis.reshape(-1, 1)\n",
        "Cap = Cap.reshape(-1, 1)"
      ],
      "metadata": {
        "id": "wlPcEmqas2_n"
      },
      "execution_count": 11,
      "outputs": []
    },
    {
      "cell_type": "code",
      "source": [
        "from sklearn.linear_model import LinearRegression\n",
        "regressor2 = LinearRegression()\n",
        "regressor2.fit(Dis, Cap)"
      ],
      "metadata": {
        "id": "LOkqO8j1hqW3",
        "outputId": "de361817-7cc2-4fba-d1d0-fe05aa9bfe3d",
        "colab": {
          "base_uri": "https://localhost:8080/"
        }
      },
      "execution_count": 12,
      "outputs": [
        {
          "output_type": "execute_result",
          "data": {
            "text/plain": [
              "LinearRegression()"
            ]
          },
          "metadata": {},
          "execution_count": 12
        }
      ]
    },
    {
      "cell_type": "code",
      "source": [
        "Cap_pred = regressor2.predict(Dis)"
      ],
      "metadata": {
        "id": "9WXFAlVahqZf"
      },
      "execution_count": 13,
      "outputs": []
    },
    {
      "cell_type": "code",
      "source": [
        "plt.plot(Dis, Cap, color = 'red')\n",
        "plt.plot(Dis, regressor2.predict(Dis), color = 'blue')\n",
        "\n",
        "plt.show()"
      ],
      "metadata": {
        "id": "TOr9_y20hqcG",
        "outputId": "d9870db8-5f43-444c-b4ac-8713c3c5f30e",
        "colab": {
          "base_uri": "https://localhost:8080/",
          "height": 265
        }
      },
      "execution_count": 14,
      "outputs": [
        {
          "output_type": "display_data",
          "data": {
            "text/plain": [
              "<Figure size 432x288 with 1 Axes>"
            ],
            "image/png": "[encoded data removed]"
          },
          "metadata": {
            "needs_background": "light"
          }
        }
      ]
    },
    {
      "cell_type": "code",
      "source": [
        "Mechanical_Load = 3.5\n",
        "Displacement = regressor1.predict(np.array([Mechanical_Load]).reshape(1,1))\n",
        "Capacitance = regressor2.predict(np.array([Displacement]).reshape(1,1))\n",
        "print('Given Load = {}'.format(Mechanical_Load))\n",
        "print('Displacement = {}'.format(Displacement))\n",
        "print('Capacitance = {}'.format(Capacitance))"
      ],
      "metadata": {
        "id": "JS15hVC_hqhj",
        "outputId": "3ce44eb1-55ff-4413-a0e6-aa09eacd561f",
        "colab": {
          "base_uri": "https://localhost:8080/"
        }
      },
      "execution_count": 22,
      "outputs": [
        {
          "output_type": "stream",
          "name": "stdout",
          "text": [
            "Given Load = 3.5\n",
            "Displacement = [0.11215095]\n",
            "Capacitance = [[2.09742493]]\n"
          ]
        }
      ]
    }
  ]
}