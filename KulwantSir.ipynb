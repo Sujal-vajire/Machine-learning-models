{
  "nbformat": 4,
  "nbformat_minor": 0,
  "metadata": {
    "colab": {
      "name": "Untitled0.ipynb",
      "provenance": [],
      "collapsed_sections": [],
      "include_colab_link": true
    },
    "kernelspec": {
      "name": "python3",
      "display_name": "Python 3"
    },
    "language_info": {
      "name": "python"
    }
  },
  "cells": [
    {
      "cell_type": "markdown",
      "metadata": {
        "id": "view-in-github",
        "colab_type": "text"
      },
      "source": [
        "<a href=\"https://colab.research.google.com/github/Sujal-vajire/Machine-learning-models/blob/main/KulwantSir.ipynb\" target=\"_parent\"><img src=\"https://colab.research.google.com/assets/colab-badge.svg\" alt=\"Open In Colab\"/></a>"
      ]
    },
    {
      "cell_type": "code",
      "execution_count": 1,
      "metadata": {
        "id": "XhAUWzFK6v5m"
      },
      "outputs": [],
      "source": [
        "import pandas as pd\n",
        "import numpy as np\n",
        "import matplotlib.pyplot as plt\n",
        "from sklearn.svm import SVC\n",
        "from sklearn.ensemble import RandomForestClassifier\n",
        "from sklearn.metrics import roc_curve,auc\n",
        "from sklearn.model_selection import train_test_split \n",
        "from xgboost import XGBRegressor\n",
        "import tensorflow as tf\n",
        "import xgboost as xgb\n",
        "import seaborn as sns\n",
        "from sklearn.preprocessing import MinMaxScaler"
      ]
    },
    {
      "cell_type": "code",
      "source": [
        "import numpy as np\n",
        "import matplotlib.pyplot as plt\n",
        "import sklearn  "
      ],
      "metadata": {
        "id": "iCl977okhp_j"
      },
      "execution_count": 2,
      "outputs": []
    },
    {
      "cell_type": "code",
      "source": [
        "from sklearn.linear_model import LinearRegression"
      ],
      "metadata": {
        "id": "pE-6c-7ShqD-"
      },
      "execution_count": 3,
      "outputs": []
    },
    {
      "cell_type": "code",
      "source": [
        "df = pd.read_csv(\"NewB.csv\")\n",
        "ld = df.drop(['Cap'], axis=1)"
      ],
      "metadata": {
        "id": "XqdTcB6B8h4n"
      },
      "execution_count": 4,
      "outputs": []
    },
    {
      "cell_type": "code",
      "source": [
        "Load = ld.iloc[:, :-1].values\n",
        "Dis = ld.iloc[:, -1].values"
      ],
      "metadata": {
        "id": "5aQ3NXRtmMfm"
      },
      "execution_count": 5,
      "outputs": []
    },
    {
      "cell_type": "code",
      "source": [
        "from sklearn.linear_model import LinearRegression\n",
        "regressor1 = LinearRegression()\n",
        "regressor1.fit(Load, Dis)\n"
      ],
      "metadata": {
        "id": "_Kl29M2nhqGr",
        "outputId": "ab1afa0f-96b9-4e58-a1be-d34ce79545af",
        "colab": {
          "base_uri": "https://localhost:8080/"
        }
      },
      "execution_count": 6,
      "outputs": [
        {
          "output_type": "execute_result",
          "data": {
            "text/plain": [
              "LinearRegression()"
            ]
          },
          "metadata": {},
          "execution_count": 6
        }
      ]
    },
    {
      "cell_type": "code",
      "source": [
        "Dis_pred = regressor1.predict(Load)"
      ],
      "metadata": {
        "id": "2QppBCl0lwJU"
      },
      "execution_count": 7,
      "outputs": []
    },
    {
      "cell_type": "code",
      "source": [
        "plt.plot(Load, Dis, color = 'red',linestyle='dashed')\n",
        "plt.plot(Load, regressor1.predict(Load), color = 'blue')\n",
        "\n",
        "plt.show()"
      ],
      "metadata": {
        "id": "XgzGjPtTmaji",
        "outputId": "2b9f3ba7-175b-451f-bd15-c987445df6ac",
        "colab": {
          "base_uri": "https://localhost:8080/",
          "height": 265
        }
      },
      "execution_count": 17,
      "outputs": [
        {
          "output_type": "display_data",
          "data": {
            "text/plain": [
              "<Figure size 432x288 with 1 Axes>"
            ],
            "image/png": "[encoded data removed]"
          },
          "metadata": {
            "needs_background": "light"
          }
        }
      ]
    },
    {
      "cell_type": "code",
      "source": [
        "dc = df.drop(['Load'], axis=1)"
      ],
      "metadata": {
        "id": "aXCyatYIhqOn"
      },
      "execution_count": 9,
      "outputs": []
    },
    {
      "cell_type": "code",
      "source": [
        "Cap = dc.iloc[:, -1].values"
      ],
      "metadata": {
        "id": "sDlf9SjFhqRo"
      },
      "execution_count": 10,
      "outputs": []
    },
    {
      "cell_type": "code",
      "source": [
        "Dis = Dis.reshape(-1, 1)\n",
        "Cap = Cap.reshape(-1, 1)"
      ],
      "metadata": {
        "id": "wlPcEmqas2_n"
      },
      "execution_count": 11,
      "outputs": []
    },
    {
      "cell_type": "code",
      "source": [
        "from sklearn.linear_model import LinearRegression\n",
        "regressor2 = LinearRegression()\n",
        "regressor2.fit(Dis, Cap)"
      ],
      "metadata": {
        "id": "LOkqO8j1hqW3",
        "outputId": "f23a69e6-369d-48a7-8973-6e4b8a0d1341",
        "colab": {
          "base_uri": "https://localhost:8080/"
        }
      },
      "execution_count": 12,
      "outputs": [
        {
          "output_type": "execute_result",
          "data": {
            "text/plain": [
              "LinearRegression()"
            ]
          },
          "metadata": {},
          "execution_count": 12
        }
      ]
    },
    {
      "cell_type": "code",
      "source": [
        "Cap_pred = regressor2.predict(Dis)"
      ],
      "metadata": {
        "id": "9WXFAlVahqZf"
      },
      "execution_count": 13,
      "outputs": []
    },
    {
      "cell_type": "code",
      "source": [
        "plt.plot(Dis, Cap, color = 'red',linestyle='dashed')\n",
        "plt.plot(Dis, regressor2.predict(Dis), color = 'blue')\n",
        "\n",
        "plt.show()"
      ],
      "metadata": {
        "id": "TOr9_y20hqcG",
        "outputId": "799df271-1d08-4cf4-b68a-cfa29ae44e79",
        "colab": {
          "base_uri": "https://localhost:8080/",
          "height": 265
        }
      },
      "execution_count": 16,
      "outputs": [
        {
          "output_type": "display_data",
          "data": {
            "text/plain": [
              "<Figure size 432x288 with 1 Axes>"
            ],
            "image/png": "[encoded data removed]"
          },
          "metadata": {
            "needs_background": "light"
          }
        }
      ]
    },
    {
      "cell_type": "code",
      "source": [
        "Mechanical_Load = 3.5\n",
        "Displacement = regressor1.predict(np.array([Mechanical_Load]).reshape(1,1))\n",
        "Capacitance = regressor2.predict(np.array([Displacement]).reshape(1,1))\n",
        "print('Given Load = {}'.format(Mechanical_Load))\n",
        "print('Displacement = {}'.format(Displacement))\n",
        "print('Capacitance = {}'.format(Capacitance))"
      ],
      "metadata": {
        "id": "JS15hVC_hqhj",
        "outputId": "6dd37f0a-21bd-460c-954f-b46b7a9ac100",
        "colab": {
          "base_uri": "https://localhost:8080/"
        }
      },
      "execution_count": 15,
      "outputs": [
        {
          "output_type": "stream",
          "name": "stdout",
          "text": [
            "Given Load = 3.5\n",
            "Displacement = [0.11215095]\n",
            "Capacitance = [[2.09742493]]\n"
          ]
        }
      ]
    },
    {
      "cell_type": "code",
      "source": [
        "loss = pd.read_csv(\"123.csv\")\n",
        "N = loss.iloc[:, -12].values\n",
        "DisE = loss.iloc[:, -8].values\n",
        "\n",
        "DisSE= loss.iloc[:, -6].values\n",
        "CapE = loss.iloc[:, -3].values\n",
        "\n",
        "CapSE= loss.iloc[:, -1].values\n"
      ],
      "metadata": {
        "id": "wdQqmmiZ_Jxt"
      },
      "execution_count": 56,
      "outputs": []
    },
    {
      "cell_type": "code",
      "source": [
        "plt.plot(N, DisE, color = 'red')\n"
      ],
      "metadata": {
        "id": "pHWm5tOq7Jj-",
        "outputId": "9918b913-b21f-40c8-aef7-455aab95c391",
        "colab": {
          "base_uri": "https://localhost:8080/",
          "height": 282
        }
      },
      "execution_count": 47,
      "outputs": [
        {
          "output_type": "execute_result",
          "data": {
            "text/plain": [
              "[<matplotlib.lines.Line2D at 0x7f3f6e18fc50>]"
            ]
          },
          "metadata": {},
          "execution_count": 47
        },
        {
          "output_type": "display_data",
          "data": {
            "text/plain": [
              "<Figure size 432x288 with 1 Axes>"
            ],
            "image/png": "[encoded data removed]"
          },
          "metadata": {
            "needs_background": "light"
          }
        }
      ]
    },
    {
      "cell_type": "code",
      "source": [
        "plt.plot(N, DisSE, color = 'red')"
      ],
      "metadata": {
        "id": "UUO6fcOpBooP",
        "outputId": "5b575d64-4e25-4b64-c64c-3dcff276fe54",
        "colab": {
          "base_uri": "https://localhost:8080/",
          "height": 282
        }
      },
      "execution_count": 57,
      "outputs": [
        {
          "output_type": "execute_result",
          "data": {
            "text/plain": [
              "[<matplotlib.lines.Line2D at 0x7f3f6df15a50>]"
            ]
          },
          "metadata": {},
          "execution_count": 57
        },
        {
          "output_type": "display_data",
          "data": {
            "text/plain": [
              "<Figure size 432x288 with 1 Axes>"
            ],
            "image/png": "[encoded data removed]"
          },
          "metadata": {
            "needs_background": "light"
          }
        }
      ]
    },
    {
      "cell_type": "code",
      "source": [
        "plt.plot(N, CapE, color = 'red')"
      ],
      "metadata": {
        "id": "tC05AkLv_viW",
        "outputId": "46e398cc-5695-4a05-d0a3-7ae09e044806",
        "colab": {
          "base_uri": "https://localhost:8080/",
          "height": 282
        }
      },
      "execution_count": 58,
      "outputs": [
        {
          "output_type": "execute_result",
          "data": {
            "text/plain": [
              "[<matplotlib.lines.Line2D at 0x7f3f6de63a10>]"
            ]
          },
          "metadata": {},
          "execution_count": 58
        },
        {
          "output_type": "display_data",
          "data": {
            "text/plain": [
              "<Figure size 432x288 with 1 Axes>"
            ],
            "image/png": "[encoded data removed]"
          },
          "metadata": {
            "needs_background": "light"
          }
        }
      ]
    },
    {
      "cell_type": "code",
      "source": [
        "plt.plot(N, CapSE, color = 'red')"
      ],
      "metadata": {
        "id": "eo2IfaNYBwrF",
        "outputId": "af4a2523-2423-4bc3-d862-f263d025973e",
        "colab": {
          "base_uri": "https://localhost:8080/",
          "height": 293
        }
      },
      "execution_count": 60,
      "outputs": [
        {
          "output_type": "execute_result",
          "data": {
            "text/plain": [
              "[<matplotlib.lines.Line2D at 0x7f3f6de51bd0>]"
            ]
          },
          "metadata": {},
          "execution_count": 60
        },
        {
          "output_type": "display_data",
          "data": {
            "text/plain": [
              "<Figure size 432x288 with 1 Axes>"
            ],
            "image/png": "[encoded data removed]"
          },
          "metadata": {
            "needs_background": "light"
          }
        }
      ]
    },
    {
      "cell_type": "code",
      "source": [],
      "metadata": {
        "id": "kYvLlQwGC2vP"
      },
      "execution_count": null,
      "outputs": []
    }
  ]
}